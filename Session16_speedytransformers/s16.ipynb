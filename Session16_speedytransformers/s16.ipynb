{
 "cells": [
  {
   "cell_type": "code",
   "execution_count": 1,
   "metadata": {
    "colab": {
     "base_uri": "https://localhost:8080/"
    },
    "id": "UiNmZgBhCXcJ",
    "outputId": "f9ac3d2f-8946-499f-96e6-d36337c4f95d"
   },
   "outputs": [
    {
     "name": "stdout",
     "output_type": "stream",
     "text": [
      "Keyring is skipped due to an exception: 'keyring.backends'\n",
      "Collecting torchtext==0.12.0\n",
      "  Downloading torchtext-0.12.0-cp37-cp37m-manylinux1_x86_64.whl (10.4 MB)\n",
      "\u001b[K     |████████████████████████████████| 10.4 MB 2.8 MB/s eta 0:00:01\n",
      "\u001b[?25hCollecting datasets\n",
      "  Downloading datasets-2.13.2-py3-none-any.whl (512 kB)\n",
      "\u001b[K     |████████████████████████████████| 512 kB 2.7 MB/s eta 0:00:01\n",
      "\u001b[?25hCollecting tensorboardX\n",
      "  Downloading tensorboardX-2.6.2.2-py2.py3-none-any.whl (101 kB)\n",
      "\u001b[K     |████████████████████████████████| 101 kB 3.4 MB/s ta 0:00:01\n",
      "\u001b[?25hRequirement already satisfied: torch==1.11.0 in /opt/conda/lib/python3.7/site-packages (from torchtext==0.12.0) (1.11.0+cu113)\n",
      "Requirement already satisfied: requests in /opt/conda/lib/python3.7/site-packages (from torchtext==0.12.0) (2.22.0)\n",
      "Requirement already satisfied: numpy in /opt/conda/lib/python3.7/site-packages (from torchtext==0.12.0) (1.21.6)\n",
      "Requirement already satisfied: tqdm in /opt/conda/lib/python3.7/site-packages (from torchtext==0.12.0) (4.66.1)\n",
      "Requirement already satisfied: aiohttp in /opt/conda/lib/python3.7/site-packages (from datasets) (3.8.5)\n",
      "Requirement already satisfied: packaging in /opt/conda/lib/python3.7/site-packages (from datasets) (23.1)\n",
      "Requirement already satisfied: importlib-metadata; python_version < \"3.8\" in /opt/conda/lib/python3.7/site-packages (from datasets) (6.7.0)\n",
      "Requirement already satisfied: pyyaml>=5.1 in /opt/conda/lib/python3.7/site-packages (from datasets) (6.0.1)\n",
      "Collecting multiprocess\n",
      "  Downloading multiprocess-0.70.15-py37-none-any.whl (116 kB)\n",
      "\u001b[K     |████████████████████████████████| 116 kB 3.6 MB/s eta 0:00:01\n",
      "\u001b[?25hCollecting xxhash\n",
      "  Downloading xxhash-3.3.0-cp37-cp37m-manylinux_2_17_x86_64.manylinux2014_x86_64.whl (194 kB)\n",
      "\u001b[K     |████████████████████████████████| 194 kB 4.3 MB/s eta 0:00:01\n",
      "\u001b[?25hCollecting dill<0.3.7,>=0.3.0\n",
      "  Downloading dill-0.3.6-py3-none-any.whl (110 kB)\n",
      "\u001b[K     |████████████████████████████████| 110 kB 3.5 MB/s eta 0:00:01\n",
      "\u001b[?25hRequirement already satisfied: pandas in /opt/conda/lib/python3.7/site-packages (from datasets) (1.0.1)\n",
      "Requirement already satisfied: huggingface-hub<1.0.0,>=0.11.0 in /opt/conda/lib/python3.7/site-packages (from datasets) (0.16.4)\n",
      "Requirement already satisfied: fsspec[http]>=2021.11.1 in /opt/conda/lib/python3.7/site-packages (from datasets) (2023.1.0)\n",
      "Collecting pyarrow>=8.0.0\n",
      "  Downloading pyarrow-12.0.1-cp37-cp37m-manylinux_2_17_x86_64.manylinux2014_x86_64.whl (39.1 MB)\n",
      "\u001b[K     |████████████████████████████████| 39.1 MB 1.7 MB/s eta 0:00:01     |█████████████████████           | 25.5 MB 1.5 MB/s eta 0:00:10\n",
      "\u001b[?25hCollecting protobuf>=3.20\n",
      "  Downloading protobuf-4.24.2-cp37-abi3-manylinux2014_x86_64.whl (311 kB)\n",
      "\u001b[K     |████████████████████████████████| 311 kB 2.1 MB/s eta 0:00:01\n",
      "\u001b[?25hRequirement already satisfied: typing-extensions in /opt/conda/lib/python3.7/site-packages (from torch==1.11.0->torchtext==0.12.0) (4.7.1)\n",
      "Requirement already satisfied: certifi>=2017.4.17 in /opt/conda/lib/python3.7/site-packages (from requests->torchtext==0.12.0) (2019.11.28)\n",
      "Requirement already satisfied: idna<2.9,>=2.5 in /opt/conda/lib/python3.7/site-packages (from requests->torchtext==0.12.0) (2.8)\n",
      "Requirement already satisfied: urllib3!=1.25.0,!=1.25.1,<1.26,>=1.21.1 in /opt/conda/lib/python3.7/site-packages (from requests->torchtext==0.12.0) (1.25.8)\n",
      "Requirement already satisfied: chardet<3.1.0,>=3.0.2 in /opt/conda/lib/python3.7/site-packages (from requests->torchtext==0.12.0) (3.0.4)\n",
      "Requirement already satisfied: attrs>=17.3.0 in /opt/conda/lib/python3.7/site-packages (from aiohttp->datasets) (19.3.0)\n",
      "Requirement already satisfied: async-timeout<5.0,>=4.0.0a3 in /opt/conda/lib/python3.7/site-packages (from aiohttp->datasets) (4.0.3)\n",
      "Requirement already satisfied: yarl<2.0,>=1.0 in /opt/conda/lib/python3.7/site-packages (from aiohttp->datasets) (1.9.2)\n",
      "Requirement already satisfied: frozenlist>=1.1.1 in /opt/conda/lib/python3.7/site-packages (from aiohttp->datasets) (1.3.3)\n",
      "Requirement already satisfied: aiosignal>=1.1.2 in /opt/conda/lib/python3.7/site-packages (from aiohttp->datasets) (1.3.1)\n",
      "Requirement already satisfied: asynctest==0.13.0; python_version < \"3.8\" in /opt/conda/lib/python3.7/site-packages (from aiohttp->datasets) (0.13.0)\n",
      "Requirement already satisfied: charset-normalizer<4.0,>=2.0 in /opt/conda/lib/python3.7/site-packages (from aiohttp->datasets) (3.2.0)\n",
      "Requirement already satisfied: multidict<7.0,>=4.5 in /opt/conda/lib/python3.7/site-packages (from aiohttp->datasets) (6.0.4)\n",
      "Requirement already satisfied: zipp>=0.5 in /opt/conda/lib/python3.7/site-packages (from importlib-metadata; python_version < \"3.8\"->datasets) (2.2.0)\n",
      "Requirement already satisfied: python-dateutil>=2.6.1 in /opt/conda/lib/python3.7/site-packages (from pandas->datasets) (2.8.1)\n",
      "Requirement already satisfied: pytz>=2017.2 in /opt/conda/lib/python3.7/site-packages (from pandas->datasets) (2019.3)\n",
      "Requirement already satisfied: filelock in /opt/conda/lib/python3.7/site-packages (from huggingface-hub<1.0.0,>=0.11.0->datasets) (3.0.12)\n",
      "Requirement already satisfied: six>=1.5 in /opt/conda/lib/python3.7/site-packages (from python-dateutil>=2.6.1->pandas->datasets) (1.14.0)\n",
      "\u001b[31mERROR: tensorflow 2.11.0 has requirement protobuf<3.20,>=3.9.2, but you'll have protobuf 4.24.2 which is incompatible.\u001b[0m\n",
      "\u001b[31mERROR: tensorboard 2.11.2 has requirement protobuf<4,>=3.9.2, but you'll have protobuf 4.24.2 which is incompatible.\u001b[0m\n",
      "\u001b[31mERROR: multiprocess 0.70.15 has requirement dill>=0.3.7, but you'll have dill 0.3.6 which is incompatible.\u001b[0m\n",
      "Installing collected packages: torchtext, dill, multiprocess, xxhash, pyarrow, datasets, protobuf, tensorboardX\n",
      "  Attempting uninstall: protobuf\n",
      "    Found existing installation: protobuf 3.19.6\n",
      "    Uninstalling protobuf-3.19.6:\n",
      "      Successfully uninstalled protobuf-3.19.6\n",
      "Successfully installed datasets-2.13.2 dill-0.3.6 multiprocess-0.70.15 protobuf-4.24.2 pyarrow-12.0.1 tensorboardX-2.6.2.2 torchtext-0.12.0 xxhash-3.3.0\n"
     ]
    }
   ],
   "source": [
    "!pip install torchtext==0.12.0 datasets tensorboardX"
   ]
  },
  {
   "cell_type": "code",
   "execution_count": 1,
   "metadata": {
    "id": "oDJJb31x3vdS"
   },
   "outputs": [],
   "source": [
    "from config import get_config\n",
    "\n",
    "cfg = get_config()\n",
    "cfg['batch_size'] = 32\n",
    "cfg['preload'] = None\n",
    "cfg['num_epochs'] = 90"
   ]
  },
  {
   "cell_type": "code",
   "execution_count": 2,
   "metadata": {
    "colab": {
     "base_uri": "https://localhost:8080/",
     "height": 248,
     "referenced_widgets": [
      "8968b1df98494699997834dffefc1171",
      "de0c8c4e6b98486cab098e70df613401",
      "139bf5ee642b4241b25afeda3c111b91",
      "a3016475f0b449e49454089235a3a37b",
      "3238487c407e463b801675b6bc36cf7f",
      "0e49ea5914d244a1ae3c1849daab7a4c",
      "2ef8106a9a4c4bf692d6c76854f1e945",
      "cf30573908ab49a5b39943b8d357d534",
      "60c225cd1f164ae184f82ceda697b789",
      "36633c66ec684af086f2019d90a80ba9",
      "6e712f1bc78642a39ff9280298d4f3f4",
      "5d08788d606046f3ae750202571ee942",
      "befc41b483264aef8d540cb112c58e37",
      "629853771f0b4679a9259e91806d4524",
      "853dfeb95d964e5e9f2df01f208b2c22",
      "524d9ebff4c349a4abb4d749972e00ef",
      "99594a1f2c2c42bab8a3677e1144da2b",
      "c095b63ca4a84262988df9f91eb88842",
      "1c535ac18fbc4fb79c783a790e8baa21",
      "dac287a0e467416fba03bf53e612fd6f",
      "e8942b81e63549dcbe3a7fcdeacffec0",
      "6387bc3f18614c7d85e014bda08d2ca3",
      "58e08a9713f144a086de261c0582d85c",
      "28c0656e580445cea3396f42853c0a8c",
      "f924915c22414923a11bda2d9d349d1e",
      "7f437a7c99094ed9b366a0f4c75e48ae",
      "8890add9bd864e6db9c355c578f6b4a8",
      "9041b147ed4944d98aa08f013634aa99",
      "8f272f2411144d44af509bb9453b2342",
      "2f3e3b513660433cbd81d591b4d84ab1",
      "5b3c88131f9f4d478849220627be9039",
      "e0b25f852eee4d499b12a5c9cfae06da",
      "5323904a6ea6493f8e0930ae41207e4f",
      "dddaad5f150747caa3257be996bf17de",
      "673a9469cb294296a34cb05e39e7841f",
      "3932ccf37b424d5c8343f05e8f935233",
      "280a03e2f6bf4b81a8a54bcbca26565b",
      "2a4e2a76d9cc4cb997124fb4c0ffd59b",
      "52d959316a944f258cddb287056ea547",
      "dc0c802381a44bb082dba11213499b72",
      "2855d19fe2cf4c7bba9990b0a5e5c02b",
      "a690d30e1a404303be8f78b7a68393e0",
      "6b75dbfe88734b14befee850b78328b9",
      "b52ef85ce6384d6eb212df2f2e4435e0",
      "bed56b86d3544f8aa589611fe2a9b16b",
      "2c8abd1f649544f3af7ff7c1019b8a00",
      "b6e94183153d4e4391eec8089ab3a8d6",
      "926a42f44d984d58ae1b9d57e3853976",
      "eaa6fa8af0da4f48b68cfde87285d272",
      "c8ed6dfd31344d30a89b0a82a9beabf5",
      "28cd4a1786ed4629b612bc40270ddc26",
      "b4f2e8fe9fa7420187475c75d34b6932",
      "736272ef7338412381b901ebf9457c96",
      "6dfdc9d03baf41378a5ab767cfc820f3",
      "84fd32d5dae445f3ac23ce0031c0a628"
     ]
    },
    "id": "qAJ1lMpmaNep",
    "outputId": "9cd3aed6-ad9d-4740-9e4d-941062acd616"
   },
   "outputs": [
    {
     "name": "stdout",
     "output_type": "stream",
     "text": [
      "Using device:  cuda:3\n"
     ]
    },
    {
     "name": "stderr",
     "output_type": "stream",
     "text": [
      "Found cached dataset opus_books (/root/.cache/huggingface/datasets/opus_books/en-fr/1.0.0/e8f950a4f32dc39b7f9088908216cd2d7e21ac35f893d04d39eb594746af2daf)\n",
      "100%|██████████| 127085/127085 [00:10<00:00, 12199.59it/s]\n"
     ]
    },
    {
     "name": "stdout",
     "output_type": "stream",
     "text": [
      "Max length of source sentence: 150\n",
      "Max length of target sentence: 161\n"
     ]
    },
    {
     "name": "stderr",
     "output_type": "stream",
     "text": [
      "Processing Epoch 00: 100%|██████████| 2564/2564 [04:46<00:00,  8.96it/s, loss=4.298]\n"
     ]
    },
    {
     "name": "stdout",
     "output_type": "stream",
     "text": [
      "--------------------------------------------------------------------------------\n",
      "    SOURCE: So I was marveling at this delightful sunrise, so life-giving and cheerful, when I heard someone climbing onto the platform.\n",
      "    TARGET: J'admirai donc ce joyeux lever de soleil, si gai, si vivifiant, lorsque j'entendis quelqu'un monter vers la plate-forme.\n",
      " PREDICTED: Je me que j ' avais été , et la vie , j ' avais été près de la mer .\n",
      "--------------------------------------------------------------------------------\n",
      "    SOURCE: There was talk of shutting him up with the madmen, but I was not willing; they would have done for him in his soup.\n",
      "    TARGET: Il était question de le mettre chez les fous, je n'ai pas voulu, on lui aurait fichu son paquet dans un bouillon…\n",
      " PREDICTED: Il y avait de la main de la main , mais je ne ne l ' ai pas , mais ils ne l ' avait pas .\n",
      "--------------------------------------------------------------------------------\n"
     ]
    },
    {
     "name": "stderr",
     "output_type": "stream",
     "text": [
      "Processing Epoch 01: 100%|██████████| 2564/2564 [04:38<00:00,  9.21it/s, loss=3.287]\n"
     ]
    },
    {
     "name": "stdout",
     "output_type": "stream",
     "text": [
      "--------------------------------------------------------------------------------\n",
      "    SOURCE: How can I tell what people feel in the middle of a great action? .. .' These lofty thoughts were interrupted by the sudden arrival of Mademoiselle de La Mole, who at this moment entered the library.\n",
      "    TARGET: Qui sait ce qu’on éprouve à moitié chemin d’une grande action ?… Ces hautes pensées furent troublées par l’arrivée imprévue de Mlle de La Mole, qui entrait dans la bibliothèque.\n",
      " PREDICTED: Que je sais que ces gens - là - là ? – C ’ était dans la grande grande nouvelle de La Mole , qui était resté à la chambre de La Mole , qui entra dans la chambre .\n",
      "--------------------------------------------------------------------------------\n",
      "    SOURCE: And she threw herself upon his mouth, as if to seize there the unexpected consent if breathed forth in a kiss.\n",
      "    TARGET: Et elle se précipita sur sa bouche, comme pour y saisir le consentement inattendu qui s’en exhalait dans un baiser.\n",
      " PREDICTED: Et elle se jeta sur sa bouche , comme si si l ' se .\n",
      "--------------------------------------------------------------------------------\n"
     ]
    },
    {
     "name": "stderr",
     "output_type": "stream",
     "text": [
      "Processing Epoch 02: 100%|██████████| 2564/2564 [04:38<00:00,  9.21it/s, loss=3.257]\n"
     ]
    },
    {
     "name": "stdout",
     "output_type": "stream",
     "text": [
      "--------------------------------------------------------------------------------\n",
      "    SOURCE: He could find nothing that was not quite simple in his case: 'I sought to kill, I must be killed.'\n",
      "    TARGET: Il ne trouvait rien que de simple dans son affaire : J’ai voulu tuer, je dois être tué.\n",
      " PREDICTED: Il ne pouvait rien dire que c ’ était vrai , je voulus tuer , je voulus tuer , je serais tué tuer .\n",
      "--------------------------------------------------------------------------------\n",
      "    SOURCE: But to return to my Journal.\n",
      "    TARGET: Mais retournons à mon journal.\n",
      " PREDICTED: Mais à revenir à mon .\n",
      "--------------------------------------------------------------------------------\n"
     ]
    },
    {
     "name": "stderr",
     "output_type": "stream",
     "text": [
      "Processing Epoch 03: 100%|██████████| 2564/2564 [04:45<00:00,  8.99it/s, loss=3.383]\n"
     ]
    },
    {
     "name": "stdout",
     "output_type": "stream",
     "text": [
      "--------------------------------------------------------------------------------\n",
      "    SOURCE: \"But I do.\n",
      "    TARGET: – Moi, j’y crois.\n",
      " PREDICTED: -- Mais je ferai .\n",
      "--------------------------------------------------------------------------------\n",
      "    SOURCE: – Eh bien ! que le capitaine lui-même me donne l’ordre !\n",
      "    TARGET: \"Very well, then! The captain can give me the order himself!\n",
      " PREDICTED: \" Very well , what the captain me to him !\n",
      "--------------------------------------------------------------------------------\n"
     ]
    },
    {
     "name": "stderr",
     "output_type": "stream",
     "text": [
      "Processing Epoch 04: 100%|██████████| 2564/2564 [04:37<00:00,  9.23it/s, loss=3.686]\n"
     ]
    },
    {
     "name": "stdout",
     "output_type": "stream",
     "text": [
      "--------------------------------------------------------------------------------\n",
      "    SOURCE: By then we were forced to go back down to the beach because the ridge had become impossible.\n",
      "    TARGET: Nous dûmes alors redescendre vers le rivage, car la crête devenait impraticable.\n",
      " PREDICTED: Puis , nous étions renversés sur la grève , parce que la crête était devenu impossible .\n",
      "--------------------------------------------------------------------------------\n",
      "    SOURCE: It was a heavy fire which overwhelmed these wretches with a thousand hailstones.\n",
      "    TARGET: C’était un feu pesant qui criblait ces misérables de mille grêlons.\n",
      " PREDICTED: C ' était un gros feu qui ces misérables qui .\n",
      "--------------------------------------------------------------------------------\n"
     ]
    },
    {
     "name": "stderr",
     "output_type": "stream",
     "text": [
      "Processing Epoch 05: 100%|██████████| 2564/2564 [04:39<00:00,  9.17it/s, loss=4.742]\n"
     ]
    },
    {
     "name": "stdout",
     "output_type": "stream",
     "text": [
      "--------------------------------------------------------------------------------\n",
      "    SOURCE: Then the scholar said, with an air which was both grave and resolute: \"Well, brother, I am sorry to be obliged to tell you that very fine offers and propositions are being made to me in another quarter.\n",
      "    TARGET: L’écolier dit alors d’un air grave et résolu en même temps : « Eh bien, mon frère, je suis fâché d’avoir à vous dire qu’on me fait d’autre part de très belles offres et propositions.\n",
      " PREDICTED: Alors l ’ écolier dit avec un air grave et sérieux : « Eh bien , mon frère , je suis fâché de vous dire que vous êtes fait un quart de plus en plus .\n",
      "--------------------------------------------------------------------------------\n",
      "    SOURCE: The open-sea plants had already left behind the increasingly arid seafloor, where a prodigious number of animals were still swarming: zoophytes, articulates, mollusks, and fish.\n",
      "    TARGET: Les plantes pélagiennes abandonnaient déjà le sol devenu aride, qu'un nombre prodigieux d'animaux, zoophytes, articulés, mollusques et poissons y pullulaient encore.\n",
      " PREDICTED: La mer libre avait déjà quitté derrière le sol couvert de , où un nombre prodigieux de animaux , des et de poissons .\n",
      "--------------------------------------------------------------------------------\n"
     ]
    },
    {
     "name": "stderr",
     "output_type": "stream",
     "text": [
      "Processing Epoch 06: 100%|██████████| 2564/2564 [04:34<00:00,  9.33it/s, loss=3.496]\n"
     ]
    },
    {
     "name": "stdout",
     "output_type": "stream",
     "text": [
      "--------------------------------------------------------------------------------\n",
      "    SOURCE: 'Make of it?' says he; 'why, who says I was deceived when I married a wife in Lancashire?\n",
      "    TARGET: Mais qui donc prétend que je me suis fait duper quand j'ai épousé ma femme dans le Lancashire?\n",
      " PREDICTED: -- Y a - t - il ? dit - il , pourquoi , je me suis trompée quand je épousé une femme du Lancashire ?\n",
      "--------------------------------------------------------------------------------\n",
      "    SOURCE: – Ce matin à six heures.\n",
      "    TARGET: \"This morning, at six o'clock.\"\n",
      " PREDICTED: \" This morning at six hours .\"\n",
      "--------------------------------------------------------------------------------\n"
     ]
    },
    {
     "name": "stderr",
     "output_type": "stream",
     "text": [
      "Processing Epoch 07: 100%|██████████| 2564/2564 [04:40<00:00,  9.13it/s, loss=2.691]\n"
     ]
    },
    {
     "name": "stdout",
     "output_type": "stream",
     "text": [
      "--------------------------------------------------------------------------------\n",
      "    SOURCE: Moreover, this phenomenon of an architecture of the people following an architecture of caste, which we have just been observing in the Middle Ages, is reproduced with every analogous movement in the human intelligence at the other great epochs of history.\n",
      "    TARGET: Du reste, ce phénomène d’une architecture de peuple succédant à une architecture de caste que nous venons d’observer dans le moyen âge, se reproduit avec tout mouvement analogue dans l’intelligence humaine aux autres grandes époques de l’histoire.\n",
      " PREDICTED: Du reste ce phénomène d ’ un homme de l ’ architecture suivant une architecture de caste , que nous venons d ’ observer au moyen âge , est de tout le monde d ’ un autre côté .\n",
      "--------------------------------------------------------------------------------\n",
      "    SOURCE: A few years ago, while visiting or, rather, rummaging about Notre−Dame, the author of this book found, in an obscure nook of one of the towers, the following word, engraved by hand upon the wall:−−\n",
      "    TARGET: Il y a quelques années qu’en visitant, ou, pour mieux dire, en furetant Notre-Dame, l’auteur de ce livre trouva, dans un recoin obscur de l’une des tours ce mot, gravé à la main sur le mur :\n",
      " PREDICTED: Quelques années y sont , pendant quelques ou moins , sur Notre - Dame , l ’ auteur de ce livre , dans un coin obscur de la , le mot suivant la .\n",
      "--------------------------------------------------------------------------------\n"
     ]
    },
    {
     "name": "stderr",
     "output_type": "stream",
     "text": [
      "Processing Epoch 08: 100%|██████████| 2564/2564 [04:36<00:00,  9.27it/s, loss=3.336]\n"
     ]
    },
    {
     "name": "stdout",
     "output_type": "stream",
     "text": [
      "--------------------------------------------------------------------------------\n",
      "    SOURCE: She then sat still five minutes longer; but unable to waste such a precious occasion, she suddenly got up, and saying to Kitty, \"Come here, my love, I want to speak to you,\" took her out of the room.\n",
      "    TARGET: Bennet se tint tranquille cinq minutes ; mais elle ne pouvait se résoudre a perdre un temps aussi précieux. A la fin, elle se leva et dit soudain a Kitty : – Venez, ma chérie ; j’ai a vous parler.\n",
      " PREDICTED: Elle resta cinq minutes encore cinq minutes ; mais ne pouvant pas perdre une pareille occasion , elle se leva soudain : « Allons , mon amour , je veux vous parler de la chambre .\n",
      "--------------------------------------------------------------------------------\n",
      "    SOURCE: \"Hang it!\" cried the sailor. \"I would rather remain all alone to guard it: and trust to Pencroft, they shouldn't steal it from him, like a watch from the pocket of a swell!\"\n",
      "    TARGET: -- Mille diables! s'écria le marin, j'y resterai plutôt tout seul pour la garder, et, foi de Pencroff, on ne me la volerait pas comme une montre dans la poche d'un badaud!»\n",
      " PREDICTED: -- - le ! s ' écria le marin , je resterais seul tout seul , et il faut croire à Pencroff , ils ne l ' ont pas ôté une montre de l ' !\n",
      "--------------------------------------------------------------------------------\n"
     ]
    },
    {
     "name": "stderr",
     "output_type": "stream",
     "text": [
      "Processing Epoch 09: 100%|██████████| 2564/2564 [04:37<00:00,  9.24it/s, loss=3.378]\n"
     ]
    },
    {
     "name": "stdout",
     "output_type": "stream",
     "text": [
      "--------------------------------------------------------------------------------\n",
      "    SOURCE: Startled by these reproaches in the midst of his report, Dansaert denied, stammered excuses, while his great nose confessed the crime by its sudden redness.\n",
      "    TARGET: Effaré de ces reproches, au travers de son rapport, Dansaert niait, bégayait des excuses, tandis que son grand nez avouait le crime, par sa rougeur subite.\n",
      " PREDICTED: De ces reproches en se , Dansaert , , en excuses , que son grand nez avait par sa rougeur .\n",
      "--------------------------------------------------------------------------------\n",
      "    SOURCE: A cette pensée, ses regards prirent une teinte de malheur.\n",
      "    TARGET: At this thought his eyes became tinged with regret.\n",
      " PREDICTED: Une pensée , son regard aigu , a .\n",
      "--------------------------------------------------------------------------------\n"
     ]
    },
    {
     "name": "stderr",
     "output_type": "stream",
     "text": [
      "Processing Epoch 10: 100%|██████████| 2564/2564 [04:39<00:00,  9.16it/s, loss=3.762]\n"
     ]
    },
    {
     "name": "stdout",
     "output_type": "stream",
     "text": [
      "--------------------------------------------------------------------------------\n",
      "    SOURCE: X\n",
      "    TARGET: CHAPITRE X\n",
      " PREDICTED: CHAPITRE X\n",
      "--------------------------------------------------------------------------------\n",
      "    SOURCE: At court, provided you have ever the honor to go there,\" continued M. d’Artagnan the elder, \"--an honor to which, remember, your ancient nobility gives you the right--sustain worthily your name of gentleman, which has been worthily borne by your ancestors for five hundred years, both for your own sake and the sake of those who belong to you.\n",
      "    TARGET: À la cour, continua M. d'Artagnan père, si toutefois vous avez l'honneur d'y aller, honneur auquel, du reste, votre vieille noblesse vous donne des droits, soutenez dignement votre nom de gentilhomme, qui a été porté dignement par vos ancêtres depuis plus de cinq cents ans.\n",
      " PREDICTED: À la cour , pourvu que vous n ' avez jamais l ' honneur d ' aller , continua M . d ' Artagnan l ' aîné , votre noblesse ou vous avez droit , votre nom , garde - vous de votre gentilhomme qui a été par vos cinq ans et vous qui vous avez de celles qui ont pour vous , et qui vous appartiennent .\n",
      "--------------------------------------------------------------------------------\n"
     ]
    },
    {
     "name": "stderr",
     "output_type": "stream",
     "text": [
      "Processing Epoch 11: 100%|██████████| 2564/2564 [04:35<00:00,  9.32it/s, loss=2.737]\n"
     ]
    },
    {
     "name": "stdout",
     "output_type": "stream",
     "text": [
      "--------------------------------------------------------------------------------\n",
      "    SOURCE: \"Yes.\"\n",
      "    TARGET: -- Si.\n",
      " PREDICTED: -- Oui .\n",
      "--------------------------------------------------------------------------------\n",
      "    SOURCE: The wretched being's misery became as incurable and as complete as his deformity.\n",
      "    TARGET: La mélancolie du misérable devint incurable et complète comme sa difformité.\n",
      " PREDICTED: La malheureuse se en et aussi complète que sa nature .\n",
      "--------------------------------------------------------------------------------\n"
     ]
    },
    {
     "name": "stderr",
     "output_type": "stream",
     "text": [
      "Processing Epoch 12: 100%|██████████| 2564/2564 [04:35<00:00,  9.30it/s, loss=2.128]\n"
     ]
    },
    {
     "name": "stdout",
     "output_type": "stream",
     "text": [
      "--------------------------------------------------------------------------------\n",
      "    SOURCE: \"We'll soon find out!\" Conseil said.\n",
      "    TARGET: -- Nous verrons bien ! » dit Conseil.\n",
      " PREDICTED: -- Nous verrons bien ! dit Conseil .\n",
      "--------------------------------------------------------------------------------\n",
      "    SOURCE: \"But who is SHE?\"\n",
      "    TARGET: -- Mais, qui donc, elle?\n",
      " PREDICTED: – Mais qui est elle ?\n",
      "--------------------------------------------------------------------------------\n"
     ]
    },
    {
     "name": "stderr",
     "output_type": "stream",
     "text": [
      "Processing Epoch 13: 100%|██████████| 2564/2564 [04:36<00:00,  9.26it/s, loss=2.503]\n"
     ]
    },
    {
     "name": "stdout",
     "output_type": "stream",
     "text": [
      "--------------------------------------------------------------------------------\n",
      "    SOURCE: \"No, indeed!\"\n",
      "    TARGET: -- Nullement.\n",
      " PREDICTED: -- Non , en effet !\n",
      "--------------------------------------------------------------------------------\n",
      "    SOURCE: The night was very dark.\n",
      "    TARGET: La nuit était très noire.\n",
      " PREDICTED: La nuit était très obscure .\n",
      "--------------------------------------------------------------------------------\n"
     ]
    },
    {
     "name": "stderr",
     "output_type": "stream",
     "text": [
      "Processing Epoch 14: 100%|██████████| 2564/2564 [04:37<00:00,  9.25it/s, loss=2.272]\n"
     ]
    },
    {
     "name": "stdout",
     "output_type": "stream",
     "text": [
      "--------------------------------------------------------------------------------\n",
      "    SOURCE: Le comte avait refusé de prendre du service en Autriche, on fit valoir ce refus, et, quelques mois après la mort de Prina, les mêmes personnages qui avaient payé les assassins obtinrent que le général Pietranera serait jeté en prison.\n",
      "    TARGET: The Conte had refused to take service in Austria; this refusal was remembered against him, and, a few months after the death of Prina, the same persons who had hired the assassins contrived that General Pietranera should be flung into prison.\n",
      " PREDICTED: The Conte had refused to take any of the service an Austrian territory , a few months afterwards after death of the who had look bad even the thanks he would be in prison .\n",
      "--------------------------------------------------------------------------------\n",
      "    SOURCE: \"Quite so,\" I stammered; \"I forgot.\"\n",
      "    TARGET: --C'est juste, balbutiai-je, j'avais oublié.\n",
      " PREDICTED: -- C ' est tout juste , balbutiai - je .\n",
      "--------------------------------------------------------------------------------\n"
     ]
    },
    {
     "name": "stderr",
     "output_type": "stream",
     "text": [
      "Processing Epoch 15: 100%|██████████| 2564/2564 [04:36<00:00,  9.26it/s, loss=3.884]\n"
     ]
    },
    {
     "name": "stdout",
     "output_type": "stream",
     "text": [
      "--------------------------------------------------------------------------------\n",
      "    SOURCE: That was not the only night on which, awakened by the sound of his steps, I found him thus, about one in the morning, treading the attic and lumber-rooms, as do sailors who cannot lose the habit of pacing the deck on night watch and who, in the quiet of their Breton holding, get up and dress of a night, at the regulation hour, to keep a land watch.\n",
      "    TARGET: Ce ne fut pas la seule nuit où, réveillé par le bruit de ses pas, je le trouvai ainsi, vers une heure du matin, déambulant à travers la chambre et les greniers – comme ces marins qui n’ont pu se déshabituer de faire le quart et qui, au fond de leurs propriétés bretonnes, se lèvent et s’habillent à l’heure réglementaire pour surveiller la nuit terrienne.\n",
      " PREDICTED: Ce n ' était pas la seule nuit qui , éveillé par le bruit de ses pas , je l ' aperçus et d ' une dans le matin du grenier , comme des matelots qui le pont de la nuit sur la nuit et qui , à la nuit de guetter leur robe de nuit , se tenir à une heure de la nuit .\n",
      "--------------------------------------------------------------------------------\n",
      "    SOURCE: Cela sentait la mer.\n",
      "    TARGET: That smacked of the sea.\n",
      " PREDICTED: So she was at the air .\n",
      "--------------------------------------------------------------------------------\n"
     ]
    },
    {
     "name": "stderr",
     "output_type": "stream",
     "text": [
      "Processing Epoch 16: 100%|██████████| 2564/2564 [04:34<00:00,  9.36it/s, loss=1.969]\n"
     ]
    },
    {
     "name": "stdout",
     "output_type": "stream",
     "text": [
      "--------------------------------------------------------------------------------\n",
      "    SOURCE: But Pierre felt that he must unburden his heart. He told Jean all hissuspicions, his arguments, his struggles, his assurance, and the historyof the portrait--which had again disappeared.\n",
      "    TARGET: Mais il fallait qu'il vidât son coeur! et il dit tout, ses soupçons,ses raisonnements, ses luttes, sa certitude, et l'histoire du portraitencore une fois disparu.\n",
      " PREDICTED: Mais Pierre sentit qu ' il son coeur , il lui raconta toutes les , ses raisonnements , son assurance et le , qui avait disparu du portrait , avait disparu .\n",
      "--------------------------------------------------------------------------------\n",
      "    SOURCE: \"Are you not diverted?\"\n",
      "    TARGET: – Cela ne vous amuse pas ?\n",
      " PREDICTED: -- N ’ êtes - vous pas ?\n",
      "--------------------------------------------------------------------------------\n"
     ]
    },
    {
     "name": "stderr",
     "output_type": "stream",
     "text": [
      "Processing Epoch 17: 100%|██████████| 2564/2564 [04:36<00:00,  9.26it/s, loss=1.883]\n"
     ]
    },
    {
     "name": "stdout",
     "output_type": "stream",
     "text": [
      "--------------------------------------------------------------------------------\n",
      "    SOURCE: \"That’s well!\" said Athos, filling his glass and that of his friend; \"here’s to Porthos and Aramis! But you, d’Artagnan, what is the matter with you, and what has happened to you personally?\n",
      "    TARGET: «C'est bien, dit Athos en remplissant son verre et celui de d'Artagnan, voilà pour Porthos et pour Aramis; mais vous, mon ami, qu'avez-vous et que vous est-il arrivé personnellement?\n",
      " PREDICTED: « C ' est bien ! dit Athos , remplit son verre et celui de son ami ; voilà donc à Porthos et Aramis , mais d ' Artagnan , quoi fait - il , de vous quoi s ' est - ce qui vous arrive ?\n",
      "--------------------------------------------------------------------------------\n",
      "    SOURCE: \"A dog!\" said Holmes.\n",
      "    TARGET: « Un chien ! fit Holmes.\n",
      " PREDICTED: – chien ! dit Holmes .\n",
      "--------------------------------------------------------------------------------\n"
     ]
    },
    {
     "name": "stderr",
     "output_type": "stream",
     "text": [
      "Processing Epoch 18: 100%|██████████| 2564/2564 [04:37<00:00,  9.23it/s, loss=2.002]\n"
     ]
    },
    {
     "name": "stdout",
     "output_type": "stream",
     "text": [
      "--------------------------------------------------------------------------------\n",
      "    SOURCE: It was the prognostication of the philosopher who sees human thought, volatilized by the press, evaporating from the theocratic recipient.\n",
      "    TARGET: Pronostic du philosophe qui voit la pensée humaine, volatilisée par la presse, s’évaporer du récipient théocratique.\n",
      " PREDICTED: C ’ était le glas du philosophe qui voit la pensée humaine , par le presse , des .\n",
      "--------------------------------------------------------------------------------\n",
      "    SOURCE: \"No, no, Ned.\"\n",
      "    TARGET: -- Non, non, Ned.\n",
      " PREDICTED: -- Non , Ned .\n",
      "--------------------------------------------------------------------------------\n"
     ]
    },
    {
     "name": "stderr",
     "output_type": "stream",
     "text": [
      "Processing Epoch 19: 100%|██████████| 2564/2564 [04:38<00:00,  9.21it/s, loss=1.773]\n"
     ]
    },
    {
     "name": "stdout",
     "output_type": "stream",
     "text": [
      "--------------------------------------------------------------------------------\n",
      "    SOURCE: \"Not a great deal, to be sure,\" agreed Bessie: \"at any rate, a beauty like Miss Georgiana would be more moving in the same condition.\" \"Yes, I doat on Miss Georgiana!\" cried the fervent Abbot.\n",
      "    TARGET: -- C'est vrai, dit Bessie en hésitant; il est certain qu'une beauté comme Mlle Georgiana vous toucherait plus, si elle était dans la même position.\n",
      " PREDICTED: -- Sans doute , n ' est - ce pas , j ' en ai bien du même temps , Bessie , comme Mlle Georgiana allait plus bouger dans la même situation .\n",
      "--------------------------------------------------------------------------------\n",
      "    SOURCE: As for Madame de Renal, her hand lying clasped in Julien's, she had no thought of anything; she was allowing herself to live.\n",
      "    TARGET: Pour Mme de Rênal, la main dans celle de Julien, elle ne pensait à rien ; elle se laissait vivre.\n",
      " PREDICTED: Quant à Mme de Rênal , sa main se serrait dans le direction de Julien , elle ne songeait nullement ; elle se laissait vivre .\n",
      "--------------------------------------------------------------------------------\n"
     ]
    },
    {
     "name": "stderr",
     "output_type": "stream",
     "text": [
      "Processing Epoch 20: 100%|██████████| 2564/2564 [04:37<00:00,  9.24it/s, loss=1.618]\n"
     ]
    },
    {
     "name": "stdout",
     "output_type": "stream",
     "text": [
      "--------------------------------------------------------------------------------\n",
      "    SOURCE: \"The father's dead!\"\n",
      "    TARGET: —Le pere est mort!\n",
      " PREDICTED: -- Le père est mort !\n",
      "--------------------------------------------------------------------------------\n",
      "    SOURCE: The latter had just time to bid farewell to Monsieur Bovary.\n",
      "    TARGET: Ce dernier avait juste le temps de faire ses adieux à M. Bovary.\n",
      " PREDICTED: Celle - ci venait de temps faire signe à M . Bovary .\n",
      "--------------------------------------------------------------------------------\n"
     ]
    },
    {
     "name": "stderr",
     "output_type": "stream",
     "text": [
      "Processing Epoch 21: 100%|██████████| 2564/2564 [04:39<00:00,  9.18it/s, loss=1.814]\n"
     ]
    },
    {
     "name": "stdout",
     "output_type": "stream",
     "text": [
      "--------------------------------------------------------------------------------\n",
      "    SOURCE: 'The trial cannot proceed,' said the King in a very grave voice, 'until all the jurymen are back in their proper places-- all,' he repeated with great emphasis, looking hard at Alice as he said do.\n",
      "    TARGET: « Le procès ne peut continuer, » dit le Roi d’une voix grave, « avant que les jurés soient tous à leurs places ; tous ! » répéta-t-il avec emphase en regardant fixement Alice.\n",
      " PREDICTED: « Le cas ne peut aller ,» dit le Roi à une voix très grave , « jusqu ’ à ce que l ’ on dans leurs places convenable , » répéta - t - il assez à Alice en l ’ air .\n",
      "--------------------------------------------------------------------------------\n",
      "    SOURCE: \"And that name of a town or village is written in her hand!\" cried Athos.\n",
      "    TARGET: -- Et ce nom de ville ou de village est écrit de sa main! s'écria Athos.\n",
      " PREDICTED: -- Et ce nom d ' une ville ou du village est écrit à sa main ! s ' écria Athos .\n",
      "--------------------------------------------------------------------------------\n"
     ]
    },
    {
     "name": "stderr",
     "output_type": "stream",
     "text": [
      "Processing Epoch 22: 100%|██████████| 2564/2564 [04:38<00:00,  9.20it/s, loss=1.787]\n"
     ]
    },
    {
     "name": "stdout",
     "output_type": "stream",
     "text": [
      "--------------------------------------------------------------------------------\n",
      "    SOURCE: At this point, the Conte's carriage, which was taking Julien home, stopped at the Hotel de La Mole.\n",
      "    TARGET: À ces mots, la voiture du comte, qui ramenait Julien, s’arrêta devant l’hôtel de La Mole.\n",
      " PREDICTED: En ce point , la voiture du comte , qui tenait Julien chez lui , s ’ arrêta à l ’ hôtel de La Mole .\n",
      "--------------------------------------------------------------------------------\n",
      "    SOURCE: \"There you are! what did I tell you?\"\n",
      "    TARGET: « Et voila ! Qu’est-ce que je t’avais dit ! »\n",
      " PREDICTED: -- Ah ! vous , que m ' a dit - il ?\n",
      "--------------------------------------------------------------------------------\n"
     ]
    },
    {
     "name": "stderr",
     "output_type": "stream",
     "text": [
      "Processing Epoch 23: 100%|██████████| 2564/2564 [04:36<00:00,  9.28it/s, loss=1.750]\n"
     ]
    },
    {
     "name": "stdout",
     "output_type": "stream",
     "text": [
      "--------------------------------------------------------------------------------\n",
      "    SOURCE: On the 10th of November, about eight o'clock in the evening, as night was coming on, the stranger appeared unexpectedly before the settlers, who were assembled under the veranda.\n",
      "    TARGET: Le 10 novembre, vers huit heures du soir, au moment où l'obscurité commençait à se faire, l'inconnu se présenta inopinément devant les colons, qui étaient réunis sous la véranda.\n",
      " PREDICTED: Le 10 novembre , vers huit heures du soir , à la , comme la nuit venait , l ' inconnu parut arriver à l ' inconnu , qui étaient réunis sous la nuit .\n",
      "--------------------------------------------------------------------------------\n",
      "    SOURCE: \"And what is your theory of this poor fellow's death?\"\n",
      "    TARGET: – Et quelle est votre thèse sur la mort de ce pauvre diable ?\n",
      " PREDICTED: -- Et quelle est votre théorie de ce pauvre diable ?\n",
      "--------------------------------------------------------------------------------\n"
     ]
    },
    {
     "name": "stderr",
     "output_type": "stream",
     "text": [
      "Processing Epoch 24: 100%|██████████| 2564/2564 [04:34<00:00,  9.35it/s, loss=1.880]\n"
     ]
    },
    {
     "name": "stdout",
     "output_type": "stream",
     "text": [
      "--------------------------------------------------------------------------------\n",
      "    SOURCE: This had occurred in the two hemispheres--at Etna, Popocatepetl, at Orizabaand on the eve of an eruption there is everything to be feared.\n",
      "    TARGET: Le fait s'est produit dans les deux mondes, à l'Etna, au Popocatepelt, à l'Orizaba, et, la veille d'une éruption, on peut tout craindre.\n",
      " PREDICTED: Cette première fois , à l ' état du , à l ' horizon le , la veille d ' une éruption , il est tout à craindre .\n",
      "--------------------------------------------------------------------------------\n",
      "    SOURCE: \"Farewell!\" was the cry of my heart as I left him. Despair added, \"Farewell for ever!\"\n",
      "    TARGET: «Adieu!» cria mon coeur, lorsque je m'éloignai. -- «Adieu, pour toujours!» ajouta le désespoir.\n",
      " PREDICTED: – Adieu ! reprit le cri de mon coeur comme je l ’ ai laissée rendue . – Adieu pour toujours !\n",
      "--------------------------------------------------------------------------------\n"
     ]
    },
    {
     "name": "stderr",
     "output_type": "stream",
     "text": [
      "Processing Epoch 25: 100%|██████████| 2564/2564 [04:39<00:00,  9.19it/s, loss=1.731]\n"
     ]
    },
    {
     "name": "stdout",
     "output_type": "stream",
     "text": [
      "--------------------------------------------------------------------------------\n",
      "    SOURCE: My poor friend, I am the cause of all your distress.\n",
      "    TARGET: Pauvre ami! et c'est moi qui te cause tous ces chagrins.\n",
      " PREDICTED: Mon pauvre ami , je suis la cause de tout votre chagrin .\n",
      "--------------------------------------------------------------------------------\n",
      "    SOURCE: 'But for that Jacobinical law which prescribes the registration of an endless list of jurors, and has no other real object than to take away all influence from well-born people,' he said to Mathilde, on the eve of the drawing by lot of the thirty-six jurors for the assize, 'I could have answered for the verdict.\n",
      "    TARGET: – Sans cette loi jacobine qui a prescrit la formation d’une liste innombrable de jurés, et qui n’a d’autre but réel que d’enlever toute influence aux gens bien nés, disait-il à Mathilde la veille du tirage au sort des trente-six jurés de la session, j’aurais répondu du verdict.\n",
      " PREDICTED: Mais pour ce - qui les jurés d ’ une liste de la liste de tous les autres objections de ne prendre à la partie de bien , dit - il à Mathilde , sur le sort de la veille au prix de six jurés , pour les autres jurés quelque chose de la décision .\n",
      "--------------------------------------------------------------------------------\n"
     ]
    },
    {
     "name": "stderr",
     "output_type": "stream",
     "text": [
      "Processing Epoch 26: 100%|██████████| 2564/2564 [04:34<00:00,  9.35it/s, loss=2.095]\n"
     ]
    },
    {
     "name": "stdout",
     "output_type": "stream",
     "text": [
      "--------------------------------------------------------------------------------\n",
      "    SOURCE: Defeated, mutilated, battered to death, the monsters finally yielded to us and disappeared beneath the waves.\n",
      "    TARGET: Les monstres vaincus, mutilés, frappés à mort, nous laissèrent enfin la place et disparurent sous les flots.\n",
      " PREDICTED: Ainsi , above , à mort , les monstres qui nous enfin , et nous disparurent sous les flots .\n",
      "--------------------------------------------------------------------------------\n",
      "    SOURCE: Now, you come along with me.\n",
      "    TARGET: Allons, viens avec moi.\n",
      " PREDICTED: Maintenant , vous venez avec moi .\n",
      "--------------------------------------------------------------------------------\n"
     ]
    },
    {
     "name": "stderr",
     "output_type": "stream",
     "text": [
      "Processing Epoch 27: 100%|██████████| 2564/2564 [04:38<00:00,  9.22it/s, loss=2.211]\n"
     ]
    },
    {
     "name": "stdout",
     "output_type": "stream",
     "text": [
      "--------------------------------------------------------------------------------\n",
      "    SOURCE: \"I have just been with him.\"\n",
      "    TARGET: -- J'y suis passé.\n",
      " PREDICTED: -- Je viens de l ' emmener .\n",
      "--------------------------------------------------------------------------------\n",
      "    SOURCE: \"500,000.\"\n",
      "    TARGET: Cinq cent mille.\n",
      " PREDICTED: -- cinq mille .\n",
      "--------------------------------------------------------------------------------\n"
     ]
    },
    {
     "name": "stderr",
     "output_type": "stream",
     "text": [
      "Processing Epoch 28: 100%|██████████| 2564/2564 [04:41<00:00,  9.12it/s, loss=1.616]\n"
     ]
    },
    {
     "name": "stdout",
     "output_type": "stream",
     "text": [
      "--------------------------------------------------------------------------------\n",
      "    SOURCE: For shame! that’s unworthy.\n",
      "    TARGET: Fi donc! ce n'est pas digne.\n",
      " PREDICTED: Une honte ! voilà indigne de cela .\n",
      "--------------------------------------------------------------------------------\n",
      "    SOURCE: \"Oh, you're going down there!\" she said contemptuously.\n",
      "    TARGET: -- Ah! vous allez là-bas? dit-elle avec un air de dédain.\n",
      " PREDICTED: -- Oh ! vous en ! dit - elle d ’ un ton méprisant .\n",
      "--------------------------------------------------------------------------------\n"
     ]
    },
    {
     "name": "stderr",
     "output_type": "stream",
     "text": [
      "Processing Epoch 29: 100%|██████████| 2564/2564 [04:35<00:00,  9.30it/s, loss=1.700]\n"
     ]
    },
    {
     "name": "stdout",
     "output_type": "stream",
     "text": [
      "--------------------------------------------------------------------------------\n",
      "    SOURCE: Jean, startled by his violence, was silent for a few seconds, tryingin the confusion of mind which comes of rage to hit on the thing, thephrase, the word, which might stab his brother to the heart.\n",
      "    TARGET: Jean, surpris de cette violence, se tut quelques secondes, cherchant,dans ce trouble d'esprit où nous jette la fureur, la chose, la phrase,le mot, qui pourrait blesser son frère jusqu'au coeur.\n",
      " PREDICTED: Jean , surpris par la violence , se tut quelques secondes , la confusion de laquelle la colère du coup , le mot qui put son frère .\n",
      "--------------------------------------------------------------------------------\n",
      "    SOURCE: And she threw herself upon his mouth, as if to seize there the unexpected consent if breathed forth in a kiss.\n",
      "    TARGET: Et elle se précipita sur sa bouche, comme pour y saisir le consentement inattendu qui s’en exhalait dans un baiser.\n",
      " PREDICTED: Et elle se jeta sur la bouche , comme pour s ' y prendre là cet attouchement , si besoin d ' un baiser .\n",
      "--------------------------------------------------------------------------------\n"
     ]
    },
    {
     "name": "stderr",
     "output_type": "stream",
     "text": [
      "Processing Epoch 30: 100%|██████████| 2564/2564 [04:36<00:00,  9.28it/s, loss=1.835]\n"
     ]
    },
    {
     "name": "stdout",
     "output_type": "stream",
     "text": [
      "--------------------------------------------------------------------------------\n",
      "    SOURCE: \"Exactly!\" cried Herbert, \"a fine breeze is blowing from the northeast, which will soon do our business for us.\"\n",
      "    TARGET: -- Justement! s'écria Harbert, il souffle une jolie brise de nord- est qui fera bien notre affaire!»\n",
      " PREDICTED: -- Juste ! s ' écria Harbert , une belle brise est tout à fait soufflait du nord - est , qui bientôt fera notre affaire .\n",
      "--------------------------------------------------------------------------------\n",
      "    SOURCE: People do not die of little trifling colds.\n",
      "    TARGET: On ne meurt pas d’un simple rhume.\n",
      " PREDICTED: On ne meurt pas de petits endroits .\n",
      "--------------------------------------------------------------------------------\n"
     ]
    },
    {
     "name": "stderr",
     "output_type": "stream",
     "text": [
      "Processing Epoch 31: 100%|██████████| 2564/2564 [04:36<00:00,  9.26it/s, loss=1.607]\n"
     ]
    },
    {
     "name": "stdout",
     "output_type": "stream",
     "text": [
      "--------------------------------------------------------------------------------\n",
      "    SOURCE: Teachers, you must watch her: keep your eyes on her movements, weigh well her words, scrutinise her actions, punish her body to save her soul: if, indeed, such salvation be possible, for (my tongue falters while I tell it) this girl, this child, the native of a Christian land, worse than many a little heathen who says its prayers to Brahma and kneels before Juggernaut--this girl is--a liar!\"\n",
      "    TARGET: Et vous, maîtresses, ayez les yeux sur tous ses mouvements, pesez ses paroles, examinez ses actes, châtiez son corps afin de sauver son âme, si toutefois la chose est possible; car cette enfant, ma langue hésite à le dire, cette enfant, née dans un pays chrétien, est pire que les idolâtres qui adressent leurs prières à Brama ou s'agenouillent devant Jagernau; cette enfant est une menteuse!»\n",
      " PREDICTED: , il faut veiller sur ses mouvements , sur ses mouvements une grande journée , ses actions , la punir de son âme ; si , en même , de même , quel droit me l ' appeler , que je dis répéter , ce qui , avec cette enfant de terre , le nom de terre , plus qu ' un peu de terre , et qu ' un peu de , un , un , un , avant un !\n",
      "--------------------------------------------------------------------------------\n",
      "    SOURCE: 'We no longer have it,' she said in a rather low voice. 'We've sold it.\n",
      "    TARGET: – Nous ne l’avons plus, dit-elle presque à voix basse, nous l’avons vendu.\n",
      " PREDICTED: – Nous ne l ’ avons plus , dit - elle à voix basse ; nous l ’ avons vendue !\n",
      "--------------------------------------------------------------------------------\n"
     ]
    },
    {
     "name": "stderr",
     "output_type": "stream",
     "text": [
      "Processing Epoch 32: 100%|██████████| 2564/2564 [04:43<00:00,  9.06it/s, loss=1.759]\n"
     ]
    },
    {
     "name": "stdout",
     "output_type": "stream",
     "text": [
      "--------------------------------------------------------------------------------\n",
      "    SOURCE: Soon the schooner encountered the great Atlantic swell; she had to tack against the north wind, and reached the Faroes only with some difficulty.\n",
      "    TARGET: Bientôt notre goélette fut battue par les vagues de l'Atlantique; elle dut louvoyer contre le vent du nord et n'atteignit pas sans peine les Feroë.\n",
      " PREDICTED: Bientôt , la goélette s ' aperçut de l ' Atlantique : elle avait , pour gagner le vent du nord , et il ne pas de difficultés .\n",
      "--------------------------------------------------------------------------------\n",
      "    SOURCE: Stapleton was guarded in his replies, but it was easy to see that he said less than he might, and that he would not express his whole opinion out of consideration for the feelings of the baronet.\n",
      "    TARGET: Stapleton lui répondit évasivement ; certes il ne voulait pas exprimer toute son opinion par respect pour les sentiments du baronnet.\n",
      " PREDICTED: Stapleton fut gardé ses réponses ; mais il était facile de voir qu ’ il n ’ en aurait pas moins exprimer son opinion et n ’ aurait pas toute sa considération pour le baronnet .\n",
      "--------------------------------------------------------------------------------\n"
     ]
    },
    {
     "name": "stderr",
     "output_type": "stream",
     "text": [
      "Processing Epoch 33: 100%|██████████| 2564/2564 [04:37<00:00,  9.25it/s, loss=2.109]\n"
     ]
    },
    {
     "name": "stdout",
     "output_type": "stream",
     "text": [
      "--------------------------------------------------------------------------------\n",
      "    SOURCE: \"To yield without conviction is no compliment to the understanding of either.\"\n",
      "    TARGET: – Non. Céder sans raison ne me paraît etre honorable ni pour l’un, ni pour l’autre.\n",
      " PREDICTED: – D ’ avoir sans doute a ne céder ni d ’ une mesure de l ’ autre .\n",
      "--------------------------------------------------------------------------------\n",
      "    SOURCE: \"Put it there! you're a fine fellow!\"\n",
      "    TARGET: Tape la-dedans, tu es un bon!\n",
      " PREDICTED: -- là ! vous êtes un beau garçon .\n",
      "--------------------------------------------------------------------------------\n"
     ]
    },
    {
     "name": "stderr",
     "output_type": "stream",
     "text": [
      "Processing Epoch 34: 100%|██████████| 2564/2564 [04:37<00:00,  9.23it/s, loss=1.819]\n"
     ]
    },
    {
     "name": "stdout",
     "output_type": "stream",
     "text": [
      "--------------------------------------------------------------------------------\n",
      "    SOURCE: \"It's the words of a song,\" said he.\n",
      "    TARGET: -- Ça fait partie d'une chanson, dit-il.\n",
      " PREDICTED: « Ce sont les mots d ' une chanson , dit - il .\n",
      "--------------------------------------------------------------------------------\n",
      "    SOURCE: \"Listen, master.\n",
      "    TARGET: « Écoutez, mon maître.\n",
      " PREDICTED: -- Écoutez , monsieur .\n",
      "--------------------------------------------------------------------------------\n"
     ]
    },
    {
     "name": "stderr",
     "output_type": "stream",
     "text": [
      "Processing Epoch 35: 100%|██████████| 2564/2564 [04:36<00:00,  9.26it/s, loss=2.194]\n"
     ]
    },
    {
     "name": "stdout",
     "output_type": "stream",
     "text": [
      "--------------------------------------------------------------------------------\n",
      "    SOURCE: Nothing was too profound or too criminal for the character that he assigned to her.\n",
      "    TARGET: Rien n’était trop profond ou trop scélérat pour le caractère qu’il lui prêtait.\n",
      " PREDICTED: Rien n ’ était trop profond , trop criminel pour le caractère qu ’ il lui donnait .\n",
      "--------------------------------------------------------------------------------\n",
      "    SOURCE: No one quitted the cardinal, the embassy, and the gallery−−sole centre of this vast circle of visual rays.\n",
      "    TARGET: Nul ne bougeait du cardinal, de l’ambassade et de l’estrade, unique centre de ce vaste cercle de rayons visuels.\n",
      " PREDICTED: Personne ne quitta le cardinal , l ’ ambassade et la galerie du centre de ce vaste multitude de rayon .\n",
      "--------------------------------------------------------------------------------\n"
     ]
    },
    {
     "name": "stderr",
     "output_type": "stream",
     "text": [
      "Processing Epoch 36: 100%|██████████| 2564/2564 [04:41<00:00,  9.12it/s, loss=1.950]\n"
     ]
    },
    {
     "name": "stdout",
     "output_type": "stream",
     "text": [
      "--------------------------------------------------------------------------------\n",
      "    SOURCE: She pointed at Maheu in the darkness, with a vague, threatening gesture.\n",
      "    TARGET: Elle désigna Maheu dans l'obscurité, d'un grand geste menaçant.\n",
      " PREDICTED: Elle indiqua Maheu des ténebres , d ' un geste vague , un geste vague .\n",
      "--------------------------------------------------------------------------------\n",
      "    SOURCE: The king looked him well in the face and said in a dry tone,−−\"I understand.\"\n",
      "    TARGET: Le roi le regarda très en face, et dit d’un ton sec : « Je comprends. »\n",
      " PREDICTED: Le roi le regarda bien et dit d ’ un ton sec . « Je comprends . »\n",
      "--------------------------------------------------------------------------------\n"
     ]
    },
    {
     "name": "stderr",
     "output_type": "stream",
     "text": [
      "Processing Epoch 37: 100%|██████████| 2564/2564 [04:35<00:00,  9.32it/s, loss=1.831]\n"
     ]
    },
    {
     "name": "stdout",
     "output_type": "stream",
     "text": [
      "--------------------------------------------------------------------------------\n",
      "    SOURCE: However, his warning was so short, that he could not reach to Stony-Stratford time enough to be with me at night, but he met me at a place called Brickhill the next morning, as we were just coming in to tow.\n",
      "    TARGET: Il fut pris de si court qu'il ne put atteindre Stony Stratford assez à temps pour être avec moi la nuit, mais il me joignit à un endroit nommé Brickhill le matin suivant, juste comme nous entrions en ville.\n",
      " PREDICTED: Cependant , son avertissement n ' était pas qu ' il put à se faire , à mon coeur , le temps de m ' être de Little Brickhill , mais il me fit un lieu nommé le lendemain matin , comme nous fûmes à la pointe de halage .\n",
      "--------------------------------------------------------------------------------\n",
      "    SOURCE: Oh, this is hell!\"\n",
      "    TARGET: Oh ! c’est l’enfer !\n",
      " PREDICTED: Oh ! c ’ est l ’ enfer !\n",
      "--------------------------------------------------------------------------------\n"
     ]
    },
    {
     "name": "stderr",
     "output_type": "stream",
     "text": [
      "Processing Epoch 38: 100%|██████████| 2564/2564 [04:37<00:00,  9.23it/s, loss=2.033]\n"
     ]
    },
    {
     "name": "stdout",
     "output_type": "stream",
     "text": [
      "--------------------------------------------------------------------------------\n",
      "    SOURCE: Astonished by this persistence in hiding from her, one evening she left the blue sofa and came to work at a little table that stood by the Marquise's armchair.\n",
      "    TARGET: Étonnée de cette constance à se cacher d’elle, un jour elle quitta le canapé bleu et vint travailler auprès d’une petite table voisine du fauteuil de la maréchale.\n",
      " PREDICTED: par cette persistance à se cacher , un soir elle quitta le canapé bleu et elle s ’ sur une petite table , qui était par un fauteuil .\n",
      "--------------------------------------------------------------------------------\n",
      "    SOURCE: « Mais que se passe-t-il donc ? » se demandait Fabrice.\n",
      "    TARGET: \"Why, what is happening?\" Fabrizio wondered.\n",
      " PREDICTED: \" Why , what can have happened ?\" asked Fabrizio .\n",
      "--------------------------------------------------------------------------------\n"
     ]
    },
    {
     "name": "stderr",
     "output_type": "stream",
     "text": [
      "Processing Epoch 39: 100%|██████████| 2564/2564 [04:34<00:00,  9.34it/s, loss=1.527]\n"
     ]
    },
    {
     "name": "stdout",
     "output_type": "stream",
     "text": [
      "--------------------------------------------------------------------------------\n",
      "    SOURCE: Kings like Louis XI. are careful to clean the pavement quickly after a massacre.\n",
      "    TARGET: Les rois comme Louis XI ont soin de laver vite le pavé après un massacre.\n",
      " PREDICTED: Les rois comme Louis XI , sont bien propre au pavé , vite après un massacre .\n",
      "--------------------------------------------------------------------------------\n",
      "    SOURCE: The polished gentleman disappeared to give place to the bank robber.\n",
      "    TARGET: L'honorable gentleman disparut pour faire place au voleur de bank-notes.\n",
      " PREDICTED: Le gentilhomme manque de place sur le voleur .\n",
      "--------------------------------------------------------------------------------\n"
     ]
    },
    {
     "name": "stderr",
     "output_type": "stream",
     "text": [
      "Processing Epoch 40: 100%|██████████| 2564/2564 [04:37<00:00,  9.24it/s, loss=1.620]\n"
     ]
    },
    {
     "name": "stdout",
     "output_type": "stream",
     "text": [
      "--------------------------------------------------------------------------------\n",
      "    SOURCE: \"You see all these volumes of steam, Axel; well, they demonstrate that we have nothing to fear from the fury of a volcanic eruption.\"\n",
      "    TARGET: «Tu vois toutes ces fumées, Axel; eh bien, elles prouvent que nous n'avons rien à redouter des fureurs du volcan!\n",
      " PREDICTED: En effet , ce ne sont que ces volumes de fer , bien embarrassé que nous n ' avons rien à craindre d ' une éruption volcanique .\n",
      "--------------------------------------------------------------------------------\n",
      "    SOURCE: \"What for, Jane?\"\n",
      "    TARGET: -- Pourquoi, Jane?\n",
      " PREDICTED: -- Pour quoi , Jane ?\n",
      "--------------------------------------------------------------------------------\n"
     ]
    },
    {
     "name": "stderr",
     "output_type": "stream",
     "text": [
      "Processing Epoch 41: 100%|██████████| 2564/2564 [04:38<00:00,  9.22it/s, loss=2.023]\n"
     ]
    },
    {
     "name": "stdout",
     "output_type": "stream",
     "text": [
      "--------------------------------------------------------------------------------\n",
      "    SOURCE: \"Nearly, my friend.\"\n",
      "    TARGET: -- À peu près, mon ami.\n",
      " PREDICTED: -- Presque , mon ami .\n",
      "--------------------------------------------------------------------------------\n",
      "    SOURCE: I exclaimed. \"We must rescue him at all cost!\"\n",
      "    TARGET: Il faut le sauver à tout prix ! »\n",
      " PREDICTED: -- A quoi bon ? dis - je , nous !\n",
      "--------------------------------------------------------------------------------\n"
     ]
    },
    {
     "name": "stderr",
     "output_type": "stream",
     "text": [
      "Processing Epoch 42: 100%|██████████| 2564/2564 [04:41<00:00,  9.11it/s, loss=2.265]\n"
     ]
    },
    {
     "name": "stdout",
     "output_type": "stream",
     "text": [
      "--------------------------------------------------------------------------------\n",
      "    SOURCE: The unhappy Esmeralda dropped her head beneath her flowing hair, comprehending that it was no human being she had to deal with.\n",
      "    TARGET: La malheureuse Esmeralda laissa retomber sa tête sous ses cheveux, comprenant qu’elle n’avait pas affaire à un être humain.\n",
      " PREDICTED: La malheureuse laissa tomber sa tête sous ses cheveux , qu ’ il n ’ y avait pas d ’ humain .\n",
      "--------------------------------------------------------------------------------\n",
      "    SOURCE: This boat contained an officer, a mate, and eight rowers. The officer alone went on board, where he was received with all the deference inspired by the uniform.\n",
      "    TARGET: Ce canot renfermait un officier, un contremaître et huit rameurs; l'officier seul monta à bord, où il fut reçu avec toute la déférence qu'inspire l'uniforme.\n",
      " PREDICTED: Ce bateau contenait une officier , un second de suite et de huit rameurs seuls se rendit à bord , où il fut reçu avec toute la déférence à l ’ uniforme .\n",
      "--------------------------------------------------------------------------------\n"
     ]
    },
    {
     "name": "stderr",
     "output_type": "stream",
     "text": [
      "Processing Epoch 43: 100%|██████████| 2564/2564 [05:01<00:00,  8.50it/s, loss=2.140]\n"
     ]
    },
    {
     "name": "stdout",
     "output_type": "stream",
     "text": [
      "--------------------------------------------------------------------------------\n",
      "    SOURCE: \"That, and a deal more.\n",
      "    TARGET: – Cela, et davantage.\n",
      " PREDICTED: -- Cela , et beaucoup plus .\n",
      "--------------------------------------------------------------------------------\n",
      "    SOURCE: The same evening the cardinal spoke to M. de Treville of the exploit of the morning, which was the talk of the whole camp.\n",
      "    TARGET: Le soir même, le cardinal parla à M. de Tréville de l'exploit du matin, qui faisait la conversation de tout le camp.\n",
      " PREDICTED: Le même soir , le cardinal parla à M . de Tréville du trou de la matinée qui causait de tout le camp .\n",
      "--------------------------------------------------------------------------------\n"
     ]
    },
    {
     "name": "stderr",
     "output_type": "stream",
     "text": [
      "Processing Epoch 44: 100%|██████████| 2564/2564 [05:00<00:00,  8.53it/s, loss=1.874]\n"
     ]
    },
    {
     "name": "stdout",
     "output_type": "stream",
     "text": [
      "--------------------------------------------------------------------------------\n",
      "    SOURCE: \"Upon my soul, I could say the ~Pater~, and the ~Ave Maria~, and the ~Credo in Deum patrem omnipotentem~ without her paying any more attention to me than a chicken to a church.\"\n",
      "    TARGET: – Sur mon âme, je pourrais dire le Pater, et l’Ave Maria, et le Credo in Deum patrem omnipotentem, sans qu’elle fît plus d’attention à moi qu’une poule à une église.\n",
      " PREDICTED: – Sur mon âme , je saurais dire la et la , et la en bas sans plus m ’ attention à une église que pour une église . »\n",
      "--------------------------------------------------------------------------------\n",
      "    SOURCE: « Dans quelle situation est-ce que je mets ce pauvre comte Mosca, lui ministre de la police ! on le croira mon complice, je serai venu dans ce pays pour casser le cou à sa fortune !\n",
      "    TARGET: \"In what sort of position am I putting that poor Conte Mosca, and he the Minister of Police! They will think he is my accomplice, I shall have come to this place to ruin his career!\n",
      " PREDICTED: \" In what place is what I should like that poor Conte Mosca , who am a Minister of Police ! will think of my accomplice , I shall be able to keep that country to his fortune !\n",
      "--------------------------------------------------------------------------------\n"
     ]
    },
    {
     "name": "stderr",
     "output_type": "stream",
     "text": [
      "Processing Epoch 45: 100%|██████████| 2564/2564 [04:43<00:00,  9.03it/s, loss=4.484]\n"
     ]
    },
    {
     "name": "stdout",
     "output_type": "stream",
     "text": [
      "--------------------------------------------------------------------------------\n",
      "    SOURCE: \"It is clear,\" replied Gauthier Ralph; \"and we have nothing to do but to present Mr. Fogg's cheque at Barings to-morrow.\"\n",
      "    TARGET: -- C'est évident, répondit Gauthier Ralph, et demain nous n'aurons qu'à présenter chez Baring frères le chèque de Mr. Fogg ».\n",
      " PREDICTED: -- Il est clair , répondit Gauthier Ralph , et nous n ' avons qu ' à faire du maître de Phileas Fogg . fait des .\n",
      "--------------------------------------------------------------------------------\n",
      "    SOURCE: It was a bay horse hardly three years of age, called Trompette.\n",
      "    TARGET: C'était un cheval bai, de trois ans a peine, nommé Trompette.\n",
      " PREDICTED: C ' était un cheval de grande baie , trois ans , appelait Trompette .\n",
      "--------------------------------------------------------------------------------\n"
     ]
    },
    {
     "name": "stderr",
     "output_type": "stream",
     "text": [
      "Processing Epoch 46: 100%|██████████| 2564/2564 [04:46<00:00,  8.96it/s, loss=1.823]\n"
     ]
    },
    {
     "name": "stdout",
     "output_type": "stream",
     "text": [
      "--------------------------------------------------------------------------------\n",
      "    SOURCE: I kept my piece in my hand still without firing, being willing to keep my charge ready, because I had given the Spaniard my pistol and sword: so I called to Friday, and bade him run up to the tree from whence we first fired, and fetch the arms which lay there that had been discharged, which he did with great swiftness; and then giving him my musket, I sat down myself to load all the rest again, and bade them come to me when they wanted.\n",
      "    TARGET: Je tenais toujours mon fusil à la main sans tirer, voulant garder mon coup tout prêt, parce que j'avais donné à l'Espagnol mon pistolet et mon sabre. J'appelai Vendredi et lui ordonnai de courir à l'arbre d'où nous avions fait feu d'abord, pour rapporter les armes déchargées que nous avions laissées là; ce qu'il fit avec une grande célérité.\n",
      " PREDICTED: Je lui fis celui d ' un coup de feu et de l ' approcher de mon premier , car j ' avais donné l ' Espagnol pour mon fusil ; je l ' ai dit à Vendredi . Je l ' de nouveau à son mousquet , et je lui mes bras où il était chargé de nouveau touts les porta avec mon mousquet et lui - même touts les pria d ' en mon mousquet .\n",
      "--------------------------------------------------------------------------------\n",
      "    SOURCE: Telle est, messieurs, toute mon histoire.\n",
      "    TARGET: That's the whole of my story, gentlemen.\n",
      " PREDICTED: C ’ est , messieurs , par revenir tous les story .\n",
      "--------------------------------------------------------------------------------\n"
     ]
    },
    {
     "name": "stderr",
     "output_type": "stream",
     "text": [
      "Processing Epoch 47: 100%|██████████| 2564/2564 [04:58<00:00,  8.60it/s, loss=1.801]\n"
     ]
    },
    {
     "name": "stdout",
     "output_type": "stream",
     "text": [
      "--------------------------------------------------------------------------------\n",
      "    SOURCE: \"Eighty chances!\" replied the passenger, turning his back on him.\n",
      "    TARGET: -- Quatre-vingts chances ! répondit le voyageur, qui lui tourna le dos.\n",
      " PREDICTED: -- C ' est très injuste ! répliqua le passager en se retournant vers lui .\n",
      "--------------------------------------------------------------------------------\n",
      "    SOURCE: Two, three, five down!\n",
      "    TARGET: Deux ! trois ! cinq à terre !\n",
      " PREDICTED: Deux , trois , cinq a cinq !\n",
      "--------------------------------------------------------------------------------\n"
     ]
    },
    {
     "name": "stderr",
     "output_type": "stream",
     "text": [
      "Processing Epoch 48: 100%|██████████| 2564/2564 [04:52<00:00,  8.76it/s, loss=3.023]\n"
     ]
    },
    {
     "name": "stdout",
     "output_type": "stream",
     "text": [
      "--------------------------------------------------------------------------------\n",
      "    SOURCE: He himself thinks only about his business.\n",
      "    TARGET: Lui, il pense à ses affaires.\n",
      " PREDICTED: Il ne s ’ imagine qu ’ a son affaire .\n",
      "--------------------------------------------------------------------------------\n",
      "    SOURCE: \"I am comfortably off, monsieur, that’s all; I have scraped together some such thing as an income of two or three thousand crown in the haberdashery business, but more particularly in venturing some funds in the last voyage of the celebrated navigator Jean Moquet; so that you understand, monsieur--But--\" cried the citizen.\n",
      "    TARGET: -- Je suis à mon aise, monsieur, c'est le mot; j'ai amassé quelque chose comme deux ou trois mille écus de rente dans le commerce de la mercerie, et surtout en plaçant quelques fonds sur le dernier voyage du célèbre navigateur Jean Mocquet; de sorte que, vous comprenez, monsieur...\n",
      " PREDICTED: -- Je suis partie , monsieur , que j ' ai une telle chose que de deux et mille , dans la marine des mille folies , mais plus d ' acheter dans les fonds de l ' , se hasarder , au dernier des , que vous avez si , monsieur , s ' écria :\n",
      "--------------------------------------------------------------------------------\n"
     ]
    },
    {
     "name": "stderr",
     "output_type": "stream",
     "text": [
      "Processing Epoch 49: 100%|██████████| 2564/2564 [04:47<00:00,  8.93it/s, loss=1.729]\n"
     ]
    },
    {
     "name": "stdout",
     "output_type": "stream",
     "text": [
      "--------------------------------------------------------------------------------\n",
      "    SOURCE: Chapter 22\n",
      "    TARGET: XXII\n",
      " PREDICTED: 22\n",
      "--------------------------------------------------------------------------------\n",
      "    SOURCE: By lightening the car of all the articles which it contained, the passengers had been able to prolong their suspension in the air for a few hours.\n",
      "    TARGET: En allégeant la nacelle de tous les objets qu'elle contenait, les passagers avaient pu prolonger, pendant quelques heures, leur suspension dans l'air.\n",
      " PREDICTED: A la poste de tous les objets qu ' elle renfermait , les passagers avaient beau lors pour permettre de sentir leur haleine , dans l ' air , pendant quelques heures .\n",
      "--------------------------------------------------------------------------------\n"
     ]
    },
    {
     "name": "stderr",
     "output_type": "stream",
     "text": [
      "Processing Epoch 50: 100%|██████████| 2564/2564 [04:43<00:00,  9.06it/s, loss=7.664]\n"
     ]
    },
    {
     "name": "stdout",
     "output_type": "stream",
     "text": [
      "--------------------------------------------------------------------------------\n",
      "    SOURCE: Madame Hennebeau was already getting tired, happy for a moment to amuse herself in the weariness of her exile by playing the part of exhibiting the beasts, but immediately disgusted by the sickly odour of wretchedness, in spite of the special cleanliness of the houses into which she ventured.\n",
      "    TARGET: Déja madame Hennebeau se lassait, heureuse un instant de se distraire a ce rôle de montreur de betes, dans l'ennui de son exil, mais tout de suite répugnée par l'odeur fade de misere, malgré la propreté choisie des maisons ou elle se risquait.\n",
      " PREDICTED: Madame Hennebeau , de se battre , le bonheur en voulait , un instant , dans la lassitude qu ' elle faisait , de jouer la partie des betes , mais lorsque l ' odeur fade de misere , malgré la propreté des maisons , ou elle osait s ' y prendre .\n",
      "--------------------------------------------------------------------------------\n",
      "    SOURCE: Had he not dared to have a difference of opinion with a priest who, almost every fortnight, went to Besancon, where he saw, people said, the Right Reverend Lord Bishop?\n",
      "    TARGET: N’avait-il pas osé avoir un différend avec un prêtre qui, presque tous les quinze jours, allait à Besançon, où il voyait, disait-on, Mgr l’évêque ?\n",
      " PREDICTED: N ’ eût - il pas osé se croire à un prêtre avec lequel , presque toute quinzaine de jours , allait à Besançon où il voyait , disait - on , le révérend évêque ?\n",
      "--------------------------------------------------------------------------------\n"
     ]
    },
    {
     "name": "stderr",
     "output_type": "stream",
     "text": [
      "Processing Epoch 51: 100%|██████████| 2564/2564 [04:41<00:00,  9.11it/s, loss=2.146]\n"
     ]
    },
    {
     "name": "stdout",
     "output_type": "stream",
     "text": [
      "--------------------------------------------------------------------------------\n",
      "    SOURCE: Night had fallen during this reverie, and he had not given a thought even to lighting the tall candles.\n",
      "    TARGET: Durant cette rêverie, la nuit était tombée sans qu’il songeât même à allumer les flambeaux.\n",
      " PREDICTED: La nuit était venue pendant cette rêverie , et il ne songeait pas à allumer la grande salle .\n",
      "--------------------------------------------------------------------------------\n",
      "    SOURCE: \"Yes, sir.\"\n",
      "    TARGET: -- Oui, monsieur.\n",
      " PREDICTED: -- Oui , monsieur .\n",
      "--------------------------------------------------------------------------------\n"
     ]
    },
    {
     "name": "stderr",
     "output_type": "stream",
     "text": [
      "Processing Epoch 52: 100%|██████████| 2564/2564 [04:45<00:00,  8.98it/s, loss=1.654]\n"
     ]
    },
    {
     "name": "stdout",
     "output_type": "stream",
     "text": [
      "--------------------------------------------------------------------------------\n",
      "    SOURCE: \"And what an even temper!\n",
      "    TARGET: --Et quel caractère égal!\n",
      " PREDICTED: – Et quelle pour la bonne humeur !\n",
      "--------------------------------------------------------------------------------\n",
      "    SOURCE: Pencroft tried to push open the gate, which, as the reporter and he had supposed, was closed.\n",
      "    TARGET: Pencroff essaya de pousser la porte, qui, ainsi que le reporter et lui l'avaient supposé, était fermée.\n",
      " PREDICTED: Pencroff voulut pousser la porte , qui , comme le reporter et lui avaient cru voir , se referma .\n",
      "--------------------------------------------------------------------------------\n"
     ]
    },
    {
     "name": "stderr",
     "output_type": "stream",
     "text": [
      "Processing Epoch 53: 100%|██████████| 2564/2564 [04:45<00:00,  8.99it/s, loss=1.575]\n"
     ]
    },
    {
     "name": "stdout",
     "output_type": "stream",
     "text": [
      "--------------------------------------------------------------------------------\n",
      "    SOURCE: She was perfectly sensible that he never had; but she wished to see whether he would betray any consciousness of what had passed between the Bingleys and Jane, and she thought he looked a little confused as he answered that he had never been so fortunate as to meet Miss Bennet.\n",
      "    TARGET: Elle était parfaitement sure du contraire mais voulait voir s’il laisserait deviner qu’il était au courant de ce qui s’était passé entre les Bingley et Jane. Elle crut surprendre un peu d’embarras dans la maniere dont il répondit qu’il n’avait pas eu le plaisir de rencontrer miss Bennet.\n",
      " PREDICTED: Elle fut parfaitement sensible a la réflexion ; mais elle désirait voir s ’ il se laissait deviner quelles pensées avaient passé entre les Bingley et Jane , sembla qu ’ il prit un peu confus que jamais il ne pouvait avoir une aussi heureuse .\n",
      "--------------------------------------------------------------------------------\n",
      "    SOURCE: This was a project which might be left for consideration, and they were, besides, obliged to put off its execution until the next spring.\n",
      "    TARGET: C'était là un projet à mûrir, et dont l'exécution, d'ailleurs, fut forcément remise au printemps prochain.\n",
      " PREDICTED: C ' était un projet qui pouvait tenir pour le compte , et ils étaient , d ' ailleurs , à partir jusqu ' à la du printemps .\n",
      "--------------------------------------------------------------------------------\n"
     ]
    },
    {
     "name": "stderr",
     "output_type": "stream",
     "text": [
      "Processing Epoch 54: 100%|██████████| 2564/2564 [04:44<00:00,  9.01it/s, loss=1.625]\n"
     ]
    },
    {
     "name": "stdout",
     "output_type": "stream",
     "text": [
      "--------------------------------------------------------------------------------\n",
      "    SOURCE: I have always felt that there was something singular and questionable in this man's character, but the adventure of last night brings all my suspicions to a head.\n",
      "    TARGET: J’ai toujours senti que le caractère de cet homme comportait de la singularité et du mystère. L’aventure de cette nuit a fortement aggravé mes soupçons.\n",
      " PREDICTED: J ' ai toujours senti qu ' il y avait quelque chose de singulier dans le caractère de cet homme , mais l ' aventure de la dernière nuit , toutes mes soupçons à la tête .\n",
      "--------------------------------------------------------------------------------\n",
      "    SOURCE: \"Really, one would have thought that Mr. Spilett and Ayrton had given the word to fire together!\"\n",
      "    TARGET: Vraiment, on dirait que M Spilett et Ayrton se donnent le mot pour opérer ensemble!\n",
      " PREDICTED: « En vérité , on eût dit que M . Spilett et Ayrton avaient donné le mot à feu ! »\n",
      "--------------------------------------------------------------------------------\n"
     ]
    },
    {
     "name": "stderr",
     "output_type": "stream",
     "text": [
      "Processing Epoch 55: 100%|██████████| 2564/2564 [04:39<00:00,  9.17it/s, loss=1.885]\n"
     ]
    },
    {
     "name": "stdout",
     "output_type": "stream",
     "text": [
      "--------------------------------------------------------------------------------\n",
      "    SOURCE: \"What shall we do now?\" whispered Sir Henry.\n",
      "    TARGET: « Que faire ? chuchota Sir Henry.\n",
      " PREDICTED: « Que faire - nous maintenant ? murmura Sir Henry .\n",
      "--------------------------------------------------------------------------------\n",
      "    SOURCE: \"Would you like to look?\"\n",
      "    TARGET: --Veux-tu voir?\n",
      " PREDICTED: -- Voulez - vous voir ?\n",
      "--------------------------------------------------------------------------------\n"
     ]
    },
    {
     "name": "stderr",
     "output_type": "stream",
     "text": [
      "Processing Epoch 56: 100%|██████████| 2564/2564 [04:41<00:00,  9.12it/s, loss=1.615]\n"
     ]
    },
    {
     "name": "stdout",
     "output_type": "stream",
     "text": [
      "--------------------------------------------------------------------------------\n",
      "    SOURCE: Avec un cri de joie, il se précipita sur la boîte, coupa l’autre pilule en deux, la fit dissoudre, y ajouta du lait et présenta le breuvage au terrier.\n",
      "    TARGET: With a perfect shriek of delight he rushed to the box, cut the other pill in two, dissolved it, added milk, and presented it to the terrier.\n",
      " PREDICTED: With an ill joy , he flung himself on the box on the way , oui , the other , the accès in streets , and the Vers the terrier se anyone in the terrier .\n",
      "--------------------------------------------------------------------------------\n",
      "    SOURCE: Meaulnes, without saying anything, put away in the shed the pickaxe and the spade which he had on his shoulder. But at midnight I felt his hand on my arm, and I woke up with a start.\n",
      "    TARGET: Meaulnes, sans mot dire, remisa sous le hangar la bêche et la pioche qu’il avait sur l’épaule… Mais, à minuit, je sentais sa main sur mon bras, et je m’éveillais en sursaut.\n",
      " PREDICTED: Meaulnes , sans rien dire , repoussa le hangar de la galerie et la pioche qu ’ il avait sur son épaule ; mais à minuit , je me sentis la main sur le bras , et je me réveillai avec un ressort .\n",
      "--------------------------------------------------------------------------------\n"
     ]
    },
    {
     "name": "stderr",
     "output_type": "stream",
     "text": [
      "Processing Epoch 57: 100%|██████████| 2564/2564 [04:38<00:00,  9.22it/s, loss=1.795]\n"
     ]
    },
    {
     "name": "stdout",
     "output_type": "stream",
     "text": [
      "--------------------------------------------------------------------------------\n",
      "    SOURCE: 'Make haste, then, sweetheart,' says I, 'for we may be full else.'\n",
      "    TARGET: --Hâtez-vous donc, mon doux coeur, lui dis-je, ou tout sera plein.\n",
      " PREDICTED: -- Alors , mon doux coeur , dis - je , car nous pouvons être pleins .\n",
      "--------------------------------------------------------------------------------\n",
      "    SOURCE: And thus I knew that something else was binding the two men together, though I could not guess what it was.\n",
      "    TARGET: Et ainsi je connus qu’autre chose liait les deux jeunes hommes, mais sans pouvoir deviner quoi.\n",
      " PREDICTED: Et ainsi je savais qu ' une chose était celle des deux hommes , bien que je ne pas ce qu ' il en était .\n",
      "--------------------------------------------------------------------------------\n"
     ]
    },
    {
     "name": "stderr",
     "output_type": "stream",
     "text": [
      "Processing Epoch 58: 100%|██████████| 2564/2564 [05:03<00:00,  8.44it/s, loss=2.089]\n"
     ]
    },
    {
     "name": "stdout",
     "output_type": "stream",
     "text": [
      "--------------------------------------------------------------------------------\n",
      "    SOURCE: He would never consent to admit that in that channel, with its fine sandy bed, just like the beach, which he had often crossed at low water, there could be an unknown rock.\n",
      "    TARGET: Jamais il ne consentirait à admettre que dans ce canal, formé d'un lit de sable fin, comme la grève elle-même, et qu'il avait souvent traversé à mer basse, il y eût un écueil ignoré.\n",
      " PREDICTED: Il ne voulut jamais convenir que dans le canal , son beau lit de sable , juste comme la grève , qu ' il avait souvent passé à l ' eau basse , il y avait là un roc inconnu .\n",
      "--------------------------------------------------------------------------------\n",
      "    SOURCE: The gypsy looked at the hilt, the blade; examined the cipher on the guard with adorable curiosity, and kissed the sword, saying,−−\n",
      "    TARGET: L’égyptienne regarda la poignée, la lame, examina avec une curiosité adorable le chiffre de la garde, et baisa l’épée en lui disant :\n",
      " PREDICTED: La bohémienne regarda la garde , la lame ; le chiffre , porter le garde avec une curiosité déserte , et baisa l ’ épée en disant :\n",
      "--------------------------------------------------------------------------------\n"
     ]
    },
    {
     "name": "stderr",
     "output_type": "stream",
     "text": [
      "Processing Epoch 59: 100%|██████████| 2564/2564 [04:43<00:00,  9.04it/s, loss=2.053]\n"
     ]
    },
    {
     "name": "stdout",
     "output_type": "stream",
     "text": [
      "--------------------------------------------------------------------------------\n",
      "    SOURCE: \"Bring me the child,\" she said, raising herself on her elbow.\n",
      "    TARGET: -- Amenez-moi la petite, dit-elle en se soulevant du coude.\n",
      " PREDICTED: -- Faites - moi l ’ enfant », dit - elle en se levant sur son coude .\n",
      "--------------------------------------------------------------------------------\n",
      "    SOURCE: On the seventh day Catherine was bending down to drink, when her hand struck some floating body before her.\n",
      "    TARGET: Le septieme jour, Catherine se penchait pour boire, lorsqu'elle heurta de la main un corps flottant devant elle.\n",
      " PREDICTED: Sur la septième jour , Catherine se pencha , lorsque sa main portait quelque éboulement qui flottait devant elle .\n",
      "--------------------------------------------------------------------------------\n"
     ]
    },
    {
     "name": "stderr",
     "output_type": "stream",
     "text": [
      "Processing Epoch 60: 100%|██████████| 2564/2564 [04:48<00:00,  8.89it/s, loss=1.563]\n"
     ]
    },
    {
     "name": "stdout",
     "output_type": "stream",
     "text": [
      "--------------------------------------------------------------------------------\n",
      "    SOURCE: My mistake.\n",
      "    TARGET: Je me trompe.\n",
      " PREDICTED: Ma faute .\n",
      "--------------------------------------------------------------------------------\n",
      "    SOURCE: \"I confess! I confess!\n",
      "    TARGET: J’avoue ! j’avoue ! grâce ! »\n",
      " PREDICTED: — J ' avoue que je l ' avoue !…\n",
      "--------------------------------------------------------------------------------\n"
     ]
    },
    {
     "name": "stderr",
     "output_type": "stream",
     "text": [
      "Processing Epoch 61: 100%|██████████| 2564/2564 [04:45<00:00,  8.98it/s, loss=1.652]\n"
     ]
    },
    {
     "name": "stdout",
     "output_type": "stream",
     "text": [
      "--------------------------------------------------------------------------------\n",
      "    SOURCE: You have been three days without bite or sup.\"\n",
      "    TARGET: Vous êtes resté trois jours sans aliments ni boissons?\n",
      " PREDICTED: Vous avez été trois jours sans souper .\n",
      "--------------------------------------------------------------------------------\n",
      "    SOURCE: I never went.\n",
      "    TARGET: Je n’y suis pas allée.\n",
      " PREDICTED: Je ne continuai pas .\n",
      "--------------------------------------------------------------------------------\n"
     ]
    },
    {
     "name": "stderr",
     "output_type": "stream",
     "text": [
      "Processing Epoch 62: 100%|██████████| 2564/2564 [04:44<00:00,  9.00it/s, loss=1.590]\n"
     ]
    },
    {
     "name": "stdout",
     "output_type": "stream",
     "text": [
      "--------------------------------------------------------------------------------\n",
      "    SOURCE: She felt soothed by Julien's presence; as she studied his appearance she forgot to feel afraid.\n",
      "    TARGET: Elle se sentit tranquillisée par la présence de Julien, en l’examinant elle oubliait d’en avoir peur.\n",
      " PREDICTED: Elle eut un instant la présence de Julien ; elle avait étudié son regard , elle oublia de n ’ avoir pas peur .\n",
      "--------------------------------------------------------------------------------\n",
      "    SOURCE: Quant a moi, je gardais le silence ; car ce temps mélancolique, cette affaire sinistre dans laquelle nous nous trouvions engagés m’impressionnaient péniblement.\n",
      "    TARGET: As for myself, I was silent, for the dull weather and the melancholy business upon which we were engaged, depressed my spirits.\n",
      " PREDICTED: As for me , I should put in this time , for this case is sinister and which we shall this , with which we shall make up my side .\n",
      "--------------------------------------------------------------------------------\n"
     ]
    },
    {
     "name": "stderr",
     "output_type": "stream",
     "text": [
      "Processing Epoch 63: 100%|██████████| 2564/2564 [04:38<00:00,  9.20it/s, loss=2.019]\n"
     ]
    },
    {
     "name": "stdout",
     "output_type": "stream",
     "text": [
      "--------------------------------------------------------------------------------\n",
      "    SOURCE: This name reassured her.\n",
      "    TARGET: Ce nom la rassura.\n",
      " PREDICTED: Ce nom la rassura tout .\n",
      "--------------------------------------------------------------------------------\n",
      "    SOURCE: Might not some living man, some native of the abyss, be yet a wanderer below on this desert strand?\n",
      "    TARGET: Quelque homme de l'abîme errait-il encore sur ces grèves désertes?\n",
      " PREDICTED: Une voyageur , quelque vertu salut , quelque salut du gouffre , ne peut - être pas encore sur cette grève déserte ?\n",
      "--------------------------------------------------------------------------------\n"
     ]
    },
    {
     "name": "stderr",
     "output_type": "stream",
     "text": [
      "Processing Epoch 64: 100%|██████████| 2564/2564 [04:41<00:00,  9.12it/s, loss=1.571]\n"
     ]
    },
    {
     "name": "stdout",
     "output_type": "stream",
     "text": [
      "--------------------------------------------------------------------------------\n",
      "    SOURCE: \"The bother is, you see, when you have to say to yourself that it won't change.\n",
      "    TARGET: —L'embetant, voyez-vous, c'est lorsqu'on se dit que ça ne peut pas changer…\n",
      " PREDICTED: « C ’ est vous le voyez , quand vous avez à vous dire que ce ne sera pas changé .\n",
      "--------------------------------------------------------------------------------\n",
      "    SOURCE: I said it in London, Watson, and I say it again now, that never yet have we helped to hunt down a more dangerous man than he who is lying yonder\"--he swept his long arm towards the huge mottled expanse of green-splotched bog which stretched away until it merged into the russet slopes of the moor.\n",
      "    TARGET: Je vous l’avais dit à Londres, Watson, et je le répète encore maintenant : jamais nous n’avons abattu d’homme plus dangereux que celui qui a sombré quelque part là-dedans. » Il allongea son bras interminable vers l’immense étendue parsemée de taches vertes qu’entouraient les pentes rousses de la lande.\n",
      " PREDICTED: Je le dis à Londres , Watson et la jusqu ’ alors , n ’ ayant pas le coup de pied dehors ; nous avons cet homme plus dangereux qu ’ il est là - bas … » son bras vers les immenses vertes au centre de rochers dans le paysage tandis que nous nous …\n",
      "--------------------------------------------------------------------------------\n"
     ]
    },
    {
     "name": "stderr",
     "output_type": "stream",
     "text": [
      "Processing Epoch 65: 100%|██████████| 2564/2564 [04:56<00:00,  8.64it/s, loss=1.541]\n"
     ]
    },
    {
     "name": "stdout",
     "output_type": "stream",
     "text": [
      "--------------------------------------------------------------------------------\n",
      "    SOURCE: The king looked at the cardinal as if to interrogate him; but he had not time to address any question to him--a cry of admiration burst from every mouth.\n",
      "    TARGET: Le roi regarda le cardinal comme pour l'interroger; mais il n'eut le temps de lui adresser aucune question: un cri d'admiration sortit de toutes les bouches.\n",
      " PREDICTED: Le roi regarda le cardinal comme pour l ' interroger ; mais il n ' eût pas le temps de lui adresser aucune question à lui : un cri d ' admiration se mit à tous les lèvres .\n",
      "--------------------------------------------------------------------------------\n",
      "    SOURCE: The MORBLEUS, the SANG DIEUS, the MORTS TOUTS LES DIABLES, crossed one another in the air.\n",
      "    TARGET: Les morbleu! les sangdieu! les morts de tous les diables! se croisaient dans l'air.\n",
      " PREDICTED: Les , le . Les en levait , se en l ' air .\n",
      "--------------------------------------------------------------------------------\n"
     ]
    },
    {
     "name": "stderr",
     "output_type": "stream",
     "text": [
      "Processing Epoch 66: 100%|██████████| 2564/2564 [05:07<00:00,  8.35it/s, loss=1.864]\n"
     ]
    },
    {
     "name": "stdout",
     "output_type": "stream",
     "text": [
      "--------------------------------------------------------------------------------\n",
      "    SOURCE: The upholsterers began to invade the whole house, he long watched in vain for an opportunity of saying a word to her.\n",
      "    TARGET: Les tapissiers commençaient à remplir la maison, il épia longtemps en vain l’occasion de lui dire un mot.\n",
      " PREDICTED: « Les commençaient à envahir toute la maison , il regardait longtemps en vain une occasion de lui dire .\n",
      "--------------------------------------------------------------------------------\n",
      "    SOURCE: Before Elizabeth had time for anything but a blush of surprise, Mrs. Bennet answered instantly, \"Oh dear!--yes--certainly.\n",
      "    TARGET: Avant qu’Elizabeth rougissante eut eu le temps d’ouvrir la bouche. Mrs.\n",
      " PREDICTED: Devant Elizabeth l ’ avait de quoi qu ’ un triste étonnement de la surprise , Mrs . Bennet répondit aussitôt :\n",
      "--------------------------------------------------------------------------------\n"
     ]
    },
    {
     "name": "stderr",
     "output_type": "stream",
     "text": [
      "Processing Epoch 67: 100%|██████████| 2564/2564 [05:03<00:00,  8.44it/s, loss=1.605]\n"
     ]
    },
    {
     "name": "stdout",
     "output_type": "stream",
     "text": [
      "--------------------------------------------------------------------------------\n",
      "    SOURCE: Teachers, you must watch her: keep your eyes on her movements, weigh well her words, scrutinise her actions, punish her body to save her soul: if, indeed, such salvation be possible, for (my tongue falters while I tell it) this girl, this child, the native of a Christian land, worse than many a little heathen who says its prayers to Brahma and kneels before Juggernaut--this girl is--a liar!\"\n",
      "    TARGET: Et vous, maîtresses, ayez les yeux sur tous ses mouvements, pesez ses paroles, examinez ses actes, châtiez son corps afin de sauver son âme, si toutefois la chose est possible; car cette enfant, ma langue hésite à le dire, cette enfant, née dans un pays chrétien, est pire que les idolâtres qui adressent leurs prières à Brama ou s'agenouillent devant Jagernau; cette enfant est une menteuse!»\n",
      " PREDICTED: , il faut veiller sur ses mouvements , sur ses mouvements une grande souffrance , ses actions , sa chair , voulant sauver son âme ; si , du même et de quel salut , moi , , tandis que , moi , tout ce qui , à ceux des become fashionable que des , un peu de ce qu ' il dit un , qu ' un à un , qu ' un !\n",
      "--------------------------------------------------------------------------------\n",
      "    SOURCE: You pour coffee down him with my money!\"\n",
      "    TARGET: Tu l'arroses de café avec mon argent!\n",
      " PREDICTED: Vous lui voulez rire de mon argent !\n",
      "--------------------------------------------------------------------------------\n"
     ]
    },
    {
     "name": "stderr",
     "output_type": "stream",
     "text": [
      "Processing Epoch 68: 100%|██████████| 2564/2564 [05:02<00:00,  8.47it/s, loss=2.059]\n"
     ]
    },
    {
     "name": "stdout",
     "output_type": "stream",
     "text": [
      "--------------------------------------------------------------------------------\n",
      "    SOURCE: They awaited their leader in the sombre, gothic cloister of the ancient abbey.\n",
      "    TARGET: Il attendait son chef dans le cloître sombre et gothique de l’ancienne abbaye.\n",
      " PREDICTED: Ils attendaient leur chef , dans le sombre cloître de l ’ antique abbaye .\n",
      "--------------------------------------------------------------------------------\n",
      "    SOURCE: He tried to speak to her.\n",
      "    TARGET: Il voulut lui parler.\n",
      " PREDICTED: Il voulut lui parler .\n",
      "--------------------------------------------------------------------------------\n"
     ]
    },
    {
     "name": "stderr",
     "output_type": "stream",
     "text": [
      "Processing Epoch 69: 100%|██████████| 2564/2564 [05:01<00:00,  8.51it/s, loss=2.478]\n"
     ]
    },
    {
     "name": "stdout",
     "output_type": "stream",
     "text": [
      "--------------------------------------------------------------------------------\n",
      "    SOURCE: Se penchant sur elle, il baisa avec respect son front glacé, puis saisissant sa main il en arracha l’anneau de mariage : « Du moins elle ne portera pas cela dans la tombe », cria-t-il d’un ton de défi.\n",
      "    TARGET: Stooping over her, he pressed his lips reverently to her cold forehead, and then, snatching up her hand, he took the wedding-ring from her finger.\n",
      " PREDICTED: as she met this time , he kissed with her face , then seized her hand he spoke to her hand : \" at least , she never met this sign ,\" he cried : ' s ' ' t ' a your .\"\n",
      "--------------------------------------------------------------------------------\n",
      "    SOURCE: M de Treville was in his saloon with his habitual court of gentlemen.\n",
      "    TARGET: M. de Tréville était dans son salon avec sa cour habituelle de gentilshommes.\n",
      " PREDICTED: M . de Tréville était dans son salon avec sa cour habituel .\n",
      "--------------------------------------------------------------------------------\n"
     ]
    },
    {
     "name": "stderr",
     "output_type": "stream",
     "text": [
      "Processing Epoch 70: 100%|██████████| 2564/2564 [05:10<00:00,  8.26it/s, loss=1.690]\n"
     ]
    },
    {
     "name": "stdout",
     "output_type": "stream",
     "text": [
      "--------------------------------------------------------------------------------\n",
      "    SOURCE: The dragoon had dropped his sword, and was unarmed, while the other was pressing him so close that he could not get a weapon.\n",
      "    TARGET: Le dragon avait laissé choir son arme, il était désarmé, et l'autre le serrait d'aussi près pour lempêcher d'en trouver une autre.\n",
      " PREDICTED: Le dragon avait lâché son épée , et il n ' en avait pas plus convaincu , tandis que l ' autre l ' pressait si près qu ' il ne pouvait avoir une arme .\n",
      "--------------------------------------------------------------------------------\n",
      "    SOURCE: But it was impossible because of the lathe to hear what she was saying.\n",
      "    TARGET: Mais il n’était guère possible, à cause du tour, d’entendre ce qu’elle disait.\n",
      " PREDICTED: Mais il était impossible à cause du tour d ’ entendre ce qu ’ elle disait .\n",
      "--------------------------------------------------------------------------------\n"
     ]
    },
    {
     "name": "stderr",
     "output_type": "stream",
     "text": [
      "Processing Epoch 71: 100%|██████████| 2564/2564 [05:01<00:00,  8.50it/s, loss=1.639]\n"
     ]
    },
    {
     "name": "stdout",
     "output_type": "stream",
     "text": [
      "--------------------------------------------------------------------------------\n",
      "    SOURCE: I almost wish I hadn't gone down that rabbit-hole--and yet--and yet--it's rather curious, you know, this sort of life!\n",
      "    TARGET: Je voudrais bien n’être jamais descendue dans ce terrier ; et pourtant c’est assez drôle cette manière de vivre !\n",
      " PREDICTED: Je veux presque désirer d ' avoir filé le feu de ce trou , et cependant , c ' est un peu curieux , vous savez , cette sorte de vie !\n",
      "--------------------------------------------------------------------------------\n",
      "    SOURCE: Good-bye, Armand.\"\n",
      "    TARGET: Adieu, Armand.\n",
      " PREDICTED: Adieu , Armand .\n",
      "--------------------------------------------------------------------------------\n"
     ]
    },
    {
     "name": "stderr",
     "output_type": "stream",
     "text": [
      "Processing Epoch 72: 100%|██████████| 2564/2564 [05:08<00:00,  8.32it/s, loss=1.679]\n"
     ]
    },
    {
     "name": "stdout",
     "output_type": "stream",
     "text": [
      "--------------------------------------------------------------------------------\n",
      "    SOURCE: Il la trouva entourée d’une quantité de chiens, et parée de tous ses atours, et même avec des diamants comme si elle allait à la cour.\n",
      "    TARGET: He found her surrounded by a number of dogs, and tricked out in all her finery, including diamonds even, as though she were going to court.\n",
      " PREDICTED: He found the surrounded by a en particulier , and of his , and even with the diamonds that she was going in court .\n",
      "--------------------------------------------------------------------------------\n",
      "    SOURCE: \"Eight-and-twenty minutes,\" said my uncle, looking at his watch.\n",
      "    TARGET: -- Vingt-huit minutes, dit mon oncle en regardant sa montre.\n",
      " PREDICTED: -- Huit heures et vingt minutes , dit mon oncle en regardant sa montre .\n",
      "--------------------------------------------------------------------------------\n"
     ]
    },
    {
     "name": "stderr",
     "output_type": "stream",
     "text": [
      "Processing Epoch 73: 100%|██████████| 2564/2564 [05:06<00:00,  8.37it/s, loss=1.663]\n"
     ]
    },
    {
     "name": "stdout",
     "output_type": "stream",
     "text": [
      "--------------------------------------------------------------------------------\n",
      "    SOURCE: At last I write down the words: \"Let us lower the sail.\"\n",
      "    TARGET: Je prends le parti de lui écrire ces mots: «Amenons notre voile.»\n",
      " PREDICTED: Enfin , je écrit ces mots : « - nous la voile .»\n",
      "--------------------------------------------------------------------------------\n",
      "    SOURCE: The priest continued, in a hollow voice,−− \"Are you prepared?\"\n",
      "    TARGET: Le prêtre poursuivit en articulant sourdement : « Êtes-vous préparée ?\n",
      " PREDICTED: Le prêtre continua d ’ une voix sourde : « Est - ce que vous avez préparé ?\n",
      "--------------------------------------------------------------------------------\n"
     ]
    },
    {
     "name": "stderr",
     "output_type": "stream",
     "text": [
      "Processing Epoch 74: 100%|██████████| 2564/2564 [04:58<00:00,  8.59it/s, loss=1.578]\n"
     ]
    },
    {
     "name": "stdout",
     "output_type": "stream",
     "text": [
      "--------------------------------------------------------------------------------\n",
      "    SOURCE: Your petty bickerings, your details of real life, all more or less irritating to me, would bring me down from heaven.\n",
      "    TARGET: Vos petites tracasseries, vos détails de la vie réelle, plus ou moins froissants pour moi, me tireraient du ciel.\n",
      " PREDICTED: , vos détails de la vie réelle , tous me et moins que vous me par le ciel .\n",
      "--------------------------------------------------------------------------------\n",
      "    SOURCE: I do hate steam launches: I suppose every rowing man does.\n",
      "    TARGET: Je hais les chaloupes a vapeur, comme tout canotier, je suppose.\n",
      " PREDICTED: — Je dis que les autres le font de l ' ramer .\n",
      "--------------------------------------------------------------------------------\n"
     ]
    },
    {
     "name": "stderr",
     "output_type": "stream",
     "text": [
      "Processing Epoch 75: 100%|██████████| 2564/2564 [04:57<00:00,  8.61it/s, loss=1.514]\n"
     ]
    },
    {
     "name": "stdout",
     "output_type": "stream",
     "text": [
      "--------------------------------------------------------------------------------\n",
      "    SOURCE: What could there be to spy about in Berwickshire?\n",
      "    TARGET: Que pouvait bien venir espionner dans le Comté de Berwick?\n",
      " PREDICTED: Que pouvait - il y avoir l ' espion de la ?\n",
      "--------------------------------------------------------------------------------\n",
      "    SOURCE: – Bon ! dit la comtesse, voilà comme tu sais garder l’incognito !\n",
      "    TARGET: \"Good!\" said the Contessa, \"that is how you keep your identity secret.\n",
      " PREDICTED: \" Good ! said the Contessa , you are as to be of one incognito !\"\n",
      "--------------------------------------------------------------------------------\n"
     ]
    },
    {
     "name": "stderr",
     "output_type": "stream",
     "text": [
      "Processing Epoch 76: 100%|██████████| 2564/2564 [04:41<00:00,  9.11it/s, loss=3.717]\n"
     ]
    },
    {
     "name": "stdout",
     "output_type": "stream",
     "text": [
      "--------------------------------------------------------------------------------\n",
      "    SOURCE: When we went in, and I had removed her bonnet and coat, I took her on my knee; kept her there an hour, allowing her to prattle as she liked: not rebuking even some little freedoms and trivialities into which she was apt to stray when much noticed, and which betrayed in her a superficiality of character, inherited probably from her mother, hardly congenial to an English mind.\n",
      "    TARGET: Lorsque nous fûmes rentrées et que je lui eus retiré son chapeau et son manteau, je la pris sur mes genoux et je la laissai babiller une heure environ; je lui permis même quelques petites libertés qu'elle aimait tant à prendre pour se faire remarquer; car là se trahissait en elle le caractère léger que lui avait légué sa mère, et qui est si différent de l'esprit anglais.\n",
      " PREDICTED: Quand nous entrâmes en habit , je lui ai pris son chapeau et je la sur mes genoux , je la en une heure , ne la pas même ; de en quoi elle était pour des mal et des qui que rarement vue , et qui semblait à peine , à peine l ' ordre de sa mère l ' anglais .\n",
      "--------------------------------------------------------------------------------\n",
      "    SOURCE: \"But you, uncle, you seem in very good spirits this morning.\"\n",
      "    TARGET: --Mais vous me paraissez bien gai, ce matin, mon oncle.\n",
      " PREDICTED: -- Mais vous , mon oncle , vous ce matin - là .\n",
      "--------------------------------------------------------------------------------\n"
     ]
    },
    {
     "name": "stderr",
     "output_type": "stream",
     "text": [
      "Processing Epoch 77: 100%|██████████| 2564/2564 [04:40<00:00,  9.13it/s, loss=1.693]\n"
     ]
    },
    {
     "name": "stdout",
     "output_type": "stream",
     "text": [
      "--------------------------------------------------------------------------------\n",
      "    SOURCE: The Marquis entered.\n",
      "    TARGET: Le marquis entra.\n",
      " PREDICTED: Le marquis entra .\n",
      "--------------------------------------------------------------------------------\n",
      "    SOURCE: Just at this moment there was an unusual stir in the human mass.\n",
      "    TARGET: En ce moment un mouvement considérable se produisit dans la foule.\n",
      " PREDICTED: En ce moment , il y avait un curieux dans la masse humaine .\n",
      "--------------------------------------------------------------------------------\n"
     ]
    },
    {
     "name": "stderr",
     "output_type": "stream",
     "text": [
      "Processing Epoch 78: 100%|██████████| 2564/2564 [04:47<00:00,  8.92it/s, loss=1.594]\n"
     ]
    },
    {
     "name": "stdout",
     "output_type": "stream",
     "text": [
      "--------------------------------------------------------------------------------\n",
      "    SOURCE: He replaced his sword in its scabbard.\n",
      "    TARGET: Il remit l’épée au fourreau.\n",
      " PREDICTED: Il remettre son épée dans son fourreau .\n",
      "--------------------------------------------------------------------------------\n",
      "    SOURCE: The only pleasures were to get drunk and to get a child with one's wife; then the beer swelled the belly, and the child, later on, left you to go to the dogs.\n",
      "    TARGET: Les seuls plaisirs, c'était de se saouler ou de faire un enfant a sa femme; encore la biere vous engraissait trop le ventre, et l'enfant, plus tard, se foutait de vous.\n",
      " PREDICTED: On ne se plus , d ' enfant avec la femme de charge ; puis la biere le ventre , et l ' enfant , on vous laisse aux chiens .\n",
      "--------------------------------------------------------------------------------\n"
     ]
    },
    {
     "name": "stderr",
     "output_type": "stream",
     "text": [
      "Processing Epoch 79: 100%|██████████| 2564/2564 [04:39<00:00,  9.17it/s, loss=2.308]\n"
     ]
    },
    {
     "name": "stdout",
     "output_type": "stream",
     "text": [
      "--------------------------------------------------------------------------------\n",
      "    SOURCE: \"My Lady Avon and gentlemen,\" said he, \"if I have sinned in this matter, and I freely confess that I have done so, I only know one way in which I can atone for it, and that is by making the full and complete confession which my noble master, Lord Avon, has demanded.\n",
      "    TARGET: -- Milady Avon et gentlemen, dit-il, si j'ai péché dans cette affaire et je conviens franchement qu'il en est ainsi, je ne vois qu'une manière de l'expier, elle consiste dans la confession pleine et entière que mon noble maître Lord Avon m'a demandée.\n",
      " PREDICTED: « Mon Dame avait donné comme j ' ai péché , dit - il , si j ' ai péché dans cette affaire . J ' avoue que je l ' ai fait , je ne sais qu ' un partout où j ' en ai pour conserver en faisant mon maître , Lord Avon , Lord Avon a demandé un capitaine .\n",
      "--------------------------------------------------------------------------------\n",
      "    SOURCE: \"What, then?\"\n",
      "    TARGET: --Mais!...\n",
      " PREDICTED: -- Quoi donc ?\n",
      "--------------------------------------------------------------------------------\n"
     ]
    },
    {
     "name": "stderr",
     "output_type": "stream",
     "text": [
      "Processing Epoch 80: 100%|██████████| 2564/2564 [04:40<00:00,  9.14it/s, loss=2.808]\n"
     ]
    },
    {
     "name": "stdout",
     "output_type": "stream",
     "text": [
      "--------------------------------------------------------------------------------\n",
      "    SOURCE: 'A strange choice,' thought Julien, 'and the Marquise does not allow her to read the novels of Walter Scott!'\n",
      "    TARGET: Singulière lecture, pensa Julien ; et la marquise ne lui permet pas de lire les romans de Walter Scott!\n",
      " PREDICTED: Singulier choix , fit Julien , et la marquise ne se permet pas de lire les romans de Walter Scott !\n",
      "--------------------------------------------------------------------------------\n",
      "    SOURCE: The intention to turn up the wick alone survived in the midst of her confused ideas.\n",
      "    TARGET: Seule, l'intention d'en remonter la meche surnageait, au milieu de ses idées confuses.\n",
      " PREDICTED: L ' intention de tourner et à grands yeux seuls , au milieu de ses idées confus .\n",
      "--------------------------------------------------------------------------------\n"
     ]
    },
    {
     "name": "stderr",
     "output_type": "stream",
     "text": [
      "Processing Epoch 81: 100%|██████████| 2564/2564 [04:46<00:00,  8.97it/s, loss=1.769]\n"
     ]
    },
    {
     "name": "stdout",
     "output_type": "stream",
     "text": [
      "--------------------------------------------------------------------------------\n",
      "    SOURCE: \"That, and a deal more.\n",
      "    TARGET: – Cela, et davantage.\n",
      " PREDICTED: -- Cela , et beaucoup mieux .\n",
      "--------------------------------------------------------------------------------\n",
      "    SOURCE: Oh, this is hell!\"\n",
      "    TARGET: Oh ! c’est l’enfer !\n",
      " PREDICTED: Oh ! c ’ est l ’ enfer !\n",
      "--------------------------------------------------------------------------------\n"
     ]
    },
    {
     "name": "stderr",
     "output_type": "stream",
     "text": [
      "Processing Epoch 82: 100%|██████████| 2564/2564 [04:44<00:00,  9.01it/s, loss=2.314]\n"
     ]
    },
    {
     "name": "stdout",
     "output_type": "stream",
     "text": [
      "--------------------------------------------------------------------------------\n",
      "    SOURCE: \"Well said, upon my soul!\n",
      "    TARGET: « Bien dit, sur mon âme !\n",
      " PREDICTED: -- Eh bien , sur mon âme !\n",
      "--------------------------------------------------------------------------------\n",
      "    SOURCE: This remark repeated several times in the hearing of Madame Raquin, caused her extraordinary emotion.\n",
      "    TARGET: Cette parole, répétée à plusieurs reprises devant elle, causa à Mme Raquin une étrange émotion.\n",
      " PREDICTED: Ce mot répéta plusieurs fois en entendant parler de Mme Raquin , lui causa une émotion extraordinaire .\n",
      "--------------------------------------------------------------------------------\n"
     ]
    },
    {
     "name": "stderr",
     "output_type": "stream",
     "text": [
      "Processing Epoch 83: 100%|██████████| 2564/2564 [04:46<00:00,  8.96it/s, loss=1.665]\n"
     ]
    },
    {
     "name": "stdout",
     "output_type": "stream",
     "text": [
      "--------------------------------------------------------------------------------\n",
      "    SOURCE: But he did not get much opportunity even there.\n",
      "    TARGET: Mais son apprentissage n’en fut pas facilité pour autant.\n",
      " PREDICTED: Mais il n ’ y fit pas tant d ’ occasion .\n",
      "--------------------------------------------------------------------------------\n",
      "    SOURCE: Je sentais que la duchesse passait une limite que l’on ne doit jamais franchir, et c’est pour raccommoder les choses que j’ai eu la sottise incroyable de supprimer le mot “procédure injuste”, le seul qui liât le souverain… Mais bah ! ces gens-là sont-ils liés par quelque chose ?\n",
      "    TARGET: I felt that the Duchessa was exceeding a limit beyond which one ought never to go, and it was to compensate for this that I was so incredibly foolish as to suppress the words unjust proceedings, the only ones that bound the Sovereign.... But bah!\n",
      " PREDICTED: I passed that the Duchessa was passed by ever , and must always close upon him , and is to the things which I had the of some frappa away expression which is made the of my companion , which alone have Cependant those people who are those people in trouble : there are no longer aspire to some time .\n",
      "--------------------------------------------------------------------------------\n"
     ]
    },
    {
     "name": "stderr",
     "output_type": "stream",
     "text": [
      "Processing Epoch 84: 100%|██████████| 2564/2564 [04:42<00:00,  9.09it/s, loss=2.222]\n"
     ]
    },
    {
     "name": "stdout",
     "output_type": "stream",
     "text": [
      "--------------------------------------------------------------------------------\n",
      "    SOURCE: \"Yes, monsieur.\"\n",
      "    TARGET: -- Oui, monsieur.\n",
      " PREDICTED: -- Oui , monsieur .\n",
      "--------------------------------------------------------------------------------\n",
      "    SOURCE: A tempest, which was only rumbling in the distance as yet, was floating on the surface of this crowd.\n",
      "    TARGET: Une tempête, qui ne faisait encore que gronder, flottait à la surface de cette foule.\n",
      " PREDICTED: Une tempête , qui ne répondit que des grondements dans le lointain de Toutefois , flottait à la surface de cette foule .\n",
      "--------------------------------------------------------------------------------\n"
     ]
    },
    {
     "name": "stderr",
     "output_type": "stream",
     "text": [
      "Processing Epoch 85: 100%|██████████| 2564/2564 [04:44<00:00,  9.02it/s, loss=1.905]\n"
     ]
    },
    {
     "name": "stdout",
     "output_type": "stream",
     "text": [
      "--------------------------------------------------------------------------------\n",
      "    SOURCE: I advanced; then paused by the crib side: my hand was on the curtain, but I preferred speaking before I withdrew it. I still recoiled at the dread of seeing a corpse.\n",
      "    TARGET: Je fis quelques pas et je m'arrêtai devant le lit: ma main était posée sur le rideau; mais je préférais parler avant de le tirer, car j'avais peur de ne trouver qu'un cadavre.\n",
      " PREDICTED: Je m ' avançai . Puis , j ' entendis vers le lit , et j ' entendis la parole ; je la retirai avec moi ; je m ' y encore au cadavre d ' un cadavre .\n",
      "--------------------------------------------------------------------------------\n",
      "    SOURCE: 'If things go amiss,' she went on with the same coolness, 'I shall be stripped of everything.\n",
      "    TARGET: – Si ceci tourne mal, ajouta-t-elle avec le même sang-froid, on m’ôtera tout.\n",
      " PREDICTED: – Si des choses vont - en , continua - t - elle avec la même sang - froid , je serai perdue .\n",
      "--------------------------------------------------------------------------------\n"
     ]
    },
    {
     "name": "stderr",
     "output_type": "stream",
     "text": [
      "Processing Epoch 86: 100%|██████████| 2564/2564 [04:46<00:00,  8.95it/s, loss=1.603]\n"
     ]
    },
    {
     "name": "stdout",
     "output_type": "stream",
     "text": [
      "--------------------------------------------------------------------------------\n",
      "    SOURCE: \"It is one of our neighbours who has served against the French. He is rejoicing because peace has been declared.\"\n",
      "    TARGET: -- C'est chez un de nos voisins qui a servi contre les Français: Il se réjouit parce que la paix a été conclue.\n",
      " PREDICTED: -- C ' est une de nos voisins qui a fait la se bonheur contre l ' on a été faite .\n",
      "--------------------------------------------------------------------------------\n",
      "    SOURCE: \"I love you,\" she answered, throwing her arms about his neck.\n",
      "    TARGET: -- Je t’aime! répondit-elle en lui passant les bras autour du cou.\n",
      " PREDICTED: -- Je vous aime , répondit - elle en lui jetant sur le cou .\n",
      "--------------------------------------------------------------------------------\n"
     ]
    },
    {
     "name": "stderr",
     "output_type": "stream",
     "text": [
      "Processing Epoch 87: 100%|██████████| 2564/2564 [04:43<00:00,  9.04it/s, loss=1.699]\n"
     ]
    },
    {
     "name": "stdout",
     "output_type": "stream",
     "text": [
      "--------------------------------------------------------------------------------\n",
      "    SOURCE: \"The Spanish commanders in the convoy objected to this decision.\n",
      "    TARGET: « Les commandants espagnols du convoi protestèrent contre cette décision.\n",
      " PREDICTED: -- Les capitaines conduisit dans le convoi à cette décision .\n",
      "--------------------------------------------------------------------------------\n",
      "    SOURCE: This heightened his impatience, and, indeed, perplexed him beyond all bearing; for now he began to suspect that there was some mystery yet unfolded, but could not make the least guess at the real particulars of it; all that ran in his brain was, that I had another husband alive, which I could not say in fact might not be true, but I assured him, however, there was not the least of that in it; and indeed, as to my other husband, he was effectually dead in law to me, and had told me I should look on him as such, so I had not the least uneasiness on that score.\n",
      "    TARGET: Ceci accrut son impatience qui vraiment l'inquiéta plus qu'on ne saurait supporter; car, maintenant, il commença de soupçonner qu'il y avait quelque mystère encore enveloppé, mais ne put en approcher, si fort qu'il devinât; tout ce qui courait dans sa cervelle était que j'avais un autre mari vivant, mais je l'assurai qu'il n'y avait nulle parcelle de telle chose en l'affaire; en vérité, pour mon autre mari, il était réellement mort pour moi et il m'avait dit de le considérer comme tel, de sorte que je n'avais pas la moindre inquiétude sur ce chapitre.\n",
      " PREDICTED: Ceci vint faire de son impatience et dis - je , décidément ce fut un Ensuite ses efforts . Je commençai maintenant de sentir quelque mystère que j ' avais par lui , de même étrange mystère , mais n ' en pouvais rien faire de ses détails . toutes ses paroles étaient en effet que j ' étais là était en vérité vraie , je ne pouvais pas lui ; mais je n ' en lui pas la moindre inquiétude , je n ' en lui , que cet effet , vingt autres en somme je n ' étais là - même pas , comme l ' étais .\n",
      "--------------------------------------------------------------------------------\n"
     ]
    },
    {
     "name": "stderr",
     "output_type": "stream",
     "text": [
      "Processing Epoch 88: 100%|██████████| 2564/2564 [04:46<00:00,  8.96it/s, loss=1.486]\n"
     ]
    },
    {
     "name": "stdout",
     "output_type": "stream",
     "text": [
      "--------------------------------------------------------------------------------\n",
      "    SOURCE: She inquired like a virtuous mother about his companions.\n",
      "    TARGET: Elle s’informait, comme une mère vertueuse, de ses camarades.\n",
      " PREDICTED: Elle s ’ informa comme une famille de famille .\n",
      "--------------------------------------------------------------------------------\n",
      "    SOURCE: His reverie began once more.\n",
      "    TARGET: Ses rêveries recommencèrent.\n",
      " PREDICTED: Sa rêverie recommença .\n",
      "--------------------------------------------------------------------------------\n"
     ]
    },
    {
     "name": "stderr",
     "output_type": "stream",
     "text": [
      "Processing Epoch 89: 100%|██████████| 2564/2564 [04:40<00:00,  9.15it/s, loss=1.512]\n"
     ]
    },
    {
     "name": "stdout",
     "output_type": "stream",
     "text": [
      "--------------------------------------------------------------------------------\n",
      "    SOURCE: The days passed quickly, and I no longer kept track of them.\n",
      "    TARGET: Les journées s'écoulaient rapidement, et je ne les comptais plus.\n",
      " PREDICTED: Les jours s ' écoulèrent . Je ne vois plus la trace d ' eux .\n",
      "--------------------------------------------------------------------------------\n",
      "    SOURCE: It was a city formed of two layers only; the Romanesque layer and the Gothic layer; for the Roman layer had disappeared long before, with the exception of the Hot Baths of Julian, where it still pierced through the thick crust of the Middle Ages.\n",
      "    TARGET: C’était une cité formée de deux couches seulement, la couche romane et la couche gothique, car la couche romaine avait disparu depuis longtemps, excepté aux Thermes de Julien où elle perçait encore la croûte épaisse du moyen âge.\n",
      " PREDICTED: C ’ était une ville prise de deux couches , la couche romane et la couche romane , ce qui avait disparu avant la couche romane , depuis qu ’ il eût suffi de l ’ de Julien , où elle c ’ était encore percé l ’ arbre du moyen âge .\n",
      "--------------------------------------------------------------------------------\n"
     ]
    }
   ],
   "source": [
    "from train import train_model\n",
    "import torch\n",
    "torch.cuda.amp.autocast(enabled=True)\n",
    "train_model(cfg)"
   ]
  },
  {
   "cell_type": "code",
   "execution_count": null,
   "metadata": {
    "id": "S1nJP7DQaQyH"
   },
   "outputs": [
    {
     "name": "stdout",
     "output_type": "stream",
     "text": [
      "2023-09-08 12:23:37.113629: I tensorflow/core/platform/cpu_feature_guard.cc:193] This TensorFlow binary is optimized with oneAPI Deep Neural Network Library (oneDNN) to use the following CPU instructions in performance-critical operations:  AVX2 FMA\n",
      "To enable them in other operations, rebuild TensorFlow with the appropriate compiler flags.\n",
      "2023-09-08 12:23:37.222820: W tensorflow/compiler/xla/stream_executor/platform/default/dso_loader.cc:64] Could not load dynamic library 'libcudart.so.11.0'; dlerror: libcudart.so.11.0: cannot open shared object file: No such file or directory; LD_LIBRARY_PATH: /usr/local/lib/x86_64-linux-gnu/:/usr/local/lib:/usr/local/bin:/usr/local/bin/plugins:/usr/local/bin/dependantDll:/usr/local/lib:/vcpkg/installed/x64-linux/lib/:/usr/local/nvidia/lib:/usr/local/nvidia/lib64\n",
      "2023-09-08 12:23:37.222868: I tensorflow/compiler/xla/stream_executor/cuda/cudart_stub.cc:29] Ignore above cudart dlerror if you do not have a GPU set up on your machine.\n",
      "2023-09-08 12:23:37.950126: W tensorflow/compiler/xla/stream_executor/platform/default/dso_loader.cc:64] Could not load dynamic library 'libnvinfer.so.7'; dlerror: libnvinfer.so.7: cannot open shared object file: No such file or directory; LD_LIBRARY_PATH: /usr/local/lib/x86_64-linux-gnu/:/usr/local/lib:/usr/local/bin:/usr/local/bin/plugins:/usr/local/bin/dependantDll:/usr/local/lib:/vcpkg/installed/x64-linux/lib/:/usr/local/nvidia/lib:/usr/local/nvidia/lib64\n",
      "2023-09-08 12:23:37.950228: W tensorflow/compiler/xla/stream_executor/platform/default/dso_loader.cc:64] Could not load dynamic library 'libnvinfer_plugin.so.7'; dlerror: libnvinfer_plugin.so.7: cannot open shared object file: No such file or directory; LD_LIBRARY_PATH: /usr/local/lib/x86_64-linux-gnu/:/usr/local/lib:/usr/local/bin:/usr/local/bin/plugins:/usr/local/bin/dependantDll:/usr/local/lib:/vcpkg/installed/x64-linux/lib/:/usr/local/nvidia/lib:/usr/local/nvidia/lib64\n",
      "2023-09-08 12:23:37.950240: W tensorflow/compiler/tf2tensorrt/utils/py_utils.cc:38] TF-TRT Warning: Cannot dlopen some TensorRT libraries. If you would like to use Nvidia GPU with TensorRT, please make sure the missing libraries mentioned above are installed properly.\n",
      "2023-09-08 12:23:38.933546: W tensorflow/compiler/xla/stream_executor/platform/default/dso_loader.cc:64] Could not load dynamic library 'libcudart.so.11.0'; dlerror: libcudart.so.11.0: cannot open shared object file: No such file or directory; LD_LIBRARY_PATH: /usr/local/lib/x86_64-linux-gnu/:/usr/local/lib:/usr/local/bin:/usr/local/bin/plugins:/usr/local/bin/dependantDll:/usr/local/lib:/vcpkg/installed/x64-linux/lib/:/usr/local/nvidia/lib:/usr/local/nvidia/lib64\n",
      "2023-09-08 12:23:38.933653: W tensorflow/compiler/xla/stream_executor/platform/default/dso_loader.cc:64] Could not load dynamic library 'libcublas.so.11'; dlerror: libcublas.so.11: cannot open shared object file: No such file or directory; LD_LIBRARY_PATH: /usr/local/lib/x86_64-linux-gnu/:/usr/local/lib:/usr/local/bin:/usr/local/bin/plugins:/usr/local/bin/dependantDll:/usr/local/lib:/vcpkg/installed/x64-linux/lib/:/usr/local/nvidia/lib:/usr/local/nvidia/lib64\n",
      "2023-09-08 12:23:38.933721: W tensorflow/compiler/xla/stream_executor/platform/default/dso_loader.cc:64] Could not load dynamic library 'libcublasLt.so.11'; dlerror: libcublasLt.so.11: cannot open shared object file: No such file or directory; LD_LIBRARY_PATH: /usr/local/lib/x86_64-linux-gnu/:/usr/local/lib:/usr/local/bin:/usr/local/bin/plugins:/usr/local/bin/dependantDll:/usr/local/lib:/vcpkg/installed/x64-linux/lib/:/usr/local/nvidia/lib:/usr/local/nvidia/lib64\n",
      "2023-09-08 12:23:38.933788: W tensorflow/compiler/xla/stream_executor/platform/default/dso_loader.cc:64] Could not load dynamic library 'libcufft.so.10'; dlerror: libcufft.so.10: cannot open shared object file: No such file or directory; LD_LIBRARY_PATH: /usr/local/lib/x86_64-linux-gnu/:/usr/local/lib:/usr/local/bin:/usr/local/bin/plugins:/usr/local/bin/dependantDll:/usr/local/lib:/vcpkg/installed/x64-linux/lib/:/usr/local/nvidia/lib:/usr/local/nvidia/lib64\n",
      "2023-09-08 12:23:38.969851: W tensorflow/compiler/xla/stream_executor/platform/default/dso_loader.cc:64] Could not load dynamic library 'libcusparse.so.11'; dlerror: libcusparse.so.11: cannot open shared object file: No such file or directory; LD_LIBRARY_PATH: /usr/local/lib/x86_64-linux-gnu/:/usr/local/lib:/usr/local/bin:/usr/local/bin/plugins:/usr/local/bin/dependantDll:/usr/local/lib:/vcpkg/installed/x64-linux/lib/:/usr/local/nvidia/lib:/usr/local/nvidia/lib64\n",
      "2023-09-08 12:23:38.970115: W tensorflow/core/common_runtime/gpu/gpu_device.cc:1934] Cannot dlopen some GPU libraries. Please make sure the missing libraries mentioned above are installed properly if you would like to use GPU. Follow the guide at https://www.tensorflow.org/install/gpu for how to download and setup the required libraries for your platform.\n",
      "Skipping registering GPU devices...\n",
      "\n",
      "NOTE: Using experimental fast data loading logic. To disable, pass\n",
      "    \"--load_fast=false\" and report issues on GitHub. More details:\n",
      "    https://github.com/tensorflow/tensorboard/issues/4784\n",
      "\n",
      "Serving TensorBoard on localhost; to expose to the network, use a proxy or pass --bind_all\n",
      "TensorBoard 2.11.2 at http://localhost:6001/ (Press CTRL+C to quit)\n"
     ]
    }
   ],
   "source": [
    "!tensorboard --logdir runs/ --port 6001"
   ]
  },
  {
   "cell_type": "code",
   "execution_count": 5,
   "metadata": {},
   "outputs": [
    {
     "name": "stdout",
     "output_type": "stream",
     "text": [
      "Keyring is skipped due to an exception: 'keyring.backends'\n",
      "Collecting protobuf==3.20\n",
      "  Downloading protobuf-3.20.0-cp37-cp37m-manylinux_2_5_x86_64.manylinux1_x86_64.whl (1.0 MB)\n",
      "\u001b[K     |████████████████████████████████| 1.0 MB 3.0 MB/s eta 0:00:01\n",
      "\u001b[31mERROR: tensorflow 2.11.0 has requirement protobuf<3.20,>=3.9.2, but you'll have protobuf 3.20.0 which is incompatible.\u001b[0m\n",
      "\u001b[?25hInstalling collected packages: protobuf\n",
      "  Attempting uninstall: protobuf\n",
      "    Found existing installation: protobuf 4.24.2\n",
      "    Uninstalling protobuf-4.24.2:\n",
      "      Successfully uninstalled protobuf-4.24.2\n",
      "Successfully installed protobuf-3.20.0\n"
     ]
    }
   ],
   "source": [
    "!pip install protobuf==3.20"
   ]
  },
  {
   "cell_type": "code",
   "execution_count": null,
   "metadata": {},
   "outputs": [],
   "source": []
  }
 ],
 "metadata": {
  "accelerator": "GPU",
  "colab": {
   "gpuType": "T4",
   "provenance": []
  },
  "kernelspec": {
   "display_name": "Python 3",
   "language": "python",
   "name": "python3"
  },
  "language_info": {
   "codemirror_mode": {
    "name": "ipython",
    "version": 3
   },
   "file_extension": ".py",
   "mimetype": "text/x-python",
   "name": "python",
   "nbconvert_exporter": "python",
   "pygments_lexer": "ipython3",
   "version": "3.7.6"
  },
  "widgets": {
   "application/vnd.jupyter.widget-state+json": {
    "0e49ea5914d244a1ae3c1849daab7a4c": {
     "model_module": "@jupyter-widgets/base",
     "model_module_version": "1.2.0",
     "model_name": "LayoutModel",
     "state": {
      "_model_module": "@jupyter-widgets/base",
      "_model_module_version": "1.2.0",
      "_model_name": "LayoutModel",
      "_view_count": null,
      "_view_module": "@jupyter-widgets/base",
      "_view_module_version": "1.2.0",
      "_view_name": "LayoutView",
      "align_content": null,
      "align_items": null,
      "align_self": null,
      "border": null,
      "bottom": null,
      "display": null,
      "flex": null,
      "flex_flow": null,
      "grid_area": null,
      "grid_auto_columns": null,
      "grid_auto_flow": null,
      "grid_auto_rows": null,
      "grid_column": null,
      "grid_gap": null,
      "grid_row": null,
      "grid_template_areas": null,
      "grid_template_columns": null,
      "grid_template_rows": null,
      "height": null,
      "justify_content": null,
      "justify_items": null,
      "left": null,
      "margin": null,
      "max_height": null,
      "max_width": null,
      "min_height": null,
      "min_width": null,
      "object_fit": null,
      "object_position": null,
      "order": null,
      "overflow": null,
      "overflow_x": null,
      "overflow_y": null,
      "padding": null,
      "right": null,
      "top": null,
      "visibility": null,
      "width": null
     }
    },
    "139bf5ee642b4241b25afeda3c111b91": {
     "model_module": "@jupyter-widgets/controls",
     "model_module_version": "1.5.0",
     "model_name": "FloatProgressModel",
     "state": {
      "_dom_classes": [],
      "_model_module": "@jupyter-widgets/controls",
      "_model_module_version": "1.5.0",
      "_model_name": "FloatProgressModel",
      "_view_count": null,
      "_view_module": "@jupyter-widgets/controls",
      "_view_module_version": "1.5.0",
      "_view_name": "ProgressView",
      "bar_style": "success",
      "description": "",
      "description_tooltip": null,
      "layout": "IPY_MODEL_cf30573908ab49a5b39943b8d357d534",
      "max": 6081,
      "min": 0,
      "orientation": "horizontal",
      "style": "IPY_MODEL_60c225cd1f164ae184f82ceda697b789",
      "value": 6081
     }
    },
    "1c535ac18fbc4fb79c783a790e8baa21": {
     "model_module": "@jupyter-widgets/base",
     "model_module_version": "1.2.0",
     "model_name": "LayoutModel",
     "state": {
      "_model_module": "@jupyter-widgets/base",
      "_model_module_version": "1.2.0",
      "_model_name": "LayoutModel",
      "_view_count": null,
      "_view_module": "@jupyter-widgets/base",
      "_view_module_version": "1.2.0",
      "_view_name": "LayoutView",
      "align_content": null,
      "align_items": null,
      "align_self": null,
      "border": null,
      "bottom": null,
      "display": null,
      "flex": null,
      "flex_flow": null,
      "grid_area": null,
      "grid_auto_columns": null,
      "grid_auto_flow": null,
      "grid_auto_rows": null,
      "grid_column": null,
      "grid_gap": null,
      "grid_row": null,
      "grid_template_areas": null,
      "grid_template_columns": null,
      "grid_template_rows": null,
      "height": null,
      "justify_content": null,
      "justify_items": null,
      "left": null,
      "margin": null,
      "max_height": null,
      "max_width": null,
      "min_height": null,
      "min_width": null,
      "object_fit": null,
      "object_position": null,
      "order": null,
      "overflow": null,
      "overflow_x": null,
      "overflow_y": null,
      "padding": null,
      "right": null,
      "top": null,
      "visibility": null,
      "width": null
     }
    },
    "280a03e2f6bf4b81a8a54bcbca26565b": {
     "model_module": "@jupyter-widgets/controls",
     "model_module_version": "1.5.0",
     "model_name": "HTMLModel",
     "state": {
      "_dom_classes": [],
      "_model_module": "@jupyter-widgets/controls",
      "_model_module_version": "1.5.0",
      "_model_name": "HTMLModel",
      "_view_count": null,
      "_view_module": "@jupyter-widgets/controls",
      "_view_module_version": "1.5.0",
      "_view_name": "HTMLView",
      "description": "",
      "description_tooltip": null,
      "layout": "IPY_MODEL_6b75dbfe88734b14befee850b78328b9",
      "placeholder": "​",
      "style": "IPY_MODEL_b52ef85ce6384d6eb212df2f2e4435e0",
      "value": " 3.30M/3.30M [00:01&lt;00:00, 5.28MB/s]"
     }
    },
    "2855d19fe2cf4c7bba9990b0a5e5c02b": {
     "model_module": "@jupyter-widgets/base",
     "model_module_version": "1.2.0",
     "model_name": "LayoutModel",
     "state": {
      "_model_module": "@jupyter-widgets/base",
      "_model_module_version": "1.2.0",
      "_model_name": "LayoutModel",
      "_view_count": null,
      "_view_module": "@jupyter-widgets/base",
      "_view_module_version": "1.2.0",
      "_view_name": "LayoutView",
      "align_content": null,
      "align_items": null,
      "align_self": null,
      "border": null,
      "bottom": null,
      "display": null,
      "flex": null,
      "flex_flow": null,
      "grid_area": null,
      "grid_auto_columns": null,
      "grid_auto_flow": null,
      "grid_auto_rows": null,
      "grid_column": null,
      "grid_gap": null,
      "grid_row": null,
      "grid_template_areas": null,
      "grid_template_columns": null,
      "grid_template_rows": null,
      "height": null,
      "justify_content": null,
      "justify_items": null,
      "left": null,
      "margin": null,
      "max_height": null,
      "max_width": null,
      "min_height": null,
      "min_width": null,
      "object_fit": null,
      "object_position": null,
      "order": null,
      "overflow": null,
      "overflow_x": null,
      "overflow_y": null,
      "padding": null,
      "right": null,
      "top": null,
      "visibility": null,
      "width": null
     }
    },
    "28c0656e580445cea3396f42853c0a8c": {
     "model_module": "@jupyter-widgets/controls",
     "model_module_version": "1.5.0",
     "model_name": "HTMLModel",
     "state": {
      "_dom_classes": [],
      "_model_module": "@jupyter-widgets/controls",
      "_model_module_version": "1.5.0",
      "_model_name": "HTMLModel",
      "_view_count": null,
      "_view_module": "@jupyter-widgets/controls",
      "_view_module_version": "1.5.0",
      "_view_name": "HTMLView",
      "description": "",
      "description_tooltip": null,
      "layout": "IPY_MODEL_9041b147ed4944d98aa08f013634aa99",
      "placeholder": "​",
      "style": "IPY_MODEL_8f272f2411144d44af509bb9453b2342",
      "value": "Downloading readme: 100%"
     }
    },
    "28cd4a1786ed4629b612bc40270ddc26": {
     "model_module": "@jupyter-widgets/controls",
     "model_module_version": "1.5.0",
     "model_name": "DescriptionStyleModel",
     "state": {
      "_model_module": "@jupyter-widgets/controls",
      "_model_module_version": "1.5.0",
      "_model_name": "DescriptionStyleModel",
      "_view_count": null,
      "_view_module": "@jupyter-widgets/base",
      "_view_module_version": "1.2.0",
      "_view_name": "StyleView",
      "description_width": ""
     }
    },
    "2a4e2a76d9cc4cb997124fb4c0ffd59b": {
     "model_module": "@jupyter-widgets/base",
     "model_module_version": "1.2.0",
     "model_name": "LayoutModel",
     "state": {
      "_model_module": "@jupyter-widgets/base",
      "_model_module_version": "1.2.0",
      "_model_name": "LayoutModel",
      "_view_count": null,
      "_view_module": "@jupyter-widgets/base",
      "_view_module_version": "1.2.0",
      "_view_name": "LayoutView",
      "align_content": null,
      "align_items": null,
      "align_self": null,
      "border": null,
      "bottom": null,
      "display": null,
      "flex": null,
      "flex_flow": null,
      "grid_area": null,
      "grid_auto_columns": null,
      "grid_auto_flow": null,
      "grid_auto_rows": null,
      "grid_column": null,
      "grid_gap": null,
      "grid_row": null,
      "grid_template_areas": null,
      "grid_template_columns": null,
      "grid_template_rows": null,
      "height": null,
      "justify_content": null,
      "justify_items": null,
      "left": null,
      "margin": null,
      "max_height": null,
      "max_width": null,
      "min_height": null,
      "min_width": null,
      "object_fit": null,
      "object_position": null,
      "order": null,
      "overflow": null,
      "overflow_x": null,
      "overflow_y": null,
      "padding": null,
      "right": null,
      "top": null,
      "visibility": null,
      "width": null
     }
    },
    "2c8abd1f649544f3af7ff7c1019b8a00": {
     "model_module": "@jupyter-widgets/controls",
     "model_module_version": "1.5.0",
     "model_name": "HTMLModel",
     "state": {
      "_dom_classes": [],
      "_model_module": "@jupyter-widgets/controls",
      "_model_module_version": "1.5.0",
      "_model_name": "HTMLModel",
      "_view_count": null,
      "_view_module": "@jupyter-widgets/controls",
      "_view_module_version": "1.5.0",
      "_view_name": "HTMLView",
      "description": "",
      "description_tooltip": null,
      "layout": "IPY_MODEL_c8ed6dfd31344d30a89b0a82a9beabf5",
      "placeholder": "​",
      "style": "IPY_MODEL_28cd4a1786ed4629b612bc40270ddc26",
      "value": "Generating train split: 100%"
     }
    },
    "2ef8106a9a4c4bf692d6c76854f1e945": {
     "model_module": "@jupyter-widgets/controls",
     "model_module_version": "1.5.0",
     "model_name": "DescriptionStyleModel",
     "state": {
      "_model_module": "@jupyter-widgets/controls",
      "_model_module_version": "1.5.0",
      "_model_name": "DescriptionStyleModel",
      "_view_count": null,
      "_view_module": "@jupyter-widgets/base",
      "_view_module_version": "1.2.0",
      "_view_name": "StyleView",
      "description_width": ""
     }
    },
    "2f3e3b513660433cbd81d591b4d84ab1": {
     "model_module": "@jupyter-widgets/base",
     "model_module_version": "1.2.0",
     "model_name": "LayoutModel",
     "state": {
      "_model_module": "@jupyter-widgets/base",
      "_model_module_version": "1.2.0",
      "_model_name": "LayoutModel",
      "_view_count": null,
      "_view_module": "@jupyter-widgets/base",
      "_view_module_version": "1.2.0",
      "_view_name": "LayoutView",
      "align_content": null,
      "align_items": null,
      "align_self": null,
      "border": null,
      "bottom": null,
      "display": null,
      "flex": null,
      "flex_flow": null,
      "grid_area": null,
      "grid_auto_columns": null,
      "grid_auto_flow": null,
      "grid_auto_rows": null,
      "grid_column": null,
      "grid_gap": null,
      "grid_row": null,
      "grid_template_areas": null,
      "grid_template_columns": null,
      "grid_template_rows": null,
      "height": null,
      "justify_content": null,
      "justify_items": null,
      "left": null,
      "margin": null,
      "max_height": null,
      "max_width": null,
      "min_height": null,
      "min_width": null,
      "object_fit": null,
      "object_position": null,
      "order": null,
      "overflow": null,
      "overflow_x": null,
      "overflow_y": null,
      "padding": null,
      "right": null,
      "top": null,
      "visibility": null,
      "width": null
     }
    },
    "3238487c407e463b801675b6bc36cf7f": {
     "model_module": "@jupyter-widgets/base",
     "model_module_version": "1.2.0",
     "model_name": "LayoutModel",
     "state": {
      "_model_module": "@jupyter-widgets/base",
      "_model_module_version": "1.2.0",
      "_model_name": "LayoutModel",
      "_view_count": null,
      "_view_module": "@jupyter-widgets/base",
      "_view_module_version": "1.2.0",
      "_view_name": "LayoutView",
      "align_content": null,
      "align_items": null,
      "align_self": null,
      "border": null,
      "bottom": null,
      "display": null,
      "flex": null,
      "flex_flow": null,
      "grid_area": null,
      "grid_auto_columns": null,
      "grid_auto_flow": null,
      "grid_auto_rows": null,
      "grid_column": null,
      "grid_gap": null,
      "grid_row": null,
      "grid_template_areas": null,
      "grid_template_columns": null,
      "grid_template_rows": null,
      "height": null,
      "justify_content": null,
      "justify_items": null,
      "left": null,
      "margin": null,
      "max_height": null,
      "max_width": null,
      "min_height": null,
      "min_width": null,
      "object_fit": null,
      "object_position": null,
      "order": null,
      "overflow": null,
      "overflow_x": null,
      "overflow_y": null,
      "padding": null,
      "right": null,
      "top": null,
      "visibility": null,
      "width": null
     }
    },
    "36633c66ec684af086f2019d90a80ba9": {
     "model_module": "@jupyter-widgets/base",
     "model_module_version": "1.2.0",
     "model_name": "LayoutModel",
     "state": {
      "_model_module": "@jupyter-widgets/base",
      "_model_module_version": "1.2.0",
      "_model_name": "LayoutModel",
      "_view_count": null,
      "_view_module": "@jupyter-widgets/base",
      "_view_module_version": "1.2.0",
      "_view_name": "LayoutView",
      "align_content": null,
      "align_items": null,
      "align_self": null,
      "border": null,
      "bottom": null,
      "display": null,
      "flex": null,
      "flex_flow": null,
      "grid_area": null,
      "grid_auto_columns": null,
      "grid_auto_flow": null,
      "grid_auto_rows": null,
      "grid_column": null,
      "grid_gap": null,
      "grid_row": null,
      "grid_template_areas": null,
      "grid_template_columns": null,
      "grid_template_rows": null,
      "height": null,
      "justify_content": null,
      "justify_items": null,
      "left": null,
      "margin": null,
      "max_height": null,
      "max_width": null,
      "min_height": null,
      "min_width": null,
      "object_fit": null,
      "object_position": null,
      "order": null,
      "overflow": null,
      "overflow_x": null,
      "overflow_y": null,
      "padding": null,
      "right": null,
      "top": null,
      "visibility": null,
      "width": null
     }
    },
    "3932ccf37b424d5c8343f05e8f935233": {
     "model_module": "@jupyter-widgets/controls",
     "model_module_version": "1.5.0",
     "model_name": "FloatProgressModel",
     "state": {
      "_dom_classes": [],
      "_model_module": "@jupyter-widgets/controls",
      "_model_module_version": "1.5.0",
      "_model_name": "FloatProgressModel",
      "_view_count": null,
      "_view_module": "@jupyter-widgets/controls",
      "_view_module_version": "1.5.0",
      "_view_name": "ProgressView",
      "bar_style": "success",
      "description": "",
      "description_tooltip": null,
      "layout": "IPY_MODEL_2855d19fe2cf4c7bba9990b0a5e5c02b",
      "max": 3295251,
      "min": 0,
      "orientation": "horizontal",
      "style": "IPY_MODEL_a690d30e1a404303be8f78b7a68393e0",
      "value": 3295251
     }
    },
    "524d9ebff4c349a4abb4d749972e00ef": {
     "model_module": "@jupyter-widgets/base",
     "model_module_version": "1.2.0",
     "model_name": "LayoutModel",
     "state": {
      "_model_module": "@jupyter-widgets/base",
      "_model_module_version": "1.2.0",
      "_model_name": "LayoutModel",
      "_view_count": null,
      "_view_module": "@jupyter-widgets/base",
      "_view_module_version": "1.2.0",
      "_view_name": "LayoutView",
      "align_content": null,
      "align_items": null,
      "align_self": null,
      "border": null,
      "bottom": null,
      "display": null,
      "flex": null,
      "flex_flow": null,
      "grid_area": null,
      "grid_auto_columns": null,
      "grid_auto_flow": null,
      "grid_auto_rows": null,
      "grid_column": null,
      "grid_gap": null,
      "grid_row": null,
      "grid_template_areas": null,
      "grid_template_columns": null,
      "grid_template_rows": null,
      "height": null,
      "justify_content": null,
      "justify_items": null,
      "left": null,
      "margin": null,
      "max_height": null,
      "max_width": null,
      "min_height": null,
      "min_width": null,
      "object_fit": null,
      "object_position": null,
      "order": null,
      "overflow": null,
      "overflow_x": null,
      "overflow_y": null,
      "padding": null,
      "right": null,
      "top": null,
      "visibility": null,
      "width": null
     }
    },
    "52d959316a944f258cddb287056ea547": {
     "model_module": "@jupyter-widgets/base",
     "model_module_version": "1.2.0",
     "model_name": "LayoutModel",
     "state": {
      "_model_module": "@jupyter-widgets/base",
      "_model_module_version": "1.2.0",
      "_model_name": "LayoutModel",
      "_view_count": null,
      "_view_module": "@jupyter-widgets/base",
      "_view_module_version": "1.2.0",
      "_view_name": "LayoutView",
      "align_content": null,
      "align_items": null,
      "align_self": null,
      "border": null,
      "bottom": null,
      "display": null,
      "flex": null,
      "flex_flow": null,
      "grid_area": null,
      "grid_auto_columns": null,
      "grid_auto_flow": null,
      "grid_auto_rows": null,
      "grid_column": null,
      "grid_gap": null,
      "grid_row": null,
      "grid_template_areas": null,
      "grid_template_columns": null,
      "grid_template_rows": null,
      "height": null,
      "justify_content": null,
      "justify_items": null,
      "left": null,
      "margin": null,
      "max_height": null,
      "max_width": null,
      "min_height": null,
      "min_width": null,
      "object_fit": null,
      "object_position": null,
      "order": null,
      "overflow": null,
      "overflow_x": null,
      "overflow_y": null,
      "padding": null,
      "right": null,
      "top": null,
      "visibility": null,
      "width": null
     }
    },
    "5323904a6ea6493f8e0930ae41207e4f": {
     "model_module": "@jupyter-widgets/controls",
     "model_module_version": "1.5.0",
     "model_name": "DescriptionStyleModel",
     "state": {
      "_model_module": "@jupyter-widgets/controls",
      "_model_module_version": "1.5.0",
      "_model_name": "DescriptionStyleModel",
      "_view_count": null,
      "_view_module": "@jupyter-widgets/base",
      "_view_module_version": "1.2.0",
      "_view_name": "StyleView",
      "description_width": ""
     }
    },
    "58e08a9713f144a086de261c0582d85c": {
     "model_module": "@jupyter-widgets/controls",
     "model_module_version": "1.5.0",
     "model_name": "HBoxModel",
     "state": {
      "_dom_classes": [],
      "_model_module": "@jupyter-widgets/controls",
      "_model_module_version": "1.5.0",
      "_model_name": "HBoxModel",
      "_view_count": null,
      "_view_module": "@jupyter-widgets/controls",
      "_view_module_version": "1.5.0",
      "_view_name": "HBoxView",
      "box_style": "",
      "children": [
       "IPY_MODEL_28c0656e580445cea3396f42853c0a8c",
       "IPY_MODEL_f924915c22414923a11bda2d9d349d1e",
       "IPY_MODEL_7f437a7c99094ed9b366a0f4c75e48ae"
      ],
      "layout": "IPY_MODEL_8890add9bd864e6db9c355c578f6b4a8"
     }
    },
    "5b3c88131f9f4d478849220627be9039": {
     "model_module": "@jupyter-widgets/controls",
     "model_module_version": "1.5.0",
     "model_name": "ProgressStyleModel",
     "state": {
      "_model_module": "@jupyter-widgets/controls",
      "_model_module_version": "1.5.0",
      "_model_name": "ProgressStyleModel",
      "_view_count": null,
      "_view_module": "@jupyter-widgets/base",
      "_view_module_version": "1.2.0",
      "_view_name": "StyleView",
      "bar_color": null,
      "description_width": ""
     }
    },
    "5d08788d606046f3ae750202571ee942": {
     "model_module": "@jupyter-widgets/controls",
     "model_module_version": "1.5.0",
     "model_name": "HBoxModel",
     "state": {
      "_dom_classes": [],
      "_model_module": "@jupyter-widgets/controls",
      "_model_module_version": "1.5.0",
      "_model_name": "HBoxModel",
      "_view_count": null,
      "_view_module": "@jupyter-widgets/controls",
      "_view_module_version": "1.5.0",
      "_view_name": "HBoxView",
      "box_style": "",
      "children": [
       "IPY_MODEL_befc41b483264aef8d540cb112c58e37",
       "IPY_MODEL_629853771f0b4679a9259e91806d4524",
       "IPY_MODEL_853dfeb95d964e5e9f2df01f208b2c22"
      ],
      "layout": "IPY_MODEL_524d9ebff4c349a4abb4d749972e00ef"
     }
    },
    "60c225cd1f164ae184f82ceda697b789": {
     "model_module": "@jupyter-widgets/controls",
     "model_module_version": "1.5.0",
     "model_name": "ProgressStyleModel",
     "state": {
      "_model_module": "@jupyter-widgets/controls",
      "_model_module_version": "1.5.0",
      "_model_name": "ProgressStyleModel",
      "_view_count": null,
      "_view_module": "@jupyter-widgets/base",
      "_view_module_version": "1.2.0",
      "_view_name": "StyleView",
      "bar_color": null,
      "description_width": ""
     }
    },
    "629853771f0b4679a9259e91806d4524": {
     "model_module": "@jupyter-widgets/controls",
     "model_module_version": "1.5.0",
     "model_name": "FloatProgressModel",
     "state": {
      "_dom_classes": [],
      "_model_module": "@jupyter-widgets/controls",
      "_model_module_version": "1.5.0",
      "_model_name": "FloatProgressModel",
      "_view_count": null,
      "_view_module": "@jupyter-widgets/controls",
      "_view_module_version": "1.5.0",
      "_view_name": "ProgressView",
      "bar_style": "success",
      "description": "",
      "description_tooltip": null,
      "layout": "IPY_MODEL_1c535ac18fbc4fb79c783a790e8baa21",
      "max": 161154,
      "min": 0,
      "orientation": "horizontal",
      "style": "IPY_MODEL_dac287a0e467416fba03bf53e612fd6f",
      "value": 161154
     }
    },
    "6387bc3f18614c7d85e014bda08d2ca3": {
     "model_module": "@jupyter-widgets/controls",
     "model_module_version": "1.5.0",
     "model_name": "DescriptionStyleModel",
     "state": {
      "_model_module": "@jupyter-widgets/controls",
      "_model_module_version": "1.5.0",
      "_model_name": "DescriptionStyleModel",
      "_view_count": null,
      "_view_module": "@jupyter-widgets/base",
      "_view_module_version": "1.2.0",
      "_view_name": "StyleView",
      "description_width": ""
     }
    },
    "673a9469cb294296a34cb05e39e7841f": {
     "model_module": "@jupyter-widgets/controls",
     "model_module_version": "1.5.0",
     "model_name": "HTMLModel",
     "state": {
      "_dom_classes": [],
      "_model_module": "@jupyter-widgets/controls",
      "_model_module_version": "1.5.0",
      "_model_name": "HTMLModel",
      "_view_count": null,
      "_view_module": "@jupyter-widgets/controls",
      "_view_module_version": "1.5.0",
      "_view_name": "HTMLView",
      "description": "",
      "description_tooltip": null,
      "layout": "IPY_MODEL_52d959316a944f258cddb287056ea547",
      "placeholder": "​",
      "style": "IPY_MODEL_dc0c802381a44bb082dba11213499b72",
      "value": "Downloading data: 100%"
     }
    },
    "6b75dbfe88734b14befee850b78328b9": {
     "model_module": "@jupyter-widgets/base",
     "model_module_version": "1.2.0",
     "model_name": "LayoutModel",
     "state": {
      "_model_module": "@jupyter-widgets/base",
      "_model_module_version": "1.2.0",
      "_model_name": "LayoutModel",
      "_view_count": null,
      "_view_module": "@jupyter-widgets/base",
      "_view_module_version": "1.2.0",
      "_view_name": "LayoutView",
      "align_content": null,
      "align_items": null,
      "align_self": null,
      "border": null,
      "bottom": null,
      "display": null,
      "flex": null,
      "flex_flow": null,
      "grid_area": null,
      "grid_auto_columns": null,
      "grid_auto_flow": null,
      "grid_auto_rows": null,
      "grid_column": null,
      "grid_gap": null,
      "grid_row": null,
      "grid_template_areas": null,
      "grid_template_columns": null,
      "grid_template_rows": null,
      "height": null,
      "justify_content": null,
      "justify_items": null,
      "left": null,
      "margin": null,
      "max_height": null,
      "max_width": null,
      "min_height": null,
      "min_width": null,
      "object_fit": null,
      "object_position": null,
      "order": null,
      "overflow": null,
      "overflow_x": null,
      "overflow_y": null,
      "padding": null,
      "right": null,
      "top": null,
      "visibility": null,
      "width": null
     }
    },
    "6dfdc9d03baf41378a5ab767cfc820f3": {
     "model_module": "@jupyter-widgets/base",
     "model_module_version": "1.2.0",
     "model_name": "LayoutModel",
     "state": {
      "_model_module": "@jupyter-widgets/base",
      "_model_module_version": "1.2.0",
      "_model_name": "LayoutModel",
      "_view_count": null,
      "_view_module": "@jupyter-widgets/base",
      "_view_module_version": "1.2.0",
      "_view_name": "LayoutView",
      "align_content": null,
      "align_items": null,
      "align_self": null,
      "border": null,
      "bottom": null,
      "display": null,
      "flex": null,
      "flex_flow": null,
      "grid_area": null,
      "grid_auto_columns": null,
      "grid_auto_flow": null,
      "grid_auto_rows": null,
      "grid_column": null,
      "grid_gap": null,
      "grid_row": null,
      "grid_template_areas": null,
      "grid_template_columns": null,
      "grid_template_rows": null,
      "height": null,
      "justify_content": null,
      "justify_items": null,
      "left": null,
      "margin": null,
      "max_height": null,
      "max_width": null,
      "min_height": null,
      "min_width": null,
      "object_fit": null,
      "object_position": null,
      "order": null,
      "overflow": null,
      "overflow_x": null,
      "overflow_y": null,
      "padding": null,
      "right": null,
      "top": null,
      "visibility": null,
      "width": null
     }
    },
    "6e712f1bc78642a39ff9280298d4f3f4": {
     "model_module": "@jupyter-widgets/controls",
     "model_module_version": "1.5.0",
     "model_name": "DescriptionStyleModel",
     "state": {
      "_model_module": "@jupyter-widgets/controls",
      "_model_module_version": "1.5.0",
      "_model_name": "DescriptionStyleModel",
      "_view_count": null,
      "_view_module": "@jupyter-widgets/base",
      "_view_module_version": "1.2.0",
      "_view_name": "StyleView",
      "description_width": ""
     }
    },
    "736272ef7338412381b901ebf9457c96": {
     "model_module": "@jupyter-widgets/controls",
     "model_module_version": "1.5.0",
     "model_name": "ProgressStyleModel",
     "state": {
      "_model_module": "@jupyter-widgets/controls",
      "_model_module_version": "1.5.0",
      "_model_name": "ProgressStyleModel",
      "_view_count": null,
      "_view_module": "@jupyter-widgets/base",
      "_view_module_version": "1.2.0",
      "_view_name": "StyleView",
      "bar_color": null,
      "description_width": ""
     }
    },
    "7f437a7c99094ed9b366a0f4c75e48ae": {
     "model_module": "@jupyter-widgets/controls",
     "model_module_version": "1.5.0",
     "model_name": "HTMLModel",
     "state": {
      "_dom_classes": [],
      "_model_module": "@jupyter-widgets/controls",
      "_model_module_version": "1.5.0",
      "_model_name": "HTMLModel",
      "_view_count": null,
      "_view_module": "@jupyter-widgets/controls",
      "_view_module_version": "1.5.0",
      "_view_name": "HTMLView",
      "description": "",
      "description_tooltip": null,
      "layout": "IPY_MODEL_e0b25f852eee4d499b12a5c9cfae06da",
      "placeholder": "​",
      "style": "IPY_MODEL_5323904a6ea6493f8e0930ae41207e4f",
      "value": " 20.5k/20.5k [00:00&lt;00:00, 813kB/s]"
     }
    },
    "84fd32d5dae445f3ac23ce0031c0a628": {
     "model_module": "@jupyter-widgets/controls",
     "model_module_version": "1.5.0",
     "model_name": "DescriptionStyleModel",
     "state": {
      "_model_module": "@jupyter-widgets/controls",
      "_model_module_version": "1.5.0",
      "_model_name": "DescriptionStyleModel",
      "_view_count": null,
      "_view_module": "@jupyter-widgets/base",
      "_view_module_version": "1.2.0",
      "_view_name": "StyleView",
      "description_width": ""
     }
    },
    "853dfeb95d964e5e9f2df01f208b2c22": {
     "model_module": "@jupyter-widgets/controls",
     "model_module_version": "1.5.0",
     "model_name": "HTMLModel",
     "state": {
      "_dom_classes": [],
      "_model_module": "@jupyter-widgets/controls",
      "_model_module_version": "1.5.0",
      "_model_name": "HTMLModel",
      "_view_count": null,
      "_view_module": "@jupyter-widgets/controls",
      "_view_module_version": "1.5.0",
      "_view_name": "HTMLView",
      "description": "",
      "description_tooltip": null,
      "layout": "IPY_MODEL_e8942b81e63549dcbe3a7fcdeacffec0",
      "placeholder": "​",
      "style": "IPY_MODEL_6387bc3f18614c7d85e014bda08d2ca3",
      "value": " 161k/161k [00:00&lt;00:00, 2.98MB/s]"
     }
    },
    "8890add9bd864e6db9c355c578f6b4a8": {
     "model_module": "@jupyter-widgets/base",
     "model_module_version": "1.2.0",
     "model_name": "LayoutModel",
     "state": {
      "_model_module": "@jupyter-widgets/base",
      "_model_module_version": "1.2.0",
      "_model_name": "LayoutModel",
      "_view_count": null,
      "_view_module": "@jupyter-widgets/base",
      "_view_module_version": "1.2.0",
      "_view_name": "LayoutView",
      "align_content": null,
      "align_items": null,
      "align_self": null,
      "border": null,
      "bottom": null,
      "display": null,
      "flex": null,
      "flex_flow": null,
      "grid_area": null,
      "grid_auto_columns": null,
      "grid_auto_flow": null,
      "grid_auto_rows": null,
      "grid_column": null,
      "grid_gap": null,
      "grid_row": null,
      "grid_template_areas": null,
      "grid_template_columns": null,
      "grid_template_rows": null,
      "height": null,
      "justify_content": null,
      "justify_items": null,
      "left": null,
      "margin": null,
      "max_height": null,
      "max_width": null,
      "min_height": null,
      "min_width": null,
      "object_fit": null,
      "object_position": null,
      "order": null,
      "overflow": null,
      "overflow_x": null,
      "overflow_y": null,
      "padding": null,
      "right": null,
      "top": null,
      "visibility": null,
      "width": null
     }
    },
    "8968b1df98494699997834dffefc1171": {
     "model_module": "@jupyter-widgets/controls",
     "model_module_version": "1.5.0",
     "model_name": "HBoxModel",
     "state": {
      "_dom_classes": [],
      "_model_module": "@jupyter-widgets/controls",
      "_model_module_version": "1.5.0",
      "_model_name": "HBoxModel",
      "_view_count": null,
      "_view_module": "@jupyter-widgets/controls",
      "_view_module_version": "1.5.0",
      "_view_name": "HBoxView",
      "box_style": "",
      "children": [
       "IPY_MODEL_de0c8c4e6b98486cab098e70df613401",
       "IPY_MODEL_139bf5ee642b4241b25afeda3c111b91",
       "IPY_MODEL_a3016475f0b449e49454089235a3a37b"
      ],
      "layout": "IPY_MODEL_3238487c407e463b801675b6bc36cf7f"
     }
    },
    "8f272f2411144d44af509bb9453b2342": {
     "model_module": "@jupyter-widgets/controls",
     "model_module_version": "1.5.0",
     "model_name": "DescriptionStyleModel",
     "state": {
      "_model_module": "@jupyter-widgets/controls",
      "_model_module_version": "1.5.0",
      "_model_name": "DescriptionStyleModel",
      "_view_count": null,
      "_view_module": "@jupyter-widgets/base",
      "_view_module_version": "1.2.0",
      "_view_name": "StyleView",
      "description_width": ""
     }
    },
    "9041b147ed4944d98aa08f013634aa99": {
     "model_module": "@jupyter-widgets/base",
     "model_module_version": "1.2.0",
     "model_name": "LayoutModel",
     "state": {
      "_model_module": "@jupyter-widgets/base",
      "_model_module_version": "1.2.0",
      "_model_name": "LayoutModel",
      "_view_count": null,
      "_view_module": "@jupyter-widgets/base",
      "_view_module_version": "1.2.0",
      "_view_name": "LayoutView",
      "align_content": null,
      "align_items": null,
      "align_self": null,
      "border": null,
      "bottom": null,
      "display": null,
      "flex": null,
      "flex_flow": null,
      "grid_area": null,
      "grid_auto_columns": null,
      "grid_auto_flow": null,
      "grid_auto_rows": null,
      "grid_column": null,
      "grid_gap": null,
      "grid_row": null,
      "grid_template_areas": null,
      "grid_template_columns": null,
      "grid_template_rows": null,
      "height": null,
      "justify_content": null,
      "justify_items": null,
      "left": null,
      "margin": null,
      "max_height": null,
      "max_width": null,
      "min_height": null,
      "min_width": null,
      "object_fit": null,
      "object_position": null,
      "order": null,
      "overflow": null,
      "overflow_x": null,
      "overflow_y": null,
      "padding": null,
      "right": null,
      "top": null,
      "visibility": null,
      "width": null
     }
    },
    "926a42f44d984d58ae1b9d57e3853976": {
     "model_module": "@jupyter-widgets/controls",
     "model_module_version": "1.5.0",
     "model_name": "HTMLModel",
     "state": {
      "_dom_classes": [],
      "_model_module": "@jupyter-widgets/controls",
      "_model_module_version": "1.5.0",
      "_model_name": "HTMLModel",
      "_view_count": null,
      "_view_module": "@jupyter-widgets/controls",
      "_view_module_version": "1.5.0",
      "_view_name": "HTMLView",
      "description": "",
      "description_tooltip": null,
      "layout": "IPY_MODEL_6dfdc9d03baf41378a5ab767cfc820f3",
      "placeholder": "​",
      "style": "IPY_MODEL_84fd32d5dae445f3ac23ce0031c0a628",
      "value": " 32332/32332 [00:01&lt;00:00, 27869.43 examples/s]"
     }
    },
    "99594a1f2c2c42bab8a3677e1144da2b": {
     "model_module": "@jupyter-widgets/base",
     "model_module_version": "1.2.0",
     "model_name": "LayoutModel",
     "state": {
      "_model_module": "@jupyter-widgets/base",
      "_model_module_version": "1.2.0",
      "_model_name": "LayoutModel",
      "_view_count": null,
      "_view_module": "@jupyter-widgets/base",
      "_view_module_version": "1.2.0",
      "_view_name": "LayoutView",
      "align_content": null,
      "align_items": null,
      "align_self": null,
      "border": null,
      "bottom": null,
      "display": null,
      "flex": null,
      "flex_flow": null,
      "grid_area": null,
      "grid_auto_columns": null,
      "grid_auto_flow": null,
      "grid_auto_rows": null,
      "grid_column": null,
      "grid_gap": null,
      "grid_row": null,
      "grid_template_areas": null,
      "grid_template_columns": null,
      "grid_template_rows": null,
      "height": null,
      "justify_content": null,
      "justify_items": null,
      "left": null,
      "margin": null,
      "max_height": null,
      "max_width": null,
      "min_height": null,
      "min_width": null,
      "object_fit": null,
      "object_position": null,
      "order": null,
      "overflow": null,
      "overflow_x": null,
      "overflow_y": null,
      "padding": null,
      "right": null,
      "top": null,
      "visibility": null,
      "width": null
     }
    },
    "a3016475f0b449e49454089235a3a37b": {
     "model_module": "@jupyter-widgets/controls",
     "model_module_version": "1.5.0",
     "model_name": "HTMLModel",
     "state": {
      "_dom_classes": [],
      "_model_module": "@jupyter-widgets/controls",
      "_model_module_version": "1.5.0",
      "_model_name": "HTMLModel",
      "_view_count": null,
      "_view_module": "@jupyter-widgets/controls",
      "_view_module_version": "1.5.0",
      "_view_name": "HTMLView",
      "description": "",
      "description_tooltip": null,
      "layout": "IPY_MODEL_36633c66ec684af086f2019d90a80ba9",
      "placeholder": "​",
      "style": "IPY_MODEL_6e712f1bc78642a39ff9280298d4f3f4",
      "value": " 6.08k/6.08k [00:00&lt;00:00, 203kB/s]"
     }
    },
    "a690d30e1a404303be8f78b7a68393e0": {
     "model_module": "@jupyter-widgets/controls",
     "model_module_version": "1.5.0",
     "model_name": "ProgressStyleModel",
     "state": {
      "_model_module": "@jupyter-widgets/controls",
      "_model_module_version": "1.5.0",
      "_model_name": "ProgressStyleModel",
      "_view_count": null,
      "_view_module": "@jupyter-widgets/base",
      "_view_module_version": "1.2.0",
      "_view_name": "StyleView",
      "bar_color": null,
      "description_width": ""
     }
    },
    "b4f2e8fe9fa7420187475c75d34b6932": {
     "model_module": "@jupyter-widgets/base",
     "model_module_version": "1.2.0",
     "model_name": "LayoutModel",
     "state": {
      "_model_module": "@jupyter-widgets/base",
      "_model_module_version": "1.2.0",
      "_model_name": "LayoutModel",
      "_view_count": null,
      "_view_module": "@jupyter-widgets/base",
      "_view_module_version": "1.2.0",
      "_view_name": "LayoutView",
      "align_content": null,
      "align_items": null,
      "align_self": null,
      "border": null,
      "bottom": null,
      "display": null,
      "flex": null,
      "flex_flow": null,
      "grid_area": null,
      "grid_auto_columns": null,
      "grid_auto_flow": null,
      "grid_auto_rows": null,
      "grid_column": null,
      "grid_gap": null,
      "grid_row": null,
      "grid_template_areas": null,
      "grid_template_columns": null,
      "grid_template_rows": null,
      "height": null,
      "justify_content": null,
      "justify_items": null,
      "left": null,
      "margin": null,
      "max_height": null,
      "max_width": null,
      "min_height": null,
      "min_width": null,
      "object_fit": null,
      "object_position": null,
      "order": null,
      "overflow": null,
      "overflow_x": null,
      "overflow_y": null,
      "padding": null,
      "right": null,
      "top": null,
      "visibility": null,
      "width": null
     }
    },
    "b52ef85ce6384d6eb212df2f2e4435e0": {
     "model_module": "@jupyter-widgets/controls",
     "model_module_version": "1.5.0",
     "model_name": "DescriptionStyleModel",
     "state": {
      "_model_module": "@jupyter-widgets/controls",
      "_model_module_version": "1.5.0",
      "_model_name": "DescriptionStyleModel",
      "_view_count": null,
      "_view_module": "@jupyter-widgets/base",
      "_view_module_version": "1.2.0",
      "_view_name": "StyleView",
      "description_width": ""
     }
    },
    "b6e94183153d4e4391eec8089ab3a8d6": {
     "model_module": "@jupyter-widgets/controls",
     "model_module_version": "1.5.0",
     "model_name": "FloatProgressModel",
     "state": {
      "_dom_classes": [],
      "_model_module": "@jupyter-widgets/controls",
      "_model_module_version": "1.5.0",
      "_model_name": "FloatProgressModel",
      "_view_count": null,
      "_view_module": "@jupyter-widgets/controls",
      "_view_module_version": "1.5.0",
      "_view_name": "ProgressView",
      "bar_style": "success",
      "description": "",
      "description_tooltip": null,
      "layout": "IPY_MODEL_b4f2e8fe9fa7420187475c75d34b6932",
      "max": 32332,
      "min": 0,
      "orientation": "horizontal",
      "style": "IPY_MODEL_736272ef7338412381b901ebf9457c96",
      "value": 32332
     }
    },
    "bed56b86d3544f8aa589611fe2a9b16b": {
     "model_module": "@jupyter-widgets/controls",
     "model_module_version": "1.5.0",
     "model_name": "HBoxModel",
     "state": {
      "_dom_classes": [],
      "_model_module": "@jupyter-widgets/controls",
      "_model_module_version": "1.5.0",
      "_model_name": "HBoxModel",
      "_view_count": null,
      "_view_module": "@jupyter-widgets/controls",
      "_view_module_version": "1.5.0",
      "_view_name": "HBoxView",
      "box_style": "",
      "children": [
       "IPY_MODEL_2c8abd1f649544f3af7ff7c1019b8a00",
       "IPY_MODEL_b6e94183153d4e4391eec8089ab3a8d6",
       "IPY_MODEL_926a42f44d984d58ae1b9d57e3853976"
      ],
      "layout": "IPY_MODEL_eaa6fa8af0da4f48b68cfde87285d272"
     }
    },
    "befc41b483264aef8d540cb112c58e37": {
     "model_module": "@jupyter-widgets/controls",
     "model_module_version": "1.5.0",
     "model_name": "HTMLModel",
     "state": {
      "_dom_classes": [],
      "_model_module": "@jupyter-widgets/controls",
      "_model_module_version": "1.5.0",
      "_model_name": "HTMLModel",
      "_view_count": null,
      "_view_module": "@jupyter-widgets/controls",
      "_view_module_version": "1.5.0",
      "_view_name": "HTMLView",
      "description": "",
      "description_tooltip": null,
      "layout": "IPY_MODEL_99594a1f2c2c42bab8a3677e1144da2b",
      "placeholder": "​",
      "style": "IPY_MODEL_c095b63ca4a84262988df9f91eb88842",
      "value": "Downloading metadata: 100%"
     }
    },
    "c095b63ca4a84262988df9f91eb88842": {
     "model_module": "@jupyter-widgets/controls",
     "model_module_version": "1.5.0",
     "model_name": "DescriptionStyleModel",
     "state": {
      "_model_module": "@jupyter-widgets/controls",
      "_model_module_version": "1.5.0",
      "_model_name": "DescriptionStyleModel",
      "_view_count": null,
      "_view_module": "@jupyter-widgets/base",
      "_view_module_version": "1.2.0",
      "_view_name": "StyleView",
      "description_width": ""
     }
    },
    "c8ed6dfd31344d30a89b0a82a9beabf5": {
     "model_module": "@jupyter-widgets/base",
     "model_module_version": "1.2.0",
     "model_name": "LayoutModel",
     "state": {
      "_model_module": "@jupyter-widgets/base",
      "_model_module_version": "1.2.0",
      "_model_name": "LayoutModel",
      "_view_count": null,
      "_view_module": "@jupyter-widgets/base",
      "_view_module_version": "1.2.0",
      "_view_name": "LayoutView",
      "align_content": null,
      "align_items": null,
      "align_self": null,
      "border": null,
      "bottom": null,
      "display": null,
      "flex": null,
      "flex_flow": null,
      "grid_area": null,
      "grid_auto_columns": null,
      "grid_auto_flow": null,
      "grid_auto_rows": null,
      "grid_column": null,
      "grid_gap": null,
      "grid_row": null,
      "grid_template_areas": null,
      "grid_template_columns": null,
      "grid_template_rows": null,
      "height": null,
      "justify_content": null,
      "justify_items": null,
      "left": null,
      "margin": null,
      "max_height": null,
      "max_width": null,
      "min_height": null,
      "min_width": null,
      "object_fit": null,
      "object_position": null,
      "order": null,
      "overflow": null,
      "overflow_x": null,
      "overflow_y": null,
      "padding": null,
      "right": null,
      "top": null,
      "visibility": null,
      "width": null
     }
    },
    "cf30573908ab49a5b39943b8d357d534": {
     "model_module": "@jupyter-widgets/base",
     "model_module_version": "1.2.0",
     "model_name": "LayoutModel",
     "state": {
      "_model_module": "@jupyter-widgets/base",
      "_model_module_version": "1.2.0",
      "_model_name": "LayoutModel",
      "_view_count": null,
      "_view_module": "@jupyter-widgets/base",
      "_view_module_version": "1.2.0",
      "_view_name": "LayoutView",
      "align_content": null,
      "align_items": null,
      "align_self": null,
      "border": null,
      "bottom": null,
      "display": null,
      "flex": null,
      "flex_flow": null,
      "grid_area": null,
      "grid_auto_columns": null,
      "grid_auto_flow": null,
      "grid_auto_rows": null,
      "grid_column": null,
      "grid_gap": null,
      "grid_row": null,
      "grid_template_areas": null,
      "grid_template_columns": null,
      "grid_template_rows": null,
      "height": null,
      "justify_content": null,
      "justify_items": null,
      "left": null,
      "margin": null,
      "max_height": null,
      "max_width": null,
      "min_height": null,
      "min_width": null,
      "object_fit": null,
      "object_position": null,
      "order": null,
      "overflow": null,
      "overflow_x": null,
      "overflow_y": null,
      "padding": null,
      "right": null,
      "top": null,
      "visibility": null,
      "width": null
     }
    },
    "dac287a0e467416fba03bf53e612fd6f": {
     "model_module": "@jupyter-widgets/controls",
     "model_module_version": "1.5.0",
     "model_name": "ProgressStyleModel",
     "state": {
      "_model_module": "@jupyter-widgets/controls",
      "_model_module_version": "1.5.0",
      "_model_name": "ProgressStyleModel",
      "_view_count": null,
      "_view_module": "@jupyter-widgets/base",
      "_view_module_version": "1.2.0",
      "_view_name": "StyleView",
      "bar_color": null,
      "description_width": ""
     }
    },
    "dc0c802381a44bb082dba11213499b72": {
     "model_module": "@jupyter-widgets/controls",
     "model_module_version": "1.5.0",
     "model_name": "DescriptionStyleModel",
     "state": {
      "_model_module": "@jupyter-widgets/controls",
      "_model_module_version": "1.5.0",
      "_model_name": "DescriptionStyleModel",
      "_view_count": null,
      "_view_module": "@jupyter-widgets/base",
      "_view_module_version": "1.2.0",
      "_view_name": "StyleView",
      "description_width": ""
     }
    },
    "dddaad5f150747caa3257be996bf17de": {
     "model_module": "@jupyter-widgets/controls",
     "model_module_version": "1.5.0",
     "model_name": "HBoxModel",
     "state": {
      "_dom_classes": [],
      "_model_module": "@jupyter-widgets/controls",
      "_model_module_version": "1.5.0",
      "_model_name": "HBoxModel",
      "_view_count": null,
      "_view_module": "@jupyter-widgets/controls",
      "_view_module_version": "1.5.0",
      "_view_name": "HBoxView",
      "box_style": "",
      "children": [
       "IPY_MODEL_673a9469cb294296a34cb05e39e7841f",
       "IPY_MODEL_3932ccf37b424d5c8343f05e8f935233",
       "IPY_MODEL_280a03e2f6bf4b81a8a54bcbca26565b"
      ],
      "layout": "IPY_MODEL_2a4e2a76d9cc4cb997124fb4c0ffd59b"
     }
    },
    "de0c8c4e6b98486cab098e70df613401": {
     "model_module": "@jupyter-widgets/controls",
     "model_module_version": "1.5.0",
     "model_name": "HTMLModel",
     "state": {
      "_dom_classes": [],
      "_model_module": "@jupyter-widgets/controls",
      "_model_module_version": "1.5.0",
      "_model_name": "HTMLModel",
      "_view_count": null,
      "_view_module": "@jupyter-widgets/controls",
      "_view_module_version": "1.5.0",
      "_view_name": "HTMLView",
      "description": "",
      "description_tooltip": null,
      "layout": "IPY_MODEL_0e49ea5914d244a1ae3c1849daab7a4c",
      "placeholder": "​",
      "style": "IPY_MODEL_2ef8106a9a4c4bf692d6c76854f1e945",
      "value": "Downloading builder script: 100%"
     }
    },
    "e0b25f852eee4d499b12a5c9cfae06da": {
     "model_module": "@jupyter-widgets/base",
     "model_module_version": "1.2.0",
     "model_name": "LayoutModel",
     "state": {
      "_model_module": "@jupyter-widgets/base",
      "_model_module_version": "1.2.0",
      "_model_name": "LayoutModel",
      "_view_count": null,
      "_view_module": "@jupyter-widgets/base",
      "_view_module_version": "1.2.0",
      "_view_name": "LayoutView",
      "align_content": null,
      "align_items": null,
      "align_self": null,
      "border": null,
      "bottom": null,
      "display": null,
      "flex": null,
      "flex_flow": null,
      "grid_area": null,
      "grid_auto_columns": null,
      "grid_auto_flow": null,
      "grid_auto_rows": null,
      "grid_column": null,
      "grid_gap": null,
      "grid_row": null,
      "grid_template_areas": null,
      "grid_template_columns": null,
      "grid_template_rows": null,
      "height": null,
      "justify_content": null,
      "justify_items": null,
      "left": null,
      "margin": null,
      "max_height": null,
      "max_width": null,
      "min_height": null,
      "min_width": null,
      "object_fit": null,
      "object_position": null,
      "order": null,
      "overflow": null,
      "overflow_x": null,
      "overflow_y": null,
      "padding": null,
      "right": null,
      "top": null,
      "visibility": null,
      "width": null
     }
    },
    "e8942b81e63549dcbe3a7fcdeacffec0": {
     "model_module": "@jupyter-widgets/base",
     "model_module_version": "1.2.0",
     "model_name": "LayoutModel",
     "state": {
      "_model_module": "@jupyter-widgets/base",
      "_model_module_version": "1.2.0",
      "_model_name": "LayoutModel",
      "_view_count": null,
      "_view_module": "@jupyter-widgets/base",
      "_view_module_version": "1.2.0",
      "_view_name": "LayoutView",
      "align_content": null,
      "align_items": null,
      "align_self": null,
      "border": null,
      "bottom": null,
      "display": null,
      "flex": null,
      "flex_flow": null,
      "grid_area": null,
      "grid_auto_columns": null,
      "grid_auto_flow": null,
      "grid_auto_rows": null,
      "grid_column": null,
      "grid_gap": null,
      "grid_row": null,
      "grid_template_areas": null,
      "grid_template_columns": null,
      "grid_template_rows": null,
      "height": null,
      "justify_content": null,
      "justify_items": null,
      "left": null,
      "margin": null,
      "max_height": null,
      "max_width": null,
      "min_height": null,
      "min_width": null,
      "object_fit": null,
      "object_position": null,
      "order": null,
      "overflow": null,
      "overflow_x": null,
      "overflow_y": null,
      "padding": null,
      "right": null,
      "top": null,
      "visibility": null,
      "width": null
     }
    },
    "eaa6fa8af0da4f48b68cfde87285d272": {
     "model_module": "@jupyter-widgets/base",
     "model_module_version": "1.2.0",
     "model_name": "LayoutModel",
     "state": {
      "_model_module": "@jupyter-widgets/base",
      "_model_module_version": "1.2.0",
      "_model_name": "LayoutModel",
      "_view_count": null,
      "_view_module": "@jupyter-widgets/base",
      "_view_module_version": "1.2.0",
      "_view_name": "LayoutView",
      "align_content": null,
      "align_items": null,
      "align_self": null,
      "border": null,
      "bottom": null,
      "display": null,
      "flex": null,
      "flex_flow": null,
      "grid_area": null,
      "grid_auto_columns": null,
      "grid_auto_flow": null,
      "grid_auto_rows": null,
      "grid_column": null,
      "grid_gap": null,
      "grid_row": null,
      "grid_template_areas": null,
      "grid_template_columns": null,
      "grid_template_rows": null,
      "height": null,
      "justify_content": null,
      "justify_items": null,
      "left": null,
      "margin": null,
      "max_height": null,
      "max_width": null,
      "min_height": null,
      "min_width": null,
      "object_fit": null,
      "object_position": null,
      "order": null,
      "overflow": null,
      "overflow_x": null,
      "overflow_y": null,
      "padding": null,
      "right": null,
      "top": null,
      "visibility": null,
      "width": null
     }
    },
    "f924915c22414923a11bda2d9d349d1e": {
     "model_module": "@jupyter-widgets/controls",
     "model_module_version": "1.5.0",
     "model_name": "FloatProgressModel",
     "state": {
      "_dom_classes": [],
      "_model_module": "@jupyter-widgets/controls",
      "_model_module_version": "1.5.0",
      "_model_name": "FloatProgressModel",
      "_view_count": null,
      "_view_module": "@jupyter-widgets/controls",
      "_view_module_version": "1.5.0",
      "_view_name": "ProgressView",
      "bar_style": "success",
      "description": "",
      "description_tooltip": null,
      "layout": "IPY_MODEL_2f3e3b513660433cbd81d591b4d84ab1",
      "max": 20464,
      "min": 0,
      "orientation": "horizontal",
      "style": "IPY_MODEL_5b3c88131f9f4d478849220627be9039",
      "value": 20464
     }
    }
   }
  }
 },
 "nbformat": 4,
 "nbformat_minor": 1
}
