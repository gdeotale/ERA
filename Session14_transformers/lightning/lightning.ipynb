{
 "cells": [
  {
   "cell_type": "code",
   "execution_count": 1,
   "metadata": {},
   "outputs": [
    {
     "name": "stdout",
     "output_type": "stream",
     "text": [
      "Keyring is skipped due to an exception: 'keyring.backends'\n",
      "Requirement already satisfied: datasets in /opt/conda/lib/python3.7/site-packages (2.13.1)\n",
      "Requirement already satisfied: pyyaml>=5.1 in /opt/conda/lib/python3.7/site-packages (from datasets) (6.0.1)\n",
      "Requirement already satisfied: requests>=2.19.0 in /opt/conda/lib/python3.7/site-packages (from datasets) (2.22.0)\n",
      "Requirement already satisfied: dill<0.3.7,>=0.3.0 in /opt/conda/lib/python3.7/site-packages (from datasets) (0.3.6)\n",
      "Requirement already satisfied: tqdm>=4.62.1 in /opt/conda/lib/python3.7/site-packages (from datasets) (4.66.1)\n",
      "Requirement already satisfied: fsspec[http]>=2021.11.1 in /opt/conda/lib/python3.7/site-packages (from datasets) (2023.1.0)\n",
      "Requirement already satisfied: pyarrow>=8.0.0 in /opt/conda/lib/python3.7/site-packages (from datasets) (12.0.1)\n",
      "Requirement already satisfied: xxhash in /opt/conda/lib/python3.7/site-packages (from datasets) (3.3.0)\n",
      "Requirement already satisfied: pandas in /opt/conda/lib/python3.7/site-packages (from datasets) (1.0.1)\n",
      "Requirement already satisfied: importlib-metadata; python_version < \"3.8\" in /opt/conda/lib/python3.7/site-packages (from datasets) (6.7.0)\n",
      "Requirement already satisfied: multiprocess in /opt/conda/lib/python3.7/site-packages (from datasets) (0.70.15)\n",
      "Requirement already satisfied: aiohttp in /opt/conda/lib/python3.7/site-packages (from datasets) (3.8.5)\n",
      "Requirement already satisfied: numpy>=1.17 in /opt/conda/lib/python3.7/site-packages (from datasets) (1.21.6)\n",
      "Requirement already satisfied: huggingface-hub<1.0.0,>=0.11.0 in /opt/conda/lib/python3.7/site-packages (from datasets) (0.16.4)\n",
      "Requirement already satisfied: packaging in /opt/conda/lib/python3.7/site-packages (from datasets) (23.1)\n",
      "Requirement already satisfied: chardet<3.1.0,>=3.0.2 in /opt/conda/lib/python3.7/site-packages (from requests>=2.19.0->datasets) (3.0.4)\n",
      "Requirement already satisfied: certifi>=2017.4.17 in /opt/conda/lib/python3.7/site-packages (from requests>=2.19.0->datasets) (2019.11.28)\n",
      "Requirement already satisfied: idna<2.9,>=2.5 in /opt/conda/lib/python3.7/site-packages (from requests>=2.19.0->datasets) (2.8)\n",
      "Requirement already satisfied: urllib3!=1.25.0,!=1.25.1,<1.26,>=1.21.1 in /opt/conda/lib/python3.7/site-packages (from requests>=2.19.0->datasets) (1.25.8)\n",
      "Requirement already satisfied: pytz>=2017.2 in /opt/conda/lib/python3.7/site-packages (from pandas->datasets) (2019.3)\n",
      "Requirement already satisfied: python-dateutil>=2.6.1 in /opt/conda/lib/python3.7/site-packages (from pandas->datasets) (2.8.1)\n",
      "Requirement already satisfied: typing-extensions>=3.6.4; python_version < \"3.8\" in /opt/conda/lib/python3.7/site-packages (from importlib-metadata; python_version < \"3.8\"->datasets) (4.7.1)\n",
      "Requirement already satisfied: zipp>=0.5 in /opt/conda/lib/python3.7/site-packages (from importlib-metadata; python_version < \"3.8\"->datasets) (2.2.0)\n",
      "Requirement already satisfied: async-timeout<5.0,>=4.0.0a3 in /opt/conda/lib/python3.7/site-packages (from aiohttp->datasets) (4.0.3)\n",
      "Requirement already satisfied: frozenlist>=1.1.1 in /opt/conda/lib/python3.7/site-packages (from aiohttp->datasets) (1.3.3)\n",
      "Requirement already satisfied: yarl<2.0,>=1.0 in /opt/conda/lib/python3.7/site-packages (from aiohttp->datasets) (1.9.2)\n",
      "Requirement already satisfied: multidict<7.0,>=4.5 in /opt/conda/lib/python3.7/site-packages (from aiohttp->datasets) (6.0.4)\n",
      "Requirement already satisfied: asynctest==0.13.0; python_version < \"3.8\" in /opt/conda/lib/python3.7/site-packages (from aiohttp->datasets) (0.13.0)\n",
      "Requirement already satisfied: charset-normalizer<4.0,>=2.0 in /opt/conda/lib/python3.7/site-packages (from aiohttp->datasets) (3.2.0)\n",
      "Requirement already satisfied: attrs>=17.3.0 in /opt/conda/lib/python3.7/site-packages (from aiohttp->datasets) (19.3.0)\n",
      "Requirement already satisfied: aiosignal>=1.1.2 in /opt/conda/lib/python3.7/site-packages (from aiohttp->datasets) (1.3.1)\n",
      "Requirement already satisfied: filelock in /opt/conda/lib/python3.7/site-packages (from huggingface-hub<1.0.0,>=0.11.0->datasets) (3.0.12)\n",
      "Requirement already satisfied: six>=1.5 in /opt/conda/lib/python3.7/site-packages (from python-dateutil>=2.6.1->pandas->datasets) (1.14.0)\n",
      "Keyring is skipped due to an exception: 'keyring.backends'\n",
      "Requirement already satisfied: torchtext==0.12.0 in /opt/conda/lib/python3.7/site-packages (0.12.0)\n",
      "Requirement already satisfied: requests in /opt/conda/lib/python3.7/site-packages (from torchtext==0.12.0) (2.22.0)\n",
      "Requirement already satisfied: tqdm in /opt/conda/lib/python3.7/site-packages (from torchtext==0.12.0) (4.66.1)\n",
      "Requirement already satisfied: numpy in /opt/conda/lib/python3.7/site-packages (from torchtext==0.12.0) (1.21.6)\n",
      "Requirement already satisfied: torch==1.11.0 in /opt/conda/lib/python3.7/site-packages (from torchtext==0.12.0) (1.11.0+cu113)\n",
      "Requirement already satisfied: idna<2.9,>=2.5 in /opt/conda/lib/python3.7/site-packages (from requests->torchtext==0.12.0) (2.8)\n",
      "Requirement already satisfied: chardet<3.1.0,>=3.0.2 in /opt/conda/lib/python3.7/site-packages (from requests->torchtext==0.12.0) (3.0.4)\n",
      "Requirement already satisfied: urllib3!=1.25.0,!=1.25.1,<1.26,>=1.21.1 in /opt/conda/lib/python3.7/site-packages (from requests->torchtext==0.12.0) (1.25.8)\n",
      "Requirement already satisfied: certifi>=2017.4.17 in /opt/conda/lib/python3.7/site-packages (from requests->torchtext==0.12.0) (2019.11.28)\n",
      "Requirement already satisfied: typing-extensions in /opt/conda/lib/python3.7/site-packages (from torch==1.11.0->torchtext==0.12.0) (4.7.1)\n",
      "Keyring is skipped due to an exception: 'keyring.backends'\n",
      "Requirement already satisfied: rich in /opt/conda/lib/python3.7/site-packages (13.5.2)\n",
      "Requirement already satisfied: markdown-it-py>=2.2.0 in /opt/conda/lib/python3.7/site-packages (from rich) (2.2.0)\n",
      "Requirement already satisfied: typing-extensions<5.0,>=4.0.0; python_version < \"3.9\" in /opt/conda/lib/python3.7/site-packages (from rich) (4.7.1)\n",
      "Requirement already satisfied: pygments<3.0.0,>=2.13.0 in /opt/conda/lib/python3.7/site-packages (from rich) (2.16.1)\n",
      "Requirement already satisfied: mdurl~=0.1 in /opt/conda/lib/python3.7/site-packages (from markdown-it-py>=2.2.0->rich) (0.1.2)\n"
     ]
    }
   ],
   "source": [
    "!pip install datasets\n",
    "!pip install torchtext==0.12.0\n",
    "!pip install rich"
   ]
  },
  {
   "cell_type": "code",
   "execution_count": 4,
   "metadata": {},
   "outputs": [],
   "source": [
    "import pytorch_lightning\n",
    "from lit_module import lit_module\n",
    "from pytorch_lightning import Trainer\n",
    "from pytorch_lightning.callbacks import RichProgressBar"
   ]
  },
  {
   "cell_type": "code",
   "execution_count": 5,
   "metadata": {},
   "outputs": [
    {
     "name": "stderr",
     "output_type": "stream",
     "text": [
      "/opt/conda/lib/python3.7/site-packages/pytorch_lightning/trainer/connectors/accelerator_connector.py:479: LightningDeprecationWarning: Setting `Trainer(gpus=1)` is deprecated in v1.7 and will be removed in v2.0. Please use `Trainer(accelerator='gpu', devices=1)` instead.\n",
      "  f\"Setting `Trainer(gpus={gpus!r})` is deprecated in v1.7 and will be removed\"\n",
      "GPU available: True (cuda), used: True\n",
      "TPU available: False, using: 0 TPU cores\n",
      "IPU available: False, using: 0 IPUs\n",
      "HPU available: False, using: 0 HPUs\n",
      "Found cached dataset opus_books (/root/.cache/huggingface/datasets/opus_books/en-it/1.0.0/e8f950a4f32dc39b7f9088908216cd2d7e21ac35f893d04d39eb594746af2daf)\n"
     ]
    },
    {
     "name": "stdout",
     "output_type": "stream",
     "text": [
      "Max length of source sentence: 309\n",
      "Max length of target sentence: 274\n"
     ]
    },
    {
     "name": "stderr",
     "output_type": "stream",
     "text": [
      "LOCAL_RANK: 0 - CUDA_VISIBLE_DEVICES: [0,1,2,3]\n"
     ]
    },
    {
     "data": {
      "text/html": [
       "<pre style=\"white-space:pre;overflow-x:auto;line-height:normal;font-family:Menlo,'DejaVu Sans Mono',consolas,'Courier New',monospace\">┏━━━┳━━━━━━━━━┳━━━━━━━━━━━━━━━━━━┳━━━━━━━━┓\n",
       "┃<span style=\"color: #800080; text-decoration-color: #800080; font-weight: bold\">   </span>┃<span style=\"color: #800080; text-decoration-color: #800080; font-weight: bold\"> Name    </span>┃<span style=\"color: #800080; text-decoration-color: #800080; font-weight: bold\"> Type             </span>┃<span style=\"color: #800080; text-decoration-color: #800080; font-weight: bold\"> Params </span>┃\n",
       "┡━━━╇━━━━━━━━━╇━━━━━━━━━━━━━━━━━━╇━━━━━━━━┩\n",
       "│<span style=\"color: #7f7f7f; text-decoration-color: #7f7f7f\"> 0 </span>│ loss_fn │ CrossEntropyLoss │      0 │\n",
       "│<span style=\"color: #7f7f7f; text-decoration-color: #7f7f7f\"> 1 </span>│ model   │ Transformer      │ 75.1 M │\n",
       "└───┴─────────┴──────────────────┴────────┘\n",
       "</pre>\n"
      ],
      "text/plain": [
       "┏━━━┳━━━━━━━━━┳━━━━━━━━━━━━━━━━━━┳━━━━━━━━┓\n",
       "┃\u001b[1;35m \u001b[0m\u001b[1;35m \u001b[0m\u001b[1;35m \u001b[0m┃\u001b[1;35m \u001b[0m\u001b[1;35mName   \u001b[0m\u001b[1;35m \u001b[0m┃\u001b[1;35m \u001b[0m\u001b[1;35mType            \u001b[0m\u001b[1;35m \u001b[0m┃\u001b[1;35m \u001b[0m\u001b[1;35mParams\u001b[0m\u001b[1;35m \u001b[0m┃\n",
       "┡━━━╇━━━━━━━━━╇━━━━━━━━━━━━━━━━━━╇━━━━━━━━┩\n",
       "│\u001b[2m \u001b[0m\u001b[2m0\u001b[0m\u001b[2m \u001b[0m│ loss_fn │ CrossEntropyLoss │      0 │\n",
       "│\u001b[2m \u001b[0m\u001b[2m1\u001b[0m\u001b[2m \u001b[0m│ model   │ Transformer      │ 75.1 M │\n",
       "└───┴─────────┴──────────────────┴────────┘\n"
      ]
     },
     "metadata": {},
     "output_type": "display_data"
    },
    {
     "data": {
      "text/html": [
       "<pre style=\"white-space:pre;overflow-x:auto;line-height:normal;font-family:Menlo,'DejaVu Sans Mono',consolas,'Courier New',monospace\"><span style=\"font-weight: bold\">Trainable params</span>: 75.1 M                                                                                           \n",
       "<span style=\"font-weight: bold\">Non-trainable params</span>: 0                                                                                            \n",
       "<span style=\"font-weight: bold\">Total params</span>: 75.1 M                                                                                               \n",
       "<span style=\"font-weight: bold\">Total estimated model params size (MB)</span>: 300                                                                        \n",
       "</pre>\n"
      ],
      "text/plain": [
       "\u001b[1mTrainable params\u001b[0m: 75.1 M                                                                                           \n",
       "\u001b[1mNon-trainable params\u001b[0m: 0                                                                                            \n",
       "\u001b[1mTotal params\u001b[0m: 75.1 M                                                                                               \n",
       "\u001b[1mTotal estimated model params size (MB)\u001b[0m: 300                                                                        \n"
      ]
     },
     "metadata": {},
     "output_type": "display_data"
    },
    {
     "data": {
      "application/vnd.jupyter.widget-view+json": {
       "model_id": "cb719189e9974547ab04e2a39c70a541",
       "version_major": 2,
       "version_minor": 0
      },
      "text/plain": [
       "Output()"
      ]
     },
     "metadata": {},
     "output_type": "display_data"
    },
    {
     "data": {
      "text/html": [
       "<pre style=\"white-space:pre;overflow-x:auto;line-height:normal;font-family:Menlo,'DejaVu Sans Mono',consolas,'Courier New',monospace\">/opt/conda/lib/python3.7/site-packages/pytorch_lightning/trainer/connectors/data_connector.py:491: \n",
       "PossibleUserWarning: Your `val_dataloader`'s sampler has shuffling enabled, it is strongly recommended that you \n",
       "turn shuffling off for val/test/predict dataloaders.\n",
       "  category=PossibleUserWarning,\n",
       "</pre>\n"
      ],
      "text/plain": [
       "/opt/conda/lib/python3.7/site-packages/pytorch_lightning/trainer/connectors/data_connector.py:491: \n",
       "PossibleUserWarning: Your `val_dataloader`'s sampler has shuffling enabled, it is strongly recommended that you \n",
       "turn shuffling off for val/test/predict dataloaders.\n",
       "  category=PossibleUserWarning,\n"
      ]
     },
     "metadata": {},
     "output_type": "display_data"
    },
    {
     "data": {
      "text/html": [
       "<pre style=\"white-space:pre;overflow-x:auto;line-height:normal;font-family:Menlo,'DejaVu Sans Mono',consolas,'Courier New',monospace\">/opt/conda/lib/python3.7/site-packages/pytorch_lightning/utilities/data.py:84: UserWarning: Trying to infer the \n",
       "`batch_size` from an ambiguous collection. The batch size we found is 1. To avoid any miscalculations, use \n",
       "`self.log(..., batch_size=batch_size)`.\n",
       "  \"Trying to infer the `batch_size` from an ambiguous collection. The batch size we\"\n",
       "</pre>\n"
      ],
      "text/plain": [
       "/opt/conda/lib/python3.7/site-packages/pytorch_lightning/utilities/data.py:84: UserWarning: Trying to infer the \n",
       "`batch_size` from an ambiguous collection. The batch size we found is 1. To avoid any miscalculations, use \n",
       "`self.log(..., batch_size=batch_size)`.\n",
       "  \"Trying to infer the `batch_size` from an ambiguous collection. The batch size we\"\n"
      ]
     },
     "metadata": {},
     "output_type": "display_data"
    },
    {
     "data": {
      "text/html": [
       "<pre style=\"white-space:pre;overflow-x:auto;line-height:normal;font-family:Menlo,'DejaVu Sans Mono',consolas,'Courier New',monospace\">Source:\"There!\" he exclaimed, as he stretched out his hand and bent from the saddle: \"You can't do without me, that\n",
       "is evident. Step on my boot-toe; give me both hands: mount!\"\n",
       "</pre>\n"
      ],
      "text/plain": [
       "Source:\"There!\" he exclaimed, as he stretched out his hand and bent from the saddle: \"You can't do without me, that\n",
       "is evident. Step on my boot-toe; give me both hands: mount!\"\n"
      ]
     },
     "metadata": {},
     "output_type": "display_data"
    },
    {
     "data": {
      "text/html": [
       "<pre style=\"white-space:pre;overflow-x:auto;line-height:normal;font-family:Menlo,'DejaVu Sans Mono',consolas,'Courier New',monospace\">TARGET:— Ah! — esclamò stendendomi la mano e abbassandosi verso di me. — Non potete evitarmi; mettete il piede \n",
       "sullo sprone mio, datemi tutte e due le mani e salite.\n",
       "</pre>\n"
      ],
      "text/plain": [
       "TARGET:— Ah! — esclamò stendendomi la mano e abbassandosi verso di me. — Non potete evitarmi; mettete il piede \n",
       "sullo sprone mio, datemi tutte e due le mani e salite.\n"
      ]
     },
     "metadata": {},
     "output_type": "display_data"
    },
    {
     "data": {
      "text/html": [
       "<pre style=\"white-space:pre;overflow-x:auto;line-height:normal;font-family:Menlo,'DejaVu Sans Mono',consolas,'Courier New',monospace\">PREDICTED:odiosa odiosa odiosa odiosa odiosa odiosa odiosa odiosa odiosa odiosa odiosa odiosa odiosa odiosa odiosa \n",
       "odiosa odiosa odiosa odiosa odiosa odiosa odiosa odiosa odiosa odiosa odiosa odiosa odiosa odiosa odiosa odiosa \n",
       "odiosa odiosa odiosa odiosa odiosa odiosa odiosa odiosa odiosa odiosa odiosa odiosa odiosa odiosa odiosa odiosa \n",
       "odiosa odiosa odiosa odiosa odiosa odiosa odiosa capitava capitava capitava capitava capitava odiosa odiosa odiosa \n",
       "odiosa odiosa odiosa odiosa odiosa odiosa odiosa odiosa capitava capitava capitava capitava capitava capitava \n",
       "capitava capitava capitava capitava capitava capitava capitava capitava capitava capitava capitava capitava \n",
       "capitava capitava capitava capitava capitava capitava capitava capitava capitava capitava capitava capitava \n",
       "capitava capitava capitava capitava capitava capitava capitava capitava capitava capitava odiosa odiosa odiosa \n",
       "odiosa odiosa odiosa odiosa odiosa odiosa capitava capitava capitava capitava capitava capitava capitava capitava \n",
       "capitava capitava capitava capitava capitava capitava capitava capitava capitava capitava capitava capitava \n",
       "capitava capitava capitava capitava capitava capitava capitava capitava capitava capitava capitava capitava \n",
       "capitava capitava capitava capitava capitava capitava capitava capitava capitava capitava capitava capitava \n",
       "capitava capitava capitava capitava capitava capitava capitava capitava capitava capitava capitava capitava \n",
       "capitava capitava capitava capitava capitava capitava capitava capitava capitava capitava capitava capitava \n",
       "capitava capitava capitava capitava capitava capitava capitava capitava capitava capitava capitava capitava \n",
       "capitava capitava capitava capitava capitava capitava capitava capitava capitava capitava capitava capitava \n",
       "capitava capitava capitava capitava capitava capitava capitava capitava capitava capitava capitava capitava \n",
       "capitava capitava capitava capitava capitava capitava capitava capitava capitava capitava capitasse capitasse \n",
       "capitasse capitasse capitasse capitasse capitasse capitasse capitasse capitasse capitasse capitasse capitasse \n",
       "capitasse capitasse capitasse capitasse capitasse capitasse capitasse capitasse capitasse capitasse capitasse \n",
       "capitasse capitasse capitasse capitasse capitasse capitasse capitasse capitasse capitasse capitasse capitasse \n",
       "capitasse capitasse capitasse capitasse capitasse capitasse capitasse capitasse capitasse capitasse capitasse \n",
       "capitasse capitasse capitasse capitasse capitasse capitasse capitasse capitasse capitasse capitasse capitasse \n",
       "capitasse capitasse capitasse capitasse capitasse capitasse capitasse capitasse capitasse capitasse capitasse \n",
       "capitasse capitasse capitasse capitasse capitasse capitasse capitasse capitasse capitasse capitasse capitasse \n",
       "capitasse capitasse capitasse capitasse capitasse capitasse nascondersi odiosa odiosa odiosa capitasse capitasse \n",
       "capitasse capitasse odiosa odiosa odiosa odiosa odiosa capitasse capitasse capitasse odiosa odiosa odiosa odiosa \n",
       "odiosa odiosa odiosa odiosa odiosa odiosa capitasse capitasse capitasse capitasse capitasse\n",
       "</pre>\n"
      ],
      "text/plain": [
       "PREDICTED:odiosa odiosa odiosa odiosa odiosa odiosa odiosa odiosa odiosa odiosa odiosa odiosa odiosa odiosa odiosa \n",
       "odiosa odiosa odiosa odiosa odiosa odiosa odiosa odiosa odiosa odiosa odiosa odiosa odiosa odiosa odiosa odiosa \n",
       "odiosa odiosa odiosa odiosa odiosa odiosa odiosa odiosa odiosa odiosa odiosa odiosa odiosa odiosa odiosa odiosa \n",
       "odiosa odiosa odiosa odiosa odiosa odiosa odiosa capitava capitava capitava capitava capitava odiosa odiosa odiosa \n",
       "odiosa odiosa odiosa odiosa odiosa odiosa odiosa odiosa capitava capitava capitava capitava capitava capitava \n",
       "capitava capitava capitava capitava capitava capitava capitava capitava capitava capitava capitava capitava \n",
       "capitava capitava capitava capitava capitava capitava capitava capitava capitava capitava capitava capitava \n",
       "capitava capitava capitava capitava capitava capitava capitava capitava capitava capitava odiosa odiosa odiosa \n",
       "odiosa odiosa odiosa odiosa odiosa odiosa capitava capitava capitava capitava capitava capitava capitava capitava \n",
       "capitava capitava capitava capitava capitava capitava capitava capitava capitava capitava capitava capitava \n",
       "capitava capitava capitava capitava capitava capitava capitava capitava capitava capitava capitava capitava \n",
       "capitava capitava capitava capitava capitava capitava capitava capitava capitava capitava capitava capitava \n",
       "capitava capitava capitava capitava capitava capitava capitava capitava capitava capitava capitava capitava \n",
       "capitava capitava capitava capitava capitava capitava capitava capitava capitava capitava capitava capitava \n",
       "capitava capitava capitava capitava capitava capitava capitava capitava capitava capitava capitava capitava \n",
       "capitava capitava capitava capitava capitava capitava capitava capitava capitava capitava capitava capitava \n",
       "capitava capitava capitava capitava capitava capitava capitava capitava capitava capitava capitava capitava \n",
       "capitava capitava capitava capitava capitava capitava capitava capitava capitava capitava capitasse capitasse \n",
       "capitasse capitasse capitasse capitasse capitasse capitasse capitasse capitasse capitasse capitasse capitasse \n",
       "capitasse capitasse capitasse capitasse capitasse capitasse capitasse capitasse capitasse capitasse capitasse \n",
       "capitasse capitasse capitasse capitasse capitasse capitasse capitasse capitasse capitasse capitasse capitasse \n",
       "capitasse capitasse capitasse capitasse capitasse capitasse capitasse capitasse capitasse capitasse capitasse \n",
       "capitasse capitasse capitasse capitasse capitasse capitasse capitasse capitasse capitasse capitasse capitasse \n",
       "capitasse capitasse capitasse capitasse capitasse capitasse capitasse capitasse capitasse capitasse capitasse \n",
       "capitasse capitasse capitasse capitasse capitasse capitasse capitasse capitasse capitasse capitasse capitasse \n",
       "capitasse capitasse capitasse capitasse capitasse capitasse nascondersi odiosa odiosa odiosa capitasse capitasse \n",
       "capitasse capitasse odiosa odiosa odiosa odiosa odiosa capitasse capitasse capitasse odiosa odiosa odiosa odiosa \n",
       "odiosa odiosa odiosa odiosa odiosa odiosa capitasse capitasse capitasse capitasse capitasse\n"
      ]
     },
     "metadata": {},
     "output_type": "display_data"
    },
    {
     "data": {
      "text/html": [
       "<pre style=\"white-space:pre;overflow-x:auto;line-height:normal;font-family:Menlo,'DejaVu Sans Mono',consolas,'Courier New',monospace\">Source:I wonder you take the trouble to get up at all.\"\n",
       "</pre>\n"
      ],
      "text/plain": [
       "Source:I wonder you take the trouble to get up at all.\"\n"
      ]
     },
     "metadata": {},
     "output_type": "display_data"
    },
    {
     "data": {
      "text/html": [
       "<pre style=\"white-space:pre;overflow-x:auto;line-height:normal;font-family:Menlo,'DejaVu Sans Mono',consolas,'Courier New',monospace\">TARGET:Ora non serve neanche che ti dia il disturbo di alzarti.\n",
       "</pre>\n"
      ],
      "text/plain": [
       "TARGET:Ora non serve neanche che ti dia il disturbo di alzarti.\n"
      ]
     },
     "metadata": {},
     "output_type": "display_data"
    },
    {
     "data": {
      "text/html": [
       "<pre style=\"white-space:pre;overflow-x:auto;line-height:normal;font-family:Menlo,'DejaVu Sans Mono',consolas,'Courier New',monospace\">PREDICTED:Non mi a me .\n",
       "</pre>\n"
      ],
      "text/plain": [
       "PREDICTED:Non mi a me .\n"
      ]
     },
     "metadata": {},
     "output_type": "display_data"
    },
    {
     "data": {
      "text/html": [
       "<pre style=\"white-space:pre;overflow-x:auto;line-height:normal;font-family:Menlo,'DejaVu Sans Mono',consolas,'Courier New',monospace\"></pre>\n"
      ],
      "text/plain": []
     },
     "metadata": {},
     "output_type": "display_data"
    },
    {
     "data": {
      "text/html": [
       "<pre style=\"white-space:pre;overflow-x:auto;line-height:normal;font-family:Menlo,'DejaVu Sans Mono',consolas,'Courier New',monospace\">\n",
       "</pre>\n"
      ],
      "text/plain": [
       "\n"
      ]
     },
     "metadata": {},
     "output_type": "display_data"
    },
    {
     "data": {
      "application/vnd.jupyter.widget-view+json": {
       "model_id": "08144958000b4fc1bd77cb3c02a9670d",
       "version_major": 2,
       "version_minor": 0
      },
      "text/plain": [
       "Output()"
      ]
     },
     "metadata": {},
     "output_type": "display_data"
    },
    {
     "data": {
      "text/html": [
       "<pre style=\"white-space:pre;overflow-x:auto;line-height:normal;font-family:Menlo,'DejaVu Sans Mono',consolas,'Courier New',monospace\">Source:I see in him his father's heart, and with such a heart a child can't be bad!' said Lydia Ivanovna, \n",
       "enthusiastically.\n",
       "</pre>\n"
      ],
      "text/plain": [
       "Source:I see in him his father's heart, and with such a heart a child can't be bad!' said Lydia Ivanovna, \n",
       "enthusiastically.\n"
      ]
     },
     "metadata": {},
     "output_type": "display_data"
    },
    {
     "data": {
      "text/html": [
       "<pre style=\"white-space:pre;overflow-x:auto;line-height:normal;font-family:Menlo,'DejaVu Sans Mono',consolas,'Courier New',monospace\">TARGET:Io vedo in lui il cuore del padre e, con un cuore simile, un bambino non può essere cattivo — disse Lidija \n",
       "Ivanovna con entusiasmo.\n",
       "</pre>\n"
      ],
      "text/plain": [
       "TARGET:Io vedo in lui il cuore del padre e, con un cuore simile, un bambino non può essere cattivo — disse Lidija \n",
       "Ivanovna con entusiasmo.\n"
      ]
     },
     "metadata": {},
     "output_type": "display_data"
    },
    {
     "data": {
      "text/html": [
       "<pre style=\"white-space:pre;overflow-x:auto;line-height:normal;font-family:Menlo,'DejaVu Sans Mono',consolas,'Courier New',monospace\">PREDICTED:Io , dopo aver detto la sua moglie , e la sua moglie , e non si — disse , — e , — disse , — e , — disse .\n",
       "</pre>\n"
      ],
      "text/plain": [
       "PREDICTED:Io , dopo aver detto la sua moglie , e la sua moglie , e non si — disse , — e , — disse , — e , — disse .\n"
      ]
     },
     "metadata": {},
     "output_type": "display_data"
    },
    {
     "data": {
      "text/html": [
       "<pre style=\"white-space:pre;overflow-x:auto;line-height:normal;font-family:Menlo,'DejaVu Sans Mono',consolas,'Courier New',monospace\"></pre>\n"
      ],
      "text/plain": []
     },
     "metadata": {},
     "output_type": "display_data"
    },
    {
     "data": {
      "text/html": [
       "<pre style=\"white-space:pre;overflow-x:auto;line-height:normal;font-family:Menlo,'DejaVu Sans Mono',consolas,'Courier New',monospace\">\n",
       "</pre>\n"
      ],
      "text/plain": [
       "\n"
      ]
     },
     "metadata": {},
     "output_type": "display_data"
    },
    {
     "data": {
      "application/vnd.jupyter.widget-view+json": {
       "model_id": "d8ab59fe2543458d9909c1308cad3222",
       "version_major": 2,
       "version_minor": 0
      },
      "text/plain": [
       "Output()"
      ]
     },
     "metadata": {},
     "output_type": "display_data"
    },
    {
     "data": {
      "text/html": [
       "<pre style=\"white-space:pre;overflow-x:auto;line-height:normal;font-family:Menlo,'DejaVu Sans Mono',consolas,'Courier New',monospace\">Source:The sheds where the most valuable cattle were kept were just behind the house.\n",
       "</pre>\n"
      ],
      "text/plain": [
       "Source:The sheds where the most valuable cattle were kept were just behind the house.\n"
      ]
     },
     "metadata": {},
     "output_type": "display_data"
    },
    {
     "data": {
      "text/html": [
       "<pre style=\"white-space:pre;overflow-x:auto;line-height:normal;font-family:Menlo,'DejaVu Sans Mono',consolas,'Courier New',monospace\">TARGET:La stalla per le mucche pregiate si trovava subito dietro alla casa.\n",
       "</pre>\n"
      ],
      "text/plain": [
       "TARGET:La stalla per le mucche pregiate si trovava subito dietro alla casa.\n"
      ]
     },
     "metadata": {},
     "output_type": "display_data"
    },
    {
     "data": {
      "text/html": [
       "<pre style=\"white-space:pre;overflow-x:auto;line-height:normal;font-family:Menlo,'DejaVu Sans Mono',consolas,'Courier New',monospace\">PREDICTED:Il fiume , in campagna , erano stati stati , e il giorno .\n",
       "</pre>\n"
      ],
      "text/plain": [
       "PREDICTED:Il fiume , in campagna , erano stati stati , e il giorno .\n"
      ]
     },
     "metadata": {},
     "output_type": "display_data"
    },
    {
     "data": {
      "text/html": [
       "<pre style=\"white-space:pre;overflow-x:auto;line-height:normal;font-family:Menlo,'DejaVu Sans Mono',consolas,'Courier New',monospace\"></pre>\n"
      ],
      "text/plain": []
     },
     "metadata": {},
     "output_type": "display_data"
    },
    {
     "data": {
      "text/html": [
       "<pre style=\"white-space:pre;overflow-x:auto;line-height:normal;font-family:Menlo,'DejaVu Sans Mono',consolas,'Courier New',monospace\">\n",
       "</pre>\n"
      ],
      "text/plain": [
       "\n"
      ]
     },
     "metadata": {},
     "output_type": "display_data"
    },
    {
     "data": {
      "application/vnd.jupyter.widget-view+json": {
       "model_id": "b6ab3cd7c970424aa0c4bbb91de558ce",
       "version_major": 2,
       "version_minor": 0
      },
      "text/plain": [
       "Output()"
      ]
     },
     "metadata": {},
     "output_type": "display_data"
    },
    {
     "data": {
      "text/html": [
       "<pre style=\"white-space:pre;overflow-x:auto;line-height:normal;font-family:Menlo,'DejaVu Sans Mono',consolas,'Courier New',monospace\">Source:It was not my original intention to deceive, as I have deceived you. I meant to tell my tale plainly, and \n",
       "make my proposals openly: and it appeared to me so absolutely rational that I should be considered free to love and\n",
       "be loved, I never doubted some woman might be found willing and able to understand my case and accept me, in spite \n",
       "of the curse with which I was burdened.\"\n",
       "</pre>\n"
      ],
      "text/plain": [
       "Source:It was not my original intention to deceive, as I have deceived you. I meant to tell my tale plainly, and \n",
       "make my proposals openly: and it appeared to me so absolutely rational that I should be considered free to love and\n",
       "be loved, I never doubted some woman might be found willing and able to understand my case and accept me, in spite \n",
       "of the curse with which I was burdened.\"\n"
      ]
     },
     "metadata": {},
     "output_type": "display_data"
    },
    {
     "data": {
      "text/html": [
       "<pre style=\"white-space:pre;overflow-x:auto;line-height:normal;font-family:Menlo,'DejaVu Sans Mono',consolas,'Courier New',monospace\">TARGET:Non era mia intenzione d'ingannare, come ho fatto; volevo narrare il mio passato e fare apertamente le mie \n",
       "proposte, e mi pareva realmente razionale che ognuno mi considerasse libero di amare e di essere amato; non ho mai \n",
       "messo in dubbio che avrei trovato una donna capace di capirmi e di accettarmi, nonostante il legame che avevo.\n",
       "</pre>\n"
      ],
      "text/plain": [
       "TARGET:Non era mia intenzione d'ingannare, come ho fatto; volevo narrare il mio passato e fare apertamente le mie \n",
       "proposte, e mi pareva realmente razionale che ognuno mi considerasse libero di amare e di essere amato; non ho mai \n",
       "messo in dubbio che avrei trovato una donna capace di capirmi e di accettarmi, nonostante il legame che avevo.\n"
      ]
     },
     "metadata": {},
     "output_type": "display_data"
    },
    {
     "data": {
      "text/html": [
       "<pre style=\"white-space:pre;overflow-x:auto;line-height:normal;font-family:Menlo,'DejaVu Sans Mono',consolas,'Courier New',monospace\">PREDICTED:Non mi era detto che mi , come ho detto che mi la mia vita , e mi di , e che mi di , e che mi la mia \n",
       "felicità , mi di non essere mai e con me , che mi la mia vita .\n",
       "</pre>\n"
      ],
      "text/plain": [
       "PREDICTED:Non mi era detto che mi , come ho detto che mi la mia vita , e mi di , e che mi di , e che mi la mia \n",
       "felicità , mi di non essere mai e con me , che mi la mia vita .\n"
      ]
     },
     "metadata": {},
     "output_type": "display_data"
    },
    {
     "data": {
      "text/html": [
       "<pre style=\"white-space:pre;overflow-x:auto;line-height:normal;font-family:Menlo,'DejaVu Sans Mono',consolas,'Courier New',monospace\"></pre>\n"
      ],
      "text/plain": []
     },
     "metadata": {},
     "output_type": "display_data"
    },
    {
     "data": {
      "text/html": [
       "<pre style=\"white-space:pre;overflow-x:auto;line-height:normal;font-family:Menlo,'DejaVu Sans Mono',consolas,'Courier New',monospace\">\n",
       "</pre>\n"
      ],
      "text/plain": [
       "\n"
      ]
     },
     "metadata": {},
     "output_type": "display_data"
    },
    {
     "data": {
      "application/vnd.jupyter.widget-view+json": {
       "model_id": "60eb0efae7a34a8d9fd9d88226b291ed",
       "version_major": 2,
       "version_minor": 0
      },
      "text/plain": [
       "Output()"
      ]
     },
     "metadata": {},
     "output_type": "display_data"
    },
    {
     "data": {
      "text/html": [
       "<pre style=\"white-space:pre;overflow-x:auto;line-height:normal;font-family:Menlo,'DejaVu Sans Mono',consolas,'Courier New',monospace\">Source:When she saw Levin she embraced him and began to cry.\n",
       "</pre>\n"
      ],
      "text/plain": [
       "Source:When she saw Levin she embraced him and began to cry.\n"
      ]
     },
     "metadata": {},
     "output_type": "display_data"
    },
    {
     "data": {
      "text/html": [
       "<pre style=\"white-space:pre;overflow-x:auto;line-height:normal;font-family:Menlo,'DejaVu Sans Mono',consolas,'Courier New',monospace\">TARGET:Visto Levin, lo abbracciò e si mise a piangere.\n",
       "</pre>\n"
      ],
      "text/plain": [
       "TARGET:Visto Levin, lo abbracciò e si mise a piangere.\n"
      ]
     },
     "metadata": {},
     "output_type": "display_data"
    },
    {
     "data": {
      "text/html": [
       "<pre style=\"white-space:pre;overflow-x:auto;line-height:normal;font-family:Menlo,'DejaVu Sans Mono',consolas,'Courier New',monospace\">PREDICTED:Quando Levin si voltò a guardare e cominciò a parlare con lui .\n",
       "</pre>\n"
      ],
      "text/plain": [
       "PREDICTED:Quando Levin si voltò a guardare e cominciò a parlare con lui .\n"
      ]
     },
     "metadata": {},
     "output_type": "display_data"
    },
    {
     "data": {
      "text/html": [
       "<pre style=\"white-space:pre;overflow-x:auto;line-height:normal;font-family:Menlo,'DejaVu Sans Mono',consolas,'Courier New',monospace\"></pre>\n"
      ],
      "text/plain": []
     },
     "metadata": {},
     "output_type": "display_data"
    },
    {
     "data": {
      "text/html": [
       "<pre style=\"white-space:pre;overflow-x:auto;line-height:normal;font-family:Menlo,'DejaVu Sans Mono',consolas,'Courier New',monospace\">\n",
       "</pre>\n"
      ],
      "text/plain": [
       "\n"
      ]
     },
     "metadata": {},
     "output_type": "display_data"
    },
    {
     "data": {
      "application/vnd.jupyter.widget-view+json": {
       "model_id": "b8bb27e44c0a4803acd7177a62438572",
       "version_major": 2,
       "version_minor": 0
      },
      "text/plain": [
       "Output()"
      ]
     },
     "metadata": {},
     "output_type": "display_data"
    },
    {
     "data": {
      "text/html": [
       "<pre style=\"white-space:pre;overflow-x:auto;line-height:normal;font-family:Menlo,'DejaVu Sans Mono',consolas,'Courier New',monospace\">Source:\"Heathens and savage tribes hold that doctrine, but Christians and civilised nations disown it.\"\n",
       "</pre>\n"
      ],
      "text/plain": [
       "Source:\"Heathens and savage tribes hold that doctrine, but Christians and civilised nations disown it.\"\n"
      ]
     },
     "metadata": {},
     "output_type": "display_data"
    },
    {
     "data": {
      "text/html": [
       "<pre style=\"white-space:pre;overflow-x:auto;line-height:normal;font-family:Menlo,'DejaVu Sans Mono',consolas,'Courier New',monospace\">TARGET:— I pagani e i selvaggi proclamano questa dottrina, che è sconfessata dai cristiani e dalla gente civile.\n",
       "</pre>\n"
      ],
      "text/plain": [
       "TARGET:— I pagani e i selvaggi proclamano questa dottrina, che è sconfessata dai cristiani e dalla gente civile.\n"
      ]
     },
     "metadata": {},
     "output_type": "display_data"
    },
    {
     "data": {
      "text/html": [
       "<pre style=\"white-space:pre;overflow-x:auto;line-height:normal;font-family:Menlo,'DejaVu Sans Mono',consolas,'Courier New',monospace\">PREDICTED:— e di gioia che gli occhi , ma il loro stato di quelli che .\n",
       "</pre>\n"
      ],
      "text/plain": [
       "PREDICTED:— e di gioia che gli occhi , ma il loro stato di quelli che .\n"
      ]
     },
     "metadata": {},
     "output_type": "display_data"
    },
    {
     "data": {
      "text/html": [
       "<pre style=\"white-space:pre;overflow-x:auto;line-height:normal;font-family:Menlo,'DejaVu Sans Mono',consolas,'Courier New',monospace\"></pre>\n"
      ],
      "text/plain": []
     },
     "metadata": {},
     "output_type": "display_data"
    },
    {
     "data": {
      "text/html": [
       "<pre style=\"white-space:pre;overflow-x:auto;line-height:normal;font-family:Menlo,'DejaVu Sans Mono',consolas,'Courier New',monospace\">\n",
       "</pre>\n"
      ],
      "text/plain": [
       "\n"
      ]
     },
     "metadata": {},
     "output_type": "display_data"
    },
    {
     "data": {
      "application/vnd.jupyter.widget-view+json": {
       "model_id": "7d37c33973f54dd993ff2f2873c12a42",
       "version_major": 2,
       "version_minor": 0
      },
      "text/plain": [
       "Output()"
      ]
     },
     "metadata": {},
     "output_type": "display_data"
    },
    {
     "data": {
      "text/html": [
       "<pre style=\"white-space:pre;overflow-x:auto;line-height:normal;font-family:Menlo,'DejaVu Sans Mono',consolas,'Courier New',monospace\">Source:The side to which Katavasov belonged accused their opponents of mean treachery and deception; while the \n",
       "others imputed youthfulness and disrespect for authority.\n",
       "</pre>\n"
      ],
      "text/plain": [
       "Source:The side to which Katavasov belonged accused their opponents of mean treachery and deception; while the \n",
       "others imputed youthfulness and disrespect for authority.\n"
      ]
     },
     "metadata": {},
     "output_type": "display_data"
    },
    {
     "data": {
      "text/html": [
       "<pre style=\"white-space:pre;overflow-x:auto;line-height:normal;font-family:Menlo,'DejaVu Sans Mono',consolas,'Courier New',monospace\">TARGET:Gli uni, a cui apparteneva Katavasov, vedevano nella parte contraria una denuncia vile e un inganno; gli \n",
       "altri, una ragazzata e una mancanza di rispetto verso le autorità.\n",
       "</pre>\n"
      ],
      "text/plain": [
       "TARGET:Gli uni, a cui apparteneva Katavasov, vedevano nella parte contraria una denuncia vile e un inganno; gli \n",
       "altri, una ragazzata e una mancanza di rispetto verso le autorità.\n"
      ]
     },
     "metadata": {},
     "output_type": "display_data"
    },
    {
     "data": {
      "text/html": [
       "<pre style=\"white-space:pre;overflow-x:auto;line-height:normal;font-family:Menlo,'DejaVu Sans Mono',consolas,'Courier New',monospace\">PREDICTED:Il lato del quale si l ’ , e l ’ idea d ’ un tratto si ; e l ’ altro , e l ’ altro .\n",
       "</pre>\n"
      ],
      "text/plain": [
       "PREDICTED:Il lato del quale si l ’ , e l ’ idea d ’ un tratto si ; e l ’ altro , e l ’ altro .\n"
      ]
     },
     "metadata": {},
     "output_type": "display_data"
    },
    {
     "data": {
      "text/html": [
       "<pre style=\"white-space:pre;overflow-x:auto;line-height:normal;font-family:Menlo,'DejaVu Sans Mono',consolas,'Courier New',monospace\"></pre>\n"
      ],
      "text/plain": []
     },
     "metadata": {},
     "output_type": "display_data"
    },
    {
     "data": {
      "text/html": [
       "<pre style=\"white-space:pre;overflow-x:auto;line-height:normal;font-family:Menlo,'DejaVu Sans Mono',consolas,'Courier New',monospace\">\n",
       "</pre>\n"
      ],
      "text/plain": [
       "\n"
      ]
     },
     "metadata": {},
     "output_type": "display_data"
    },
    {
     "data": {
      "application/vnd.jupyter.widget-view+json": {
       "model_id": "1a5478d8e0854cbba4ca145987a95d38",
       "version_major": 2,
       "version_minor": 0
      },
      "text/plain": [
       "Output()"
      ]
     },
     "metadata": {},
     "output_type": "display_data"
    },
    {
     "data": {
      "text/html": [
       "<pre style=\"white-space:pre;overflow-x:auto;line-height:normal;font-family:Menlo,'DejaVu Sans Mono',consolas,'Courier New',monospace\">Source:These things being added to my desire of having a good quantity for store, and to secure a constant supply, \n",
       "I resolved not to taste any of this crop but to preserve it all for seed against the next season; and in the \n",
       "meantime to employ all my study and hours of working to accomplish this great work of providing myself with corn \n",
       "and bread.\n",
       "</pre>\n"
      ],
      "text/plain": [
       "Source:These things being added to my desire of having a good quantity for store, and to secure a constant supply, \n",
       "I resolved not to taste any of this crop but to preserve it all for seed against the next season; and in the \n",
       "meantime to employ all my study and hours of working to accomplish this great work of providing myself with corn \n",
       "and bread.\n"
      ]
     },
     "metadata": {},
     "output_type": "display_data"
    },
    {
     "data": {
      "text/html": [
       "<pre style=\"white-space:pre;overflow-x:auto;line-height:normal;font-family:Menlo,'DejaVu Sans Mono',consolas,'Courier New',monospace\">TARGET:Queste considerazioni aggiunte al mio desiderio d’ingrandire le mie provvigioni e di assicurarmi un costante\n",
       "vitto per l’avvenire, mi trassero nella risoluzione di lasciare intatto questo secondo ricolto e di serbarlo tutto \n",
       "per semenza alla prossima stagione; e d’impiegare intanto l’intero mio studio, le intere ore mie di lavoro alla \n",
       "grande impresa di provvedermi così di biade come di pane.\n",
       "</pre>\n"
      ],
      "text/plain": [
       "TARGET:Queste considerazioni aggiunte al mio desiderio d’ingrandire le mie provvigioni e di assicurarmi un costante\n",
       "vitto per l’avvenire, mi trassero nella risoluzione di lasciare intatto questo secondo ricolto e di serbarlo tutto \n",
       "per semenza alla prossima stagione; e d’impiegare intanto l’intero mio studio, le intere ore mie di lavoro alla \n",
       "grande impresa di provvedermi così di biade come di pane.\n"
      ]
     },
     "metadata": {},
     "output_type": "display_data"
    },
    {
     "data": {
      "text/html": [
       "<pre style=\"white-space:pre;overflow-x:auto;line-height:normal;font-family:Menlo,'DejaVu Sans Mono',consolas,'Courier New',monospace\">PREDICTED:Questi cose mi un buon buon lavoro per , per un ’ accetta , per essere un ’ altra parte di questa , non \n",
       "avendo alcun valore per tutto il più piccolo ricolto ; ma per quanto per me ne i miei compagni , per quanto per me \n",
       "ne i miei compagni .\n",
       "</pre>\n"
      ],
      "text/plain": [
       "PREDICTED:Questi cose mi un buon buon lavoro per , per un ’ accetta , per essere un ’ altra parte di questa , non \n",
       "avendo alcun valore per tutto il più piccolo ricolto ; ma per quanto per me ne i miei compagni , per quanto per me \n",
       "ne i miei compagni .\n"
      ]
     },
     "metadata": {},
     "output_type": "display_data"
    },
    {
     "data": {
      "text/html": [
       "<pre style=\"white-space:pre;overflow-x:auto;line-height:normal;font-family:Menlo,'DejaVu Sans Mono',consolas,'Courier New',monospace\"></pre>\n"
      ],
      "text/plain": []
     },
     "metadata": {},
     "output_type": "display_data"
    },
    {
     "data": {
      "text/html": [
       "<pre style=\"white-space:pre;overflow-x:auto;line-height:normal;font-family:Menlo,'DejaVu Sans Mono',consolas,'Courier New',monospace\">\n",
       "</pre>\n"
      ],
      "text/plain": [
       "\n"
      ]
     },
     "metadata": {},
     "output_type": "display_data"
    },
    {
     "data": {
      "application/vnd.jupyter.widget-view+json": {
       "model_id": "d809b14652124475ad70a1c9243f6150",
       "version_major": 2,
       "version_minor": 0
      },
      "text/plain": [
       "Output()"
      ]
     },
     "metadata": {},
     "output_type": "display_data"
    },
    {
     "data": {
      "text/html": [
       "<pre style=\"white-space:pre;overflow-x:auto;line-height:normal;font-family:Menlo,'DejaVu Sans Mono',consolas,'Courier New',monospace\">Source:One thing that he sincerely confessed was that, living so long in Moscow with nothing but talk and food and \n",
       "drink, he was going silly.\n",
       "</pre>\n"
      ],
      "text/plain": [
       "Source:One thing that he sincerely confessed was that, living so long in Moscow with nothing but talk and food and \n",
       "drink, he was going silly.\n"
      ]
     },
     "metadata": {},
     "output_type": "display_data"
    },
    {
     "data": {
      "text/html": [
       "<pre style=\"white-space:pre;overflow-x:auto;line-height:normal;font-family:Menlo,'DejaVu Sans Mono',consolas,'Courier New',monospace\">TARGET:La cosa che egli confessava più sinceramente era che, vivendo così a lungo a Mosca, passando il tempo \n",
       "soltanto a far discorsi, a mangiare e a bere, era divenuto un insensato.\n",
       "</pre>\n"
      ],
      "text/plain": [
       "TARGET:La cosa che egli confessava più sinceramente era che, vivendo così a lungo a Mosca, passando il tempo \n",
       "soltanto a far discorsi, a mangiare e a bere, era divenuto un insensato.\n"
      ]
     },
     "metadata": {},
     "output_type": "display_data"
    },
    {
     "data": {
      "text/html": [
       "<pre style=\"white-space:pre;overflow-x:auto;line-height:normal;font-family:Menlo,'DejaVu Sans Mono',consolas,'Courier New',monospace\">PREDICTED:Un ’ unica cosa che egli voleva dire che , come a Mosca , non voleva parlare di Mosca , ma di nuovo , \n",
       "voleva bere e di vino , era semplicemente semplicemente semplicemente .\n",
       "</pre>\n"
      ],
      "text/plain": [
       "PREDICTED:Un ’ unica cosa che egli voleva dire che , come a Mosca , non voleva parlare di Mosca , ma di nuovo , \n",
       "voleva bere e di vino , era semplicemente semplicemente semplicemente .\n"
      ]
     },
     "metadata": {},
     "output_type": "display_data"
    },
    {
     "data": {
      "text/html": [
       "<pre style=\"white-space:pre;overflow-x:auto;line-height:normal;font-family:Menlo,'DejaVu Sans Mono',consolas,'Courier New',monospace\"></pre>\n"
      ],
      "text/plain": []
     },
     "metadata": {},
     "output_type": "display_data"
    },
    {
     "data": {
      "text/html": [
       "<pre style=\"white-space:pre;overflow-x:auto;line-height:normal;font-family:Menlo,'DejaVu Sans Mono',consolas,'Courier New',monospace\">\n",
       "</pre>\n"
      ],
      "text/plain": [
       "\n"
      ]
     },
     "metadata": {},
     "output_type": "display_data"
    },
    {
     "data": {
      "application/vnd.jupyter.widget-view+json": {
       "model_id": "6f01697c51a041949ff26887b0fe8960",
       "version_major": 2,
       "version_minor": 0
      },
      "text/plain": [
       "Output()"
      ]
     },
     "metadata": {},
     "output_type": "display_data"
    },
    {
     "data": {
      "text/html": [
       "<pre style=\"white-space:pre;overflow-x:auto;line-height:normal;font-family:Menlo,'DejaVu Sans Mono',consolas,'Courier New',monospace\">Source:\"He would discover many things in you he could not have expected to find?\n",
       "</pre>\n"
      ],
      "text/plain": [
       "Source:\"He would discover many things in you he could not have expected to find?\n"
      ]
     },
     "metadata": {},
     "output_type": "display_data"
    },
    {
     "data": {
      "text/html": [
       "<pre style=\"white-space:pre;overflow-x:auto;line-height:normal;font-family:Menlo,'DejaVu Sans Mono',consolas,'Courier New',monospace\">TARGET:— Egli scoprì presto in voi cose che non aveva sperato di trovare?\n",
       "</pre>\n"
      ],
      "text/plain": [
       "TARGET:— Egli scoprì presto in voi cose che non aveva sperato di trovare?\n"
      ]
     },
     "metadata": {},
     "output_type": "display_data"
    },
    {
     "data": {
      "text/html": [
       "<pre style=\"white-space:pre;overflow-x:auto;line-height:normal;font-family:Menlo,'DejaVu Sans Mono',consolas,'Courier New',monospace\">PREDICTED:— Non vi sarebbe forse più facile che non avreste trovato ?\n",
       "</pre>\n"
      ],
      "text/plain": [
       "PREDICTED:— Non vi sarebbe forse più facile che non avreste trovato ?\n"
      ]
     },
     "metadata": {},
     "output_type": "display_data"
    },
    {
     "name": "stderr",
     "output_type": "stream",
     "text": [
      "`Trainer.fit` stopped: `max_epochs=10` reached.\n"
     ]
    },
    {
     "data": {
      "text/html": [
       "<pre style=\"white-space:pre;overflow-x:auto;line-height:normal;font-family:Menlo,'DejaVu Sans Mono',consolas,'Courier New',monospace\"></pre>\n"
      ],
      "text/plain": []
     },
     "metadata": {},
     "output_type": "display_data"
    },
    {
     "data": {
      "text/html": [
       "<pre style=\"white-space:pre;overflow-x:auto;line-height:normal;font-family:Menlo,'DejaVu Sans Mono',consolas,'Courier New',monospace\">\n",
       "</pre>\n"
      ],
      "text/plain": [
       "\n"
      ]
     },
     "metadata": {},
     "output_type": "display_data"
    }
   ],
   "source": [
    "trainer = Trainer(\n",
    "    gpus=1,\n",
    "    max_epochs = 10,\n",
    "    callbacks = RichProgressBar(leave=True),\n",
    ")\n",
    "model = lit_module()\n",
    "# Train the PyTorch Lightning model\n",
    "trainer.fit(model)"
   ]
  },
  {
   "cell_type": "code",
   "execution_count": null,
   "metadata": {},
   "outputs": [],
   "source": []
  },
  {
   "cell_type": "code",
   "execution_count": null,
   "metadata": {},
   "outputs": [],
   "source": []
  }
 ],
 "metadata": {
  "kernelspec": {
   "display_name": "Python 3",
   "language": "python",
   "name": "python3"
  }
 },
 "nbformat": 4,
 "nbformat_minor": 4
}
