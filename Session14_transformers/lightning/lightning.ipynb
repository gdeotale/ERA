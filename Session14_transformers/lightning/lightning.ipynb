{
 "cells": [
  {
   "cell_type": "code",
   "execution_count": 5,
   "metadata": {},
   "outputs": [
    {
     "name": "stdout",
     "output_type": "stream",
     "text": [
      "Keyring is skipped due to an exception: 'keyring.backends'\n",
      "Requirement already satisfied: rich in /opt/conda/lib/python3.7/site-packages (13.5.2)\n",
      "Requirement already satisfied: pygments<3.0.0,>=2.13.0 in /opt/conda/lib/python3.7/site-packages (from rich) (2.16.1)\n",
      "Requirement already satisfied: markdown-it-py>=2.2.0 in /opt/conda/lib/python3.7/site-packages (from rich) (2.2.0)\n",
      "Requirement already satisfied: typing-extensions<5.0,>=4.0.0; python_version < \"3.9\" in /opt/conda/lib/python3.7/site-packages (from rich) (4.7.1)\n",
      "Requirement already satisfied: mdurl~=0.1 in /opt/conda/lib/python3.7/site-packages (from markdown-it-py>=2.2.0->rich) (0.1.2)\n"
     ]
    }
   ],
   "source": [
    "#!pip install datasets\n",
    "#!pip install torchtext==0.12.0\n",
    "!pip install rich"
   ]
  },
  {
   "cell_type": "code",
   "execution_count": 1,
   "metadata": {},
   "outputs": [
    {
     "name": "stderr",
     "output_type": "stream",
     "text": [
      "/opt/conda/lib/python3.7/site-packages/pkg_resources/__init__.py:119: PkgResourcesDeprecationWarning: 4.0.0-unsupported is an invalid version and will not be supported in a future release\n",
      "  PkgResourcesDeprecationWarning,\n",
      "/opt/conda/lib/python3.7/site-packages/pkg_resources/__init__.py:119: PkgResourcesDeprecationWarning: 4.0.0-unsupported is an invalid version and will not be supported in a future release\n",
      "  PkgResourcesDeprecationWarning,\n"
     ]
    }
   ],
   "source": [
    "import pytorch_lightning\n",
    "from lit_module import lit_module\n",
    "from pytorch_lightning import Trainer\n",
    "from pytorch_lightning.callbacks import RichProgressBar"
   ]
  },
  {
   "cell_type": "code",
   "execution_count": 2,
   "metadata": {},
   "outputs": [
    {
     "name": "stderr",
     "output_type": "stream",
     "text": [
      "/opt/conda/lib/python3.7/site-packages/pytorch_lightning/trainer/connectors/accelerator_connector.py:479: LightningDeprecationWarning: Setting `Trainer(gpus=1)` is deprecated in v1.7 and will be removed in v2.0. Please use `Trainer(accelerator='gpu', devices=1)` instead.\n",
      "  f\"Setting `Trainer(gpus={gpus!r})` is deprecated in v1.7 and will be removed\"\n",
      "GPU available: True (cuda), used: True\n",
      "TPU available: False, using: 0 TPU cores\n",
      "IPU available: False, using: 0 IPUs\n",
      "HPU available: False, using: 0 HPUs\n",
      "Found cached dataset opus_books (/root/.cache/huggingface/datasets/opus_books/en-it/1.0.0/e8f950a4f32dc39b7f9088908216cd2d7e21ac35f893d04d39eb594746af2daf)\n"
     ]
    },
    {
     "name": "stdout",
     "output_type": "stream",
     "text": [
      "Max length of source sentence: 309\n",
      "Max length of target sentence: 274\n"
     ]
    },
    {
     "name": "stderr",
     "output_type": "stream",
     "text": [
      "LOCAL_RANK: 0 - CUDA_VISIBLE_DEVICES: [0,1,2,3]\n"
     ]
    },
    {
     "data": {
      "text/html": [
       "<pre style=\"white-space:pre;overflow-x:auto;line-height:normal;font-family:Menlo,'DejaVu Sans Mono',consolas,'Courier New',monospace\">┏━━━┳━━━━━━━━━┳━━━━━━━━━━━━━━━━━━┳━━━━━━━━┓\n",
       "┃<span style=\"color: #800080; text-decoration-color: #800080; font-weight: bold\">   </span>┃<span style=\"color: #800080; text-decoration-color: #800080; font-weight: bold\"> Name    </span>┃<span style=\"color: #800080; text-decoration-color: #800080; font-weight: bold\"> Type             </span>┃<span style=\"color: #800080; text-decoration-color: #800080; font-weight: bold\"> Params </span>┃\n",
       "┡━━━╇━━━━━━━━━╇━━━━━━━━━━━━━━━━━━╇━━━━━━━━┩\n",
       "│<span style=\"color: #7f7f7f; text-decoration-color: #7f7f7f\"> 0 </span>│ loss_fn │ CrossEntropyLoss │      0 │\n",
       "│<span style=\"color: #7f7f7f; text-decoration-color: #7f7f7f\"> 1 </span>│ model   │ Transformer      │ 75.1 M │\n",
       "└───┴─────────┴──────────────────┴────────┘\n",
       "</pre>\n"
      ],
      "text/plain": [
       "┏━━━┳━━━━━━━━━┳━━━━━━━━━━━━━━━━━━┳━━━━━━━━┓\n",
       "┃\u001b[1;35m \u001b[0m\u001b[1;35m \u001b[0m\u001b[1;35m \u001b[0m┃\u001b[1;35m \u001b[0m\u001b[1;35mName   \u001b[0m\u001b[1;35m \u001b[0m┃\u001b[1;35m \u001b[0m\u001b[1;35mType            \u001b[0m\u001b[1;35m \u001b[0m┃\u001b[1;35m \u001b[0m\u001b[1;35mParams\u001b[0m\u001b[1;35m \u001b[0m┃\n",
       "┡━━━╇━━━━━━━━━╇━━━━━━━━━━━━━━━━━━╇━━━━━━━━┩\n",
       "│\u001b[2m \u001b[0m\u001b[2m0\u001b[0m\u001b[2m \u001b[0m│ loss_fn │ CrossEntropyLoss │      0 │\n",
       "│\u001b[2m \u001b[0m\u001b[2m1\u001b[0m\u001b[2m \u001b[0m│ model   │ Transformer      │ 75.1 M │\n",
       "└───┴─────────┴──────────────────┴────────┘\n"
      ]
     },
     "metadata": {},
     "output_type": "display_data"
    },
    {
     "data": {
      "text/html": [
       "<pre style=\"white-space:pre;overflow-x:auto;line-height:normal;font-family:Menlo,'DejaVu Sans Mono',consolas,'Courier New',monospace\"><span style=\"font-weight: bold\">Trainable params</span>: 75.1 M                                                                                           \n",
       "<span style=\"font-weight: bold\">Non-trainable params</span>: 0                                                                                            \n",
       "<span style=\"font-weight: bold\">Total params</span>: 75.1 M                                                                                               \n",
       "<span style=\"font-weight: bold\">Total estimated model params size (MB)</span>: 300                                                                        \n",
       "</pre>\n"
      ],
      "text/plain": [
       "\u001b[1mTrainable params\u001b[0m: 75.1 M                                                                                           \n",
       "\u001b[1mNon-trainable params\u001b[0m: 0                                                                                            \n",
       "\u001b[1mTotal params\u001b[0m: 75.1 M                                                                                               \n",
       "\u001b[1mTotal estimated model params size (MB)\u001b[0m: 300                                                                        \n"
      ]
     },
     "metadata": {},
     "output_type": "display_data"
    },
    {
     "data": {
      "application/vnd.jupyter.widget-view+json": {
       "model_id": "a195e8b1c0a546eca53c1955eb55f876",
       "version_major": 2,
       "version_minor": 0
      },
      "text/plain": [
       "Output()"
      ]
     },
     "metadata": {},
     "output_type": "display_data"
    },
    {
     "data": {
      "text/html": [
       "<pre style=\"white-space:pre;overflow-x:auto;line-height:normal;font-family:Menlo,'DejaVu Sans Mono',consolas,'Courier New',monospace\">/opt/conda/lib/python3.7/site-packages/pytorch_lightning/trainer/connectors/data_connector.py:491: \n",
       "PossibleUserWarning: Your `val_dataloader`'s sampler has shuffling enabled, it is strongly recommended that you \n",
       "turn shuffling off for val/test/predict dataloaders.\n",
       "  category=PossibleUserWarning,\n",
       "</pre>\n"
      ],
      "text/plain": [
       "/opt/conda/lib/python3.7/site-packages/pytorch_lightning/trainer/connectors/data_connector.py:491: \n",
       "PossibleUserWarning: Your `val_dataloader`'s sampler has shuffling enabled, it is strongly recommended that you \n",
       "turn shuffling off for val/test/predict dataloaders.\n",
       "  category=PossibleUserWarning,\n"
      ]
     },
     "metadata": {},
     "output_type": "display_data"
    },
    {
     "data": {
      "text/html": [
       "<pre style=\"white-space:pre;overflow-x:auto;line-height:normal;font-family:Menlo,'DejaVu Sans Mono',consolas,'Courier New',monospace\">/opt/conda/lib/python3.7/site-packages/pytorch_lightning/utilities/data.py:84: UserWarning: Trying to infer the \n",
       "`batch_size` from an ambiguous collection. The batch size we found is 1. To avoid any miscalculations, use \n",
       "`self.log(..., batch_size=batch_size)`.\n",
       "  \"Trying to infer the `batch_size` from an ambiguous collection. The batch size we\"\n",
       "</pre>\n"
      ],
      "text/plain": [
       "/opt/conda/lib/python3.7/site-packages/pytorch_lightning/utilities/data.py:84: UserWarning: Trying to infer the \n",
       "`batch_size` from an ambiguous collection. The batch size we found is 1. To avoid any miscalculations, use \n",
       "`self.log(..., batch_size=batch_size)`.\n",
       "  \"Trying to infer the `batch_size` from an ambiguous collection. The batch size we\"\n"
      ]
     },
     "metadata": {},
     "output_type": "display_data"
    },
    {
     "data": {
      "text/html": [
       "<pre style=\"white-space:pre;overflow-x:auto;line-height:normal;font-family:Menlo,'DejaVu Sans Mono',consolas,'Courier New',monospace\">Source:Before two years passed, the rash pair were both dead, and laid quietly side by side under one slab.\n",
       "</pre>\n"
      ],
      "text/plain": [
       "Source:Before two years passed, the rash pair were both dead, and laid quietly side by side under one slab.\n"
      ]
     },
     "metadata": {},
     "output_type": "display_data"
    },
    {
     "data": {
      "text/html": [
       "<pre style=\"white-space:pre;overflow-x:auto;line-height:normal;font-family:Menlo,'DejaVu Sans Mono',consolas,'Courier New',monospace\">TARGET:\"Dopo due anni quella coppia temeraria aveva cessato d'esistere: marito e moglie riposavano sotto la stessa \n",
       "pietra.\n",
       "</pre>\n"
      ],
      "text/plain": [
       "TARGET:\"Dopo due anni quella coppia temeraria aveva cessato d'esistere: marito e moglie riposavano sotto la stessa \n",
       "pietra.\n"
      ]
     },
     "metadata": {},
     "output_type": "display_data"
    },
    {
     "data": {
      "text/html": [
       "<pre style=\"white-space:pre;overflow-x:auto;line-height:normal;font-family:Menlo,'DejaVu Sans Mono',consolas,'Courier New',monospace\">PREDICTED:irritavano irritavano irritavano irritavano irritavano irritavano irritavano irritavano quanti quanti \n",
       "quanti quanti quanti quanti quanti quanti quanti quanti quanti quanti quanti quanti quanti quanti quanti scopo \n",
       "quanti quanti quanti quanti quanti quanti quanti quanti quanti quanti quanti quanti quanti quanti quanti quanti \n",
       "quanti quanti quanti quanti quanti quanti quanti quanti quanti quanti quanti quanti quanti quanti quanti quanti \n",
       "quanti quanti quanti quanti quanti quanti quanti quanti quanti quanti quanti quanti quanti quanti quanti quanti \n",
       "quanti quanti quanti quanti quanti quanti quanti quanti quanti quanti quanti quanti quanti quanti quanti quanti \n",
       "quanti quanti quanti quanti quanti quanti quanti quanti quanti quanti quanti quanti quanti quanti quanti quanti \n",
       "quanti quanti quanti quanti quanti quanti quanti quanti quanti quanti quanti quanti quanti quanti quanti quanti \n",
       "quanti quanti quanti quanti quanti quanti quanti quanti quanti quanti quanti quanti quanti quanti quanti quanti \n",
       "quanti quanti quanti quanti quanti quanti quanti quanti quanti quanti quanti quanti quanti quanti quanti quanti \n",
       "quanti quanti quanti quanti quanti quanti quanti quanti quanti quanti quanti quanti quanti quanti quanti quanti \n",
       "quanti quanti quanti quanti quanti quanti quanti scopo scopo scopo scopo quanti quanti quanti quanti quanti quanti \n",
       "quanti quanti quanti quanti quanti quanti scopo quanti quanti quanti quanti quanti quanti quanti quanti quanti \n",
       "quanti quanti quanti quanti quanti quanti quanti quanti quanti quanti quanti quanti quanti quanti quanti quanti \n",
       "quanti quanti quanti quanti quanti quanti quanti quanti quanti quanti quanti quanti quanti quanti quanti quanti \n",
       "quanti quanti quanti quanti quanti quanti quanti quanti quanti quanti quanti quanti quanti quanti quanti quanti \n",
       "quanti quanti quanti quanti quanti quanti quanti quanti quanti quanti quanti quanti quanti quanti quanti quanti \n",
       "quanti quanti quanti quanti quanti quanti quanti quanti quanti quanti quanti quanti quanti quanti quanti quanti \n",
       "quanti quanti quanti quanti quanti quanti quanti quanti quanti quanti quanti quanti quanti quanti quanti quanti \n",
       "quanti quanti quanti quanti quanti quanti quanti quanti quanti quanti quanti quanti quanti quanti quanti quanti \n",
       "quanti quanti quanti quanti quanti quanti quanti quanti quanti quanti quanti quanti quanti quanti quanti quanti \n",
       "quanti quanti quanti quanti quanti quanti quanti quanti quanti quanti quanti quanti quanti quanti quanti quanti \n",
       "quanti quanti\n",
       "</pre>\n"
      ],
      "text/plain": [
       "PREDICTED:irritavano irritavano irritavano irritavano irritavano irritavano irritavano irritavano quanti quanti \n",
       "quanti quanti quanti quanti quanti quanti quanti quanti quanti quanti quanti quanti quanti quanti quanti scopo \n",
       "quanti quanti quanti quanti quanti quanti quanti quanti quanti quanti quanti quanti quanti quanti quanti quanti \n",
       "quanti quanti quanti quanti quanti quanti quanti quanti quanti quanti quanti quanti quanti quanti quanti quanti \n",
       "quanti quanti quanti quanti quanti quanti quanti quanti quanti quanti quanti quanti quanti quanti quanti quanti \n",
       "quanti quanti quanti quanti quanti quanti quanti quanti quanti quanti quanti quanti quanti quanti quanti quanti \n",
       "quanti quanti quanti quanti quanti quanti quanti quanti quanti quanti quanti quanti quanti quanti quanti quanti \n",
       "quanti quanti quanti quanti quanti quanti quanti quanti quanti quanti quanti quanti quanti quanti quanti quanti \n",
       "quanti quanti quanti quanti quanti quanti quanti quanti quanti quanti quanti quanti quanti quanti quanti quanti \n",
       "quanti quanti quanti quanti quanti quanti quanti quanti quanti quanti quanti quanti quanti quanti quanti quanti \n",
       "quanti quanti quanti quanti quanti quanti quanti quanti quanti quanti quanti quanti quanti quanti quanti quanti \n",
       "quanti quanti quanti quanti quanti quanti quanti scopo scopo scopo scopo quanti quanti quanti quanti quanti quanti \n",
       "quanti quanti quanti quanti quanti quanti scopo quanti quanti quanti quanti quanti quanti quanti quanti quanti \n",
       "quanti quanti quanti quanti quanti quanti quanti quanti quanti quanti quanti quanti quanti quanti quanti quanti \n",
       "quanti quanti quanti quanti quanti quanti quanti quanti quanti quanti quanti quanti quanti quanti quanti quanti \n",
       "quanti quanti quanti quanti quanti quanti quanti quanti quanti quanti quanti quanti quanti quanti quanti quanti \n",
       "quanti quanti quanti quanti quanti quanti quanti quanti quanti quanti quanti quanti quanti quanti quanti quanti \n",
       "quanti quanti quanti quanti quanti quanti quanti quanti quanti quanti quanti quanti quanti quanti quanti quanti \n",
       "quanti quanti quanti quanti quanti quanti quanti quanti quanti quanti quanti quanti quanti quanti quanti quanti \n",
       "quanti quanti quanti quanti quanti quanti quanti quanti quanti quanti quanti quanti quanti quanti quanti quanti \n",
       "quanti quanti quanti quanti quanti quanti quanti quanti quanti quanti quanti quanti quanti quanti quanti quanti \n",
       "quanti quanti quanti quanti quanti quanti quanti quanti quanti quanti quanti quanti quanti quanti quanti quanti \n",
       "quanti quanti\n"
      ]
     },
     "metadata": {},
     "output_type": "display_data"
    },
    {
     "data": {
      "text/html": [
       "<pre style=\"white-space:pre;overflow-x:auto;line-height:normal;font-family:Menlo,'DejaVu Sans Mono',consolas,'Courier New',monospace\">Source:How much?' he asked, with a dissatisfied look familiar to her.\n",
       "</pre>\n"
      ],
      "text/plain": [
       "Source:How much?' he asked, with a dissatisfied look familiar to her.\n"
      ]
     },
     "metadata": {},
     "output_type": "display_data"
    },
    {
     "data": {
      "text/html": [
       "<pre style=\"white-space:pre;overflow-x:auto;line-height:normal;font-family:Menlo,'DejaVu Sans Mono',consolas,'Courier New',monospace\">TARGET:Quanto? — egli disse con un’espressione di scontento a lei nota.\n",
       "</pre>\n"
      ],
      "text/plain": [
       "TARGET:Quanto? — egli disse con un’espressione di scontento a lei nota.\n"
      ]
     },
     "metadata": {},
     "output_type": "display_data"
    },
    {
     "data": {
      "text/html": [
       "<pre style=\"white-space:pre;overflow-x:auto;line-height:normal;font-family:Menlo,'DejaVu Sans Mono',consolas,'Courier New',monospace\">PREDICTED:E che non è mai mai , ma non si aveva detto di lei .\n",
       "</pre>\n"
      ],
      "text/plain": [
       "PREDICTED:E che non è mai mai , ma non si aveva detto di lei .\n"
      ]
     },
     "metadata": {},
     "output_type": "display_data"
    },
    {
     "data": {
      "text/html": [
       "<pre style=\"white-space:pre;overflow-x:auto;line-height:normal;font-family:Menlo,'DejaVu Sans Mono',consolas,'Courier New',monospace\"></pre>\n"
      ],
      "text/plain": []
     },
     "metadata": {},
     "output_type": "display_data"
    },
    {
     "data": {
      "text/html": [
       "<pre style=\"white-space:pre;overflow-x:auto;line-height:normal;font-family:Menlo,'DejaVu Sans Mono',consolas,'Courier New',monospace\">\n",
       "</pre>\n"
      ],
      "text/plain": [
       "\n"
      ]
     },
     "metadata": {},
     "output_type": "display_data"
    },
    {
     "data": {
      "application/vnd.jupyter.widget-view+json": {
       "model_id": "768eade609f240eb8699fe1c36e5cfbc",
       "version_major": 2,
       "version_minor": 0
      },
      "text/plain": [
       "Output()"
      ]
     },
     "metadata": {},
     "output_type": "display_data"
    },
    {
     "data": {
      "text/html": [
       "<pre style=\"white-space:pre;overflow-x:auto;line-height:normal;font-family:Menlo,'DejaVu Sans Mono',consolas,'Courier New',monospace\">Source:Whether influenced by the club or by the wine he had drunk, Levin chatted with Vronsky about the best breeds\n",
       "of cattle, and was very pleased to find that he had not the least animosity toward the man.\n",
       "</pre>\n"
      ],
      "text/plain": [
       "Source:Whether influenced by the club or by the wine he had drunk, Levin chatted with Vronsky about the best breeds\n",
       "of cattle, and was very pleased to find that he had not the least animosity toward the man.\n"
      ]
     },
     "metadata": {},
     "output_type": "display_data"
    },
    {
     "data": {
      "text/html": [
       "<pre style=\"white-space:pre;overflow-x:auto;line-height:normal;font-family:Menlo,'DejaVu Sans Mono',consolas,'Courier New',monospace\">TARGET:Fosse sotto l’influsso del club, o del vino bevuto, Levin si mise a parlare con Vronskij della razza \n",
       "migliore di bestiame e fu molto contento di non sentir nessuna avversione per quell’uomo.\n",
       "</pre>\n"
      ],
      "text/plain": [
       "TARGET:Fosse sotto l’influsso del club, o del vino bevuto, Levin si mise a parlare con Vronskij della razza \n",
       "migliore di bestiame e fu molto contento di non sentir nessuna avversione per quell’uomo.\n"
      ]
     },
     "metadata": {},
     "output_type": "display_data"
    },
    {
     "data": {
      "text/html": [
       "<pre style=\"white-space:pre;overflow-x:auto;line-height:normal;font-family:Menlo,'DejaVu Sans Mono',consolas,'Courier New',monospace\">PREDICTED:E , in questo momento , in quel momento , che , in cui , Levin , Levin , Levin non si , e , come in modo \n",
       "che non si era stato in modo di non essere più .\n",
       "</pre>\n"
      ],
      "text/plain": [
       "PREDICTED:E , in questo momento , in quel momento , che , in cui , Levin , Levin , Levin non si , e , come in modo \n",
       "che non si era stato in modo di non essere più .\n"
      ]
     },
     "metadata": {},
     "output_type": "display_data"
    },
    {
     "data": {
      "text/html": [
       "<pre style=\"white-space:pre;overflow-x:auto;line-height:normal;font-family:Menlo,'DejaVu Sans Mono',consolas,'Courier New',monospace\"></pre>\n"
      ],
      "text/plain": []
     },
     "metadata": {},
     "output_type": "display_data"
    },
    {
     "data": {
      "text/html": [
       "<pre style=\"white-space:pre;overflow-x:auto;line-height:normal;font-family:Menlo,'DejaVu Sans Mono',consolas,'Courier New',monospace\">\n",
       "</pre>\n"
      ],
      "text/plain": [
       "\n"
      ]
     },
     "metadata": {},
     "output_type": "display_data"
    },
    {
     "data": {
      "application/vnd.jupyter.widget-view+json": {
       "model_id": "1479272c51b549d191bb9a5343a6a9a5",
       "version_major": 2,
       "version_minor": 0
      },
      "text/plain": [
       "Output()"
      ]
     },
     "metadata": {},
     "output_type": "display_data"
    },
    {
     "data": {
      "text/html": [
       "<pre style=\"white-space:pre;overflow-x:auto;line-height:normal;font-family:Menlo,'DejaVu Sans Mono',consolas,'Courier New',monospace\">Source:'Serpukhovskoy has arrived.'\n",
       "</pre>\n"
      ],
      "text/plain": [
       "Source:'Serpukhovskoy has arrived.'\n"
      ]
     },
     "metadata": {},
     "output_type": "display_data"
    },
    {
     "data": {
      "text/html": [
       "<pre style=\"white-space:pre;overflow-x:auto;line-height:normal;font-family:Menlo,'DejaVu Sans Mono',consolas,'Courier New',monospace\">TARGET:— È arrivato Serpuchovskoj.\n",
       "</pre>\n"
      ],
      "text/plain": [
       "TARGET:— È arrivato Serpuchovskoj.\n"
      ]
     },
     "metadata": {},
     "output_type": "display_data"
    },
    {
     "data": {
      "text/html": [
       "<pre style=\"white-space:pre;overflow-x:auto;line-height:normal;font-family:Menlo,'DejaVu Sans Mono',consolas,'Courier New',monospace\">PREDICTED:— Anna è molto .\n",
       "</pre>\n"
      ],
      "text/plain": [
       "PREDICTED:— Anna è molto .\n"
      ]
     },
     "metadata": {},
     "output_type": "display_data"
    },
    {
     "data": {
      "text/html": [
       "<pre style=\"white-space:pre;overflow-x:auto;line-height:normal;font-family:Menlo,'DejaVu Sans Mono',consolas,'Courier New',monospace\"></pre>\n"
      ],
      "text/plain": []
     },
     "metadata": {},
     "output_type": "display_data"
    },
    {
     "data": {
      "text/html": [
       "<pre style=\"white-space:pre;overflow-x:auto;line-height:normal;font-family:Menlo,'DejaVu Sans Mono',consolas,'Courier New',monospace\">\n",
       "</pre>\n"
      ],
      "text/plain": [
       "\n"
      ]
     },
     "metadata": {},
     "output_type": "display_data"
    },
    {
     "data": {
      "application/vnd.jupyter.widget-view+json": {
       "model_id": "154a633b2a8740be99268604cc61459a",
       "version_major": 2,
       "version_minor": 0
      },
      "text/plain": [
       "Output()"
      ]
     },
     "metadata": {},
     "output_type": "display_data"
    },
    {
     "data": {
      "text/html": [
       "<pre style=\"white-space:pre;overflow-x:auto;line-height:normal;font-family:Menlo,'DejaVu Sans Mono',consolas,'Courier New',monospace\">Source:\"Well?\" I said, as he again paused--\"proceed.\"\n",
       "</pre>\n"
      ],
      "text/plain": [
       "Source:\"Well?\" I said, as he again paused--\"proceed.\"\n"
      ]
     },
     "metadata": {},
     "output_type": "display_data"
    },
    {
     "data": {
      "text/html": [
       "<pre style=\"white-space:pre;overflow-x:auto;line-height:normal;font-family:Menlo,'DejaVu Sans Mono',consolas,'Courier New',monospace\">TARGET:— Bene, — dissi, quando tacque, — continuate.\n",
       "</pre>\n"
      ],
      "text/plain": [
       "TARGET:— Bene, — dissi, quando tacque, — continuate.\n"
      ]
     },
     "metadata": {},
     "output_type": "display_data"
    },
    {
     "data": {
      "text/html": [
       "<pre style=\"white-space:pre;overflow-x:auto;line-height:normal;font-family:Menlo,'DejaVu Sans Mono',consolas,'Courier New',monospace\">PREDICTED:— Ebbene ? — mi disse , — mi , — mi .\n",
       "</pre>\n"
      ],
      "text/plain": [
       "PREDICTED:— Ebbene ? — mi disse , — mi , — mi .\n"
      ]
     },
     "metadata": {},
     "output_type": "display_data"
    },
    {
     "data": {
      "text/html": [
       "<pre style=\"white-space:pre;overflow-x:auto;line-height:normal;font-family:Menlo,'DejaVu Sans Mono',consolas,'Courier New',monospace\"></pre>\n"
      ],
      "text/plain": []
     },
     "metadata": {},
     "output_type": "display_data"
    },
    {
     "data": {
      "text/html": [
       "<pre style=\"white-space:pre;overflow-x:auto;line-height:normal;font-family:Menlo,'DejaVu Sans Mono',consolas,'Courier New',monospace\">\n",
       "</pre>\n"
      ],
      "text/plain": [
       "\n"
      ]
     },
     "metadata": {},
     "output_type": "display_data"
    },
    {
     "data": {
      "application/vnd.jupyter.widget-view+json": {
       "model_id": "6a24ce10e52f474f8bb1c5d149ec7353",
       "version_major": 2,
       "version_minor": 0
      },
      "text/plain": [
       "Output()"
      ]
     },
     "metadata": {},
     "output_type": "display_data"
    },
    {
     "data": {
      "text/html": [
       "<pre style=\"white-space:pre;overflow-x:auto;line-height:normal;font-family:Menlo,'DejaVu Sans Mono',consolas,'Courier New',monospace\">Source:Among his favourite occupations was keeping a look out for his mother when he went out walking.\n",
       "</pre>\n"
      ],
      "text/plain": [
       "Source:Among his favourite occupations was keeping a look out for his mother when he went out walking.\n"
      ]
     },
     "metadata": {},
     "output_type": "display_data"
    },
    {
     "data": {
      "text/html": [
       "<pre style=\"white-space:pre;overflow-x:auto;line-height:normal;font-family:Menlo,'DejaVu Sans Mono',consolas,'Courier New',monospace\">TARGET:Nel numero delle occupazioni preferite da Serëza c’era la ricerca della madre durante la passeggiata.\n",
       "</pre>\n"
      ],
      "text/plain": [
       "TARGET:Nel numero delle occupazioni preferite da Serëza c’era la ricerca della madre durante la passeggiata.\n"
      ]
     },
     "metadata": {},
     "output_type": "display_data"
    },
    {
     "data": {
      "text/html": [
       "<pre style=\"white-space:pre;overflow-x:auto;line-height:normal;font-family:Menlo,'DejaVu Sans Mono',consolas,'Courier New',monospace\">PREDICTED:Tutti i suoi pensieri erano per la madre , quando egli entrò in silenzio .\n",
       "</pre>\n"
      ],
      "text/plain": [
       "PREDICTED:Tutti i suoi pensieri erano per la madre , quando egli entrò in silenzio .\n"
      ]
     },
     "metadata": {},
     "output_type": "display_data"
    },
    {
     "data": {
      "text/html": [
       "<pre style=\"white-space:pre;overflow-x:auto;line-height:normal;font-family:Menlo,'DejaVu Sans Mono',consolas,'Courier New',monospace\"></pre>\n"
      ],
      "text/plain": []
     },
     "metadata": {},
     "output_type": "display_data"
    },
    {
     "data": {
      "text/html": [
       "<pre style=\"white-space:pre;overflow-x:auto;line-height:normal;font-family:Menlo,'DejaVu Sans Mono',consolas,'Courier New',monospace\">\n",
       "</pre>\n"
      ],
      "text/plain": [
       "\n"
      ]
     },
     "metadata": {},
     "output_type": "display_data"
    },
    {
     "data": {
      "application/vnd.jupyter.widget-view+json": {
       "model_id": "b713196f963a43cf941f0870cf1c5c80",
       "version_major": 2,
       "version_minor": 0
      },
      "text/plain": [
       "Output()"
      ]
     },
     "metadata": {},
     "output_type": "display_data"
    },
    {
     "data": {
      "text/html": [
       "<pre style=\"white-space:pre;overflow-x:auto;line-height:normal;font-family:Menlo,'DejaVu Sans Mono',consolas,'Courier New',monospace\">Source:He dressed, and while the horse was being harnessed – for it was early, and no izvoshchiks were about yet – \n",
       "he ran back to the bedroom not on tiptoe but, as it seemed to him, on wings.\n",
       "</pre>\n"
      ],
      "text/plain": [
       "Source:He dressed, and while the horse was being harnessed – for it was early, and no izvoshchiks were about yet – \n",
       "he ran back to the bedroom not on tiptoe but, as it seemed to him, on wings.\n"
      ]
     },
     "metadata": {},
     "output_type": "display_data"
    },
    {
     "data": {
      "text/html": [
       "<pre style=\"white-space:pre;overflow-x:auto;line-height:normal;font-family:Menlo,'DejaVu Sans Mono',consolas,'Courier New',monospace\">TARGET:Egli si vestì e, mentre attaccavano i cavalli, poiché vetture da nolo non ce n’erano ancora, rientrò di \n",
       "corsa nella stanza da letto, non in punta di piedi, ma sulle ali, come gli sembrava.\n",
       "</pre>\n"
      ],
      "text/plain": [
       "TARGET:Egli si vestì e, mentre attaccavano i cavalli, poiché vetture da nolo non ce n’erano ancora, rientrò di \n",
       "corsa nella stanza da letto, non in punta di piedi, ma sulle ali, come gli sembrava.\n"
      ]
     },
     "metadata": {},
     "output_type": "display_data"
    },
    {
     "data": {
      "text/html": [
       "<pre style=\"white-space:pre;overflow-x:auto;line-height:normal;font-family:Menlo,'DejaVu Sans Mono',consolas,'Courier New',monospace\">PREDICTED:Si alzò e , dopo aver fatto il cavallo , era uscito da lui , non era ancora finito , e si diresse verso \n",
       "la scala , si diresse verso la scala , ma si sentiva che il vento si .\n",
       "</pre>\n"
      ],
      "text/plain": [
       "PREDICTED:Si alzò e , dopo aver fatto il cavallo , era uscito da lui , non era ancora finito , e si diresse verso \n",
       "la scala , si diresse verso la scala , ma si sentiva che il vento si .\n"
      ]
     },
     "metadata": {},
     "output_type": "display_data"
    },
    {
     "data": {
      "text/html": [
       "<pre style=\"white-space:pre;overflow-x:auto;line-height:normal;font-family:Menlo,'DejaVu Sans Mono',consolas,'Courier New',monospace\"></pre>\n"
      ],
      "text/plain": []
     },
     "metadata": {},
     "output_type": "display_data"
    },
    {
     "data": {
      "text/html": [
       "<pre style=\"white-space:pre;overflow-x:auto;line-height:normal;font-family:Menlo,'DejaVu Sans Mono',consolas,'Courier New',monospace\">\n",
       "</pre>\n"
      ],
      "text/plain": [
       "\n"
      ]
     },
     "metadata": {},
     "output_type": "display_data"
    },
    {
     "data": {
      "application/vnd.jupyter.widget-view+json": {
       "model_id": "46504f2bc41c4184a482576d6403dd9b",
       "version_major": 2,
       "version_minor": 0
      },
      "text/plain": [
       "Output()"
      ]
     },
     "metadata": {},
     "output_type": "display_data"
    },
    {
     "data": {
      "text/html": [
       "<pre style=\"white-space:pre;overflow-x:auto;line-height:normal;font-family:Menlo,'DejaVu Sans Mono',consolas,'Courier New',monospace\">Source:Travail, suffering, monstrous suffering, and that final moment... then nursing, sleepless nights, and that \n",
       "awful pain!'\n",
       "</pre>\n"
      ],
      "text/plain": [
       "Source:Travail, suffering, monstrous suffering, and that final moment... then nursing, sleepless nights, and that \n",
       "awful pain!'\n"
      ]
     },
     "metadata": {},
     "output_type": "display_data"
    },
    {
     "data": {
      "text/html": [
       "<pre style=\"white-space:pre;overflow-x:auto;line-height:normal;font-family:Menlo,'DejaVu Sans Mono',consolas,'Courier New',monospace\">TARGET:Il parto, le sofferenze mostruose, quegli ultimi momenti... poi l’allattamento, quelle notti insonni, quei \n",
       "dolori terribili...”.\n",
       "</pre>\n"
      ],
      "text/plain": [
       "TARGET:Il parto, le sofferenze mostruose, quegli ultimi momenti... poi l’allattamento, quelle notti insonni, quei \n",
       "dolori terribili...”.\n"
      ]
     },
     "metadata": {},
     "output_type": "display_data"
    },
    {
     "data": {
      "text/html": [
       "<pre style=\"white-space:pre;overflow-x:auto;line-height:normal;font-family:Menlo,'DejaVu Sans Mono',consolas,'Courier New',monospace\">PREDICTED:, ahi , ahi , ahi , che l ’ idea di questo , e che ora la terra è così terribile !\n",
       "</pre>\n"
      ],
      "text/plain": [
       "PREDICTED:, ahi , ahi , ahi , che l ’ idea di questo , e che ora la terra è così terribile !\n"
      ]
     },
     "metadata": {},
     "output_type": "display_data"
    },
    {
     "data": {
      "text/html": [
       "<pre style=\"white-space:pre;overflow-x:auto;line-height:normal;font-family:Menlo,'DejaVu Sans Mono',consolas,'Courier New',monospace\"></pre>\n"
      ],
      "text/plain": []
     },
     "metadata": {},
     "output_type": "display_data"
    },
    {
     "data": {
      "text/html": [
       "<pre style=\"white-space:pre;overflow-x:auto;line-height:normal;font-family:Menlo,'DejaVu Sans Mono',consolas,'Courier New',monospace\">\n",
       "</pre>\n"
      ],
      "text/plain": [
       "\n"
      ]
     },
     "metadata": {},
     "output_type": "display_data"
    },
    {
     "data": {
      "application/vnd.jupyter.widget-view+json": {
       "model_id": "05e6e2da5c1040c1802b5d7ae48035c7",
       "version_major": 2,
       "version_minor": 0
      },
      "text/plain": [
       "Output()"
      ]
     },
     "metadata": {},
     "output_type": "display_data"
    },
    {
     "data": {
      "text/html": [
       "<pre style=\"white-space:pre;overflow-x:auto;line-height:normal;font-family:Menlo,'DejaVu Sans Mono',consolas,'Courier New',monospace\">Source:\"Why, bless us, where's your eyes?\" was the man's comment, as he twisted George round and pointed up and \n",
       "down the stream. \"There's enough of it to see, ain't there?\"\n",
       "</pre>\n"
      ],
      "text/plain": [
       "Source:\"Why, bless us, where's your eyes?\" was the man's comment, as he twisted George round and pointed up and \n",
       "down the stream. \"There's enough of it to see, ain't there?\"\n"
      ]
     },
     "metadata": {},
     "output_type": "display_data"
    },
    {
     "data": {
      "text/html": [
       "<pre style=\"white-space:pre;overflow-x:auto;line-height:normal;font-family:Menlo,'DejaVu Sans Mono',consolas,'Courier New',monospace\">TARGET:— Che Dio vi benedica, dove avete gli occhi? — commentò l’altro, facendo voltare Giorgio e indicando la \n",
       "corrente su e giù. — Se ne vede abbastanza, no?\n",
       "</pre>\n"
      ],
      "text/plain": [
       "TARGET:— Che Dio vi benedica, dove avete gli occhi? — commentò l’altro, facendo voltare Giorgio e indicando la \n",
       "corrente su e giù. — Se ne vede abbastanza, no?\n"
      ]
     },
     "metadata": {},
     "output_type": "display_data"
    },
    {
     "data": {
      "text/html": [
       "<pre style=\"white-space:pre;overflow-x:auto;line-height:normal;font-family:Menlo,'DejaVu Sans Mono',consolas,'Courier New',monospace\">PREDICTED:— Ma , se ci ? — disse il tuo uomo , e mentre egli si mise a guardare Giorgio e a il fiume . — Non c ’ è \n",
       "bisogno di vedere ?\n",
       "</pre>\n"
      ],
      "text/plain": [
       "PREDICTED:— Ma , se ci ? — disse il tuo uomo , e mentre egli si mise a guardare Giorgio e a il fiume . — Non c ’ è \n",
       "bisogno di vedere ?\n"
      ]
     },
     "metadata": {},
     "output_type": "display_data"
    },
    {
     "data": {
      "text/html": [
       "<pre style=\"white-space:pre;overflow-x:auto;line-height:normal;font-family:Menlo,'DejaVu Sans Mono',consolas,'Courier New',monospace\"></pre>\n"
      ],
      "text/plain": []
     },
     "metadata": {},
     "output_type": "display_data"
    },
    {
     "data": {
      "text/html": [
       "<pre style=\"white-space:pre;overflow-x:auto;line-height:normal;font-family:Menlo,'DejaVu Sans Mono',consolas,'Courier New',monospace\">\n",
       "</pre>\n"
      ],
      "text/plain": [
       "\n"
      ]
     },
     "metadata": {},
     "output_type": "display_data"
    },
    {
     "data": {
      "application/vnd.jupyter.widget-view+json": {
       "model_id": "0ab5b7a7ee7a425bbcebb8727e62b415",
       "version_major": 2,
       "version_minor": 0
      },
      "text/plain": [
       "Output()"
      ]
     },
     "metadata": {},
     "output_type": "display_data"
    },
    {
     "data": {
      "text/html": [
       "<pre style=\"white-space:pre;overflow-x:auto;line-height:normal;font-family:Menlo,'DejaVu Sans Mono',consolas,'Courier New',monospace\">Source:Some of the peasants went to put on their coats; others as well as Levin felt pleasure in the refreshing \n",
       "rain and merely moved their shoulders up and down.\n",
       "</pre>\n"
      ],
      "text/plain": [
       "Source:Some of the peasants went to put on their coats; others as well as Levin felt pleasure in the refreshing \n",
       "rain and merely moved their shoulders up and down.\n"
      ]
     },
     "metadata": {},
     "output_type": "display_data"
    },
    {
     "data": {
      "text/html": [
       "<pre style=\"white-space:pre;overflow-x:auto;line-height:normal;font-family:Menlo,'DejaVu Sans Mono',consolas,'Courier New',monospace\">TARGET:Alcuni contadini corsero ai gabbani e se li infilarono; altri, come Levin, si strinsero nelle spalle con \n",
       "gioia sotto la piacevole rinfrescata.\n",
       "</pre>\n"
      ],
      "text/plain": [
       "TARGET:Alcuni contadini corsero ai gabbani e se li infilarono; altri, come Levin, si strinsero nelle spalle con \n",
       "gioia sotto la piacevole rinfrescata.\n"
      ]
     },
     "metadata": {},
     "output_type": "display_data"
    },
    {
     "data": {
      "text/html": [
       "<pre style=\"white-space:pre;overflow-x:auto;line-height:normal;font-family:Menlo,'DejaVu Sans Mono',consolas,'Courier New',monospace\">PREDICTED:Alcune persone che andavano via i contadini si alzarono ; e tutti si alzarono per la pioggia , si \n",
       "alzarono e si alzarono .\n",
       "</pre>\n"
      ],
      "text/plain": [
       "PREDICTED:Alcune persone che andavano via i contadini si alzarono ; e tutti si alzarono per la pioggia , si \n",
       "alzarono e si alzarono .\n"
      ]
     },
     "metadata": {},
     "output_type": "display_data"
    },
    {
     "data": {
      "text/html": [
       "<pre style=\"white-space:pre;overflow-x:auto;line-height:normal;font-family:Menlo,'DejaVu Sans Mono',consolas,'Courier New',monospace\"></pre>\n"
      ],
      "text/plain": []
     },
     "metadata": {},
     "output_type": "display_data"
    },
    {
     "data": {
      "text/html": [
       "<pre style=\"white-space:pre;overflow-x:auto;line-height:normal;font-family:Menlo,'DejaVu Sans Mono',consolas,'Courier New',monospace\">\n",
       "</pre>\n"
      ],
      "text/plain": [
       "\n"
      ]
     },
     "metadata": {},
     "output_type": "display_data"
    },
    {
     "data": {
      "application/vnd.jupyter.widget-view+json": {
       "model_id": "5034e71e9f944a8ba6beb1e49360f399",
       "version_major": 2,
       "version_minor": 0
      },
      "text/plain": [
       "Output()"
      ]
     },
     "metadata": {},
     "output_type": "display_data"
    },
    {
     "data": {
      "text/html": [
       "<pre style=\"white-space:pre;overflow-x:auto;line-height:normal;font-family:Menlo,'DejaVu Sans Mono',consolas,'Courier New',monospace\">Source:And she is on your side.'\n",
       "</pre>\n"
      ],
      "text/plain": [
       "Source:And she is on your side.'\n"
      ]
     },
     "metadata": {},
     "output_type": "display_data"
    },
    {
     "data": {
      "text/html": [
       "<pre style=\"white-space:pre;overflow-x:auto;line-height:normal;font-family:Menlo,'DejaVu Sans Mono',consolas,'Courier New',monospace\">TARGET:Ebbene, lei è dalla parte tua.\n",
       "</pre>\n"
      ],
      "text/plain": [
       "TARGET:Ebbene, lei è dalla parte tua.\n"
      ]
     },
     "metadata": {},
     "output_type": "display_data"
    },
    {
     "data": {
      "text/html": [
       "<pre style=\"white-space:pre;overflow-x:auto;line-height:normal;font-family:Menlo,'DejaVu Sans Mono',consolas,'Courier New',monospace\">PREDICTED:E è in piedi .\n",
       "</pre>\n"
      ],
      "text/plain": [
       "PREDICTED:E è in piedi .\n"
      ]
     },
     "metadata": {},
     "output_type": "display_data"
    },
    {
     "name": "stderr",
     "output_type": "stream",
     "text": [
      "`Trainer.fit` stopped: `max_epochs=10` reached.\n"
     ]
    },
    {
     "data": {
      "text/html": [
       "<pre style=\"white-space:pre;overflow-x:auto;line-height:normal;font-family:Menlo,'DejaVu Sans Mono',consolas,'Courier New',monospace\"></pre>\n"
      ],
      "text/plain": []
     },
     "metadata": {},
     "output_type": "display_data"
    },
    {
     "data": {
      "text/html": [
       "<pre style=\"white-space:pre;overflow-x:auto;line-height:normal;font-family:Menlo,'DejaVu Sans Mono',consolas,'Courier New',monospace\">\n",
       "</pre>\n"
      ],
      "text/plain": [
       "\n"
      ]
     },
     "metadata": {},
     "output_type": "display_data"
    }
   ],
   "source": [
    "trainer = Trainer(\n",
    "    gpus=1,\n",
    "    max_epochs = 10,\n",
    "    callbacks = RichProgressBar(leave=True),\n",
    ")\n",
    "model = lit_module()\n",
    "# Train the PyTorch Lightning model\n",
    "trainer.fit(model)"
   ]
  },
  {
   "cell_type": "code",
   "execution_count": null,
   "metadata": {},
   "outputs": [],
   "source": []
  },
  {
   "cell_type": "code",
   "execution_count": null,
   "metadata": {},
   "outputs": [],
   "source": []
  }
 ],
 "metadata": {
  "kernelspec": {
   "display_name": "Python 3",
   "language": "python",
   "name": "python3"
  },
  "language_info": {
   "codemirror_mode": {
    "name": "ipython",
    "version": 3
   },
   "file_extension": ".py",
   "mimetype": "text/x-python",
   "name": "python",
   "nbconvert_exporter": "python",
   "pygments_lexer": "ipython3",
   "version": "3.7.6"
  }
 },
 "nbformat": 4,
 "nbformat_minor": 4
}
